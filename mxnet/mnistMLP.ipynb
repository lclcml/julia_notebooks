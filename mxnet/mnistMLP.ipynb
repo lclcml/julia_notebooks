{
 "cells": [
  {
   "cell_type": "markdown",
   "metadata": {},
   "source": [
    "# Introduction"
   ]
  },
  {
   "cell_type": "markdown",
   "metadata": {},
   "source": [
    "This notebook is focused on the basics of using [MXNet](http://mxnet.io/) in [Julia](http://julialang.org/) to create a simple Multilayer Perceptron (MLP). This basic neural network building block is described more fully in [Wikipedia](https://en.wikipedia.org/wiki/Multilayer_perceptron).  \n",
    "\n",
    "We will be making predictions on the famous MNIST data set, which is a labeled set of individual handwritten digits from zero to nine.  A brief description is available in [Wikipedia](https://en.wikipedia.org/wiki/MNIST_database). The data is available at http://yann.lecun.com/exdb/mnist/, where there are also descriptions of the effectiveness of the different approaches applied to this data and references to related papers.  Instead of this source, however, I will be using the data from [Kaggle](http://kaggle.com/) as I have learned a lot from the competitions there and like to use it as an example.\n",
    "\n",
    "I also intend to use this as brief tutorial on looking at data using the [Julia](http://julialang.org/) language.  It assumes some basic knowledge of Julia, although someone who knows Python or R could probably figure it all out."
   ]
  },
  {
   "cell_type": "markdown",
   "metadata": {},
   "source": [
    "# Get data\n",
    "\n",
    "You can get the data from https://www.kaggle.com/c/digit-recognizer/data.  The Kaggle website describes the files as follows:\n",
    "\n",
    ">The data files `train.csv` and `test.csv` contain gray-scale images of hand-drawn digits, from zero through nine.\n",
    "\n",
    ">Each image is 28 pixels in height and 28 pixels in width, for a total of 784 pixels in total. Each pixel has a single pixel-value associated with it, indicating the lightness or darkness of that pixel, with higher numbers meaning darker. This pixel-value is an integer between 0 and 255, inclusive.\n",
    "\n",
    ">The training data set, `train.csv`, has 785 columns. The first column, called \"label\", is the digit that was drawn by the user. The rest of the columns contain the pixel-values of the associated image.\n",
    "\n",
    ">Each pixel column in the training set has a name like pixelx, where x is an integer between 0 and 783, inclusive. To locate this pixel on the image, suppose that we have decomposed x as x = i * 28 + j, where i and j are integers between 0 and 27, inclusive. Then pixelx is located on row i and column j of a 28 x 28 matrix, (indexing by zero).\n",
    "\n",
    ">For example, pixel31 indicates the pixel that is in the fourth column from the left, and the second row from the top, as in the ascii-diagram below.\n",
    "\n",
    ">Visually, if we omit the \"pixel\" prefix, the pixels make up the image like this:\n",
    "```\n",
    "000 001 002 003 ... 026 027\n",
    "028 029 030 031 ... 054 055\n",
    "056 057 058 059 ... 082 083\n",
    " |   |   |   |  ...  |   |\n",
    "728 729 730 731 ... 754 755\n",
    "756 757 758 759 ... 782 783 \n",
    "```\n",
    "The test data set, `test.csv`, is the same as the training set, except that it does not contain the \"label\" column.\n",
    "\n",
    ">Your submission file should be in the following format: For each of the 28000 images in the test set, output a single line with the digit you predict. For example, if you predict that the first image is of a 3, the second image is of a 7, and the third image is of a 8, then your submission file would look like:\n",
    "\n",
    ">3\n",
    "\n",
    ">7\n",
    "\n",
    ">8\n",
    "\n",
    ">(27997 more lines)\n",
    "\n",
    "\n",
    "Of course, we can learn a lot of this by just looking at the data. The code below assumes you downloaded the csv files and put them in a folder named `data`."
   ]
  },
  {
   "cell_type": "code",
   "execution_count": 3,
   "metadata": {
    "collapsed": false,
    "jupyter": {
     "outputs_hidden": false
    }
   },
   "outputs": [],
   "source": [
    "using DataFrames, CSV"
   ]
  },
  {
   "cell_type": "markdown",
   "metadata": {},
   "source": [
    "A few comments for those new to Julia.  Most people start working with the REPL where the contents of any line you type is immediately evaluated and returned.  Working with Jupyter notebooks using iJulia allows the possibility of depicting such results graphically, and in the case of `DataFrames`, they are rendered in a nice tabular format.  In this case, by following the line with a semicolon, I will suppress the normal output as I don't want to potentially clutter the notebook with a table that has 42000 rows in it.  I encourage you to download this notebook and experiment with it, removing the semicolon and seeing what the raw data looks like.  Of course, you can use functions like `head()` and `tail()` as demonstrated in the [Stats](#Stats) section.\n",
    "\n",
    "I am also using the `@time` macro here to as I like to track how long different processes take and memory involved.  You can delete the leading `@time` from any command line if you just want to execute the operation."
   ]
  },
  {
   "cell_type": "code",
   "execution_count": 4,
   "metadata": {
    "collapsed": false,
    "jupyter": {
     "outputs_hidden": false
    },
    "scrolled": true
   },
   "outputs": [
    {
     "name": "stdout",
     "output_type": "stream",
     "text": [
      "  6.867796 seconds (15.87 M allocations: 751.361 MiB, 6.01% gc time)\n"
     ]
    }
   ],
   "source": [
    "@time train = CSV.read(\"data/train.csv\");"
   ]
  },
  {
   "cell_type": "code",
   "execution_count": 8,
   "metadata": {},
   "outputs": [
    {
     "data": {
      "text/html": [
       "<table class=\"data-frame\"><thead><tr><th></th><th>label</th><th>pixel0</th><th>pixel1</th><th>pixel2</th><th>pixel3</th><th>pixel4</th><th>pixel5</th><th>pixel6</th><th>pixel7</th><th>pixel8</th><th>pixel9</th></tr><tr><th></th><th>Int64</th><th>Int64</th><th>Int64</th><th>Int64</th><th>Int64</th><th>Int64</th><th>Int64</th><th>Int64</th><th>Int64</th><th>Int64</th><th>Int64</th></tr></thead><tbody><p>6 rows × 785 columns (omitted printing of 774 columns)</p><tr><th>1</th><td>1</td><td>0</td><td>0</td><td>0</td><td>0</td><td>0</td><td>0</td><td>0</td><td>0</td><td>0</td><td>0</td></tr><tr><th>2</th><td>0</td><td>0</td><td>0</td><td>0</td><td>0</td><td>0</td><td>0</td><td>0</td><td>0</td><td>0</td><td>0</td></tr><tr><th>3</th><td>1</td><td>0</td><td>0</td><td>0</td><td>0</td><td>0</td><td>0</td><td>0</td><td>0</td><td>0</td><td>0</td></tr><tr><th>4</th><td>4</td><td>0</td><td>0</td><td>0</td><td>0</td><td>0</td><td>0</td><td>0</td><td>0</td><td>0</td><td>0</td></tr><tr><th>5</th><td>0</td><td>0</td><td>0</td><td>0</td><td>0</td><td>0</td><td>0</td><td>0</td><td>0</td><td>0</td><td>0</td></tr><tr><th>6</th><td>0</td><td>0</td><td>0</td><td>0</td><td>0</td><td>0</td><td>0</td><td>0</td><td>0</td><td>0</td><td>0</td></tr></tbody></table>"
      ],
      "text/latex": [
       "\\begin{tabular}{r|cccccccccccc}\n",
       "\t& label & pixel0 & pixel1 & pixel2 & pixel3 & pixel4 & pixel5 & pixel6 & pixel7 & pixel8 & pixel9 & \\\\\n",
       "\t\\hline\n",
       "\t& Int64 & Int64 & Int64 & Int64 & Int64 & Int64 & Int64 & Int64 & Int64 & Int64 & Int64 & \\\\\n",
       "\t\\hline\n",
       "\t1 & 1 & 0 & 0 & 0 & 0 & 0 & 0 & 0 & 0 & 0 & 0 & $\\dots$ \\\\\n",
       "\t2 & 0 & 0 & 0 & 0 & 0 & 0 & 0 & 0 & 0 & 0 & 0 & $\\dots$ \\\\\n",
       "\t3 & 1 & 0 & 0 & 0 & 0 & 0 & 0 & 0 & 0 & 0 & 0 & $\\dots$ \\\\\n",
       "\t4 & 4 & 0 & 0 & 0 & 0 & 0 & 0 & 0 & 0 & 0 & 0 & $\\dots$ \\\\\n",
       "\t5 & 0 & 0 & 0 & 0 & 0 & 0 & 0 & 0 & 0 & 0 & 0 & $\\dots$ \\\\\n",
       "\t6 & 0 & 0 & 0 & 0 & 0 & 0 & 0 & 0 & 0 & 0 & 0 & $\\dots$ \\\\\n",
       "\\end{tabular}\n"
      ],
      "text/plain": [
       "6×785 DataFrame. Omitted printing of 777 columns\n",
       "│ Row │ label │ pixel0 │ pixel1 │ pixel2 │ pixel3 │ pixel4 │ pixel5 │ pixel6 │\n",
       "│     │ \u001b[90mInt64\u001b[39m │ \u001b[90mInt64\u001b[39m  │ \u001b[90mInt64\u001b[39m  │ \u001b[90mInt64\u001b[39m  │ \u001b[90mInt64\u001b[39m  │ \u001b[90mInt64\u001b[39m  │ \u001b[90mInt64\u001b[39m  │ \u001b[90mInt64\u001b[39m  │\n",
       "├─────┼───────┼────────┼────────┼────────┼────────┼────────┼────────┼────────┤\n",
       "│ 1   │ 1     │ 0      │ 0      │ 0      │ 0      │ 0      │ 0      │ 0      │\n",
       "│ 2   │ 0     │ 0      │ 0      │ 0      │ 0      │ 0      │ 0      │ 0      │\n",
       "│ 3   │ 1     │ 0      │ 0      │ 0      │ 0      │ 0      │ 0      │ 0      │\n",
       "│ 4   │ 4     │ 0      │ 0      │ 0      │ 0      │ 0      │ 0      │ 0      │\n",
       "│ 5   │ 0     │ 0      │ 0      │ 0      │ 0      │ 0      │ 0      │ 0      │\n",
       "│ 6   │ 0     │ 0      │ 0      │ 0      │ 0      │ 0      │ 0      │ 0      │"
      ]
     },
     "execution_count": 8,
     "metadata": {},
     "output_type": "execute_result"
    }
   ],
   "source": [
    "first(train, 6)"
   ]
  },
  {
   "cell_type": "code",
   "execution_count": 5,
   "metadata": {
    "collapsed": false,
    "jupyter": {
     "outputs_hidden": false
    }
   },
   "outputs": [
    {
     "data": {
      "text/plain": [
       "(42000, 785)"
      ]
     },
     "execution_count": 5,
     "metadata": {},
     "output_type": "execute_result"
    }
   ],
   "source": [
    "# to get the size/shape of the DataFrame\n",
    "size(train)"
   ]
  },
  {
   "cell_type": "code",
   "execution_count": 16,
   "metadata": {
    "collapsed": false,
    "jupyter": {
     "outputs_hidden": false
    }
   },
   "outputs": [
    {
     "data": {
      "text/plain": [
       "28×28 Array{Int64,2}:\n",
       " 0  0  0  0    0    0    0    0    0  …    0    0    0    0    0  0  0  0  0\n",
       " 0  0  0  0    0    0    0    0    0       0    0    0    0    0  0  0  0  0\n",
       " 0  0  0  0    0    0    0    0    0       0    0    0    0    0  0  0  0  0\n",
       " 0  0  0  0    0    0    0    0    0       0    0    0    0    0  0  0  0  0\n",
       " 0  0  0  0    0    0    0    0    0       0    0    0    0    0  0  0  0  0\n",
       " 0  0  0  0    0    0    0    0    0  …    0    0    0    0    0  0  0  0  0\n",
       " 0  0  0  0    0    0    0    0    0       0    0    0    0    0  0  0  0  0\n",
       " 0  0  0  0    0    0    0    0    0       0   15   94   89    0  0  0  0  0\n",
       " 0  0  0  0    0    0    0    0    0      89  220  253  251  214  0  0  0  0\n",
       " 0  0  0  0    0    0    0    0    0     240  253  253  253  218  0  0  0  0\n",
       " 0  0  0  0    0    0    0    0    0  …  253  253  253  250   95  0  0  0  0\n",
       " 0  0  0  0    0    0    0    0    0     195   80   94  131    0  0  0  0  0\n",
       " 0  0  0  0    0    0    0    0    0      25    0    0    0    0  0  0  0  0\n",
       " ⋮                  ⋮                 ⋱         ⋮                    ⋮      \n",
       " 0  0  0  0    0    0    0    0   29       0    0    0    0    0  0  0  0  0\n",
       " 0  0  0  0    0    0    0   80  207       0    0    0    0    0  0  0  0  0\n",
       " 0  0  0  0    0    0  123  247  253       0    0    0    0    0  0  0  0  0\n",
       " 0  0  0  0    0  191  248  253  235       0    0    0    0    0  0  0  0  0\n",
       " 0  0  0  0  188  250  253  208   77  …    0    0    0    0    0  0  0  0  0\n",
       " 0  0  0  0  255  253  167   13    0       0    0    0    0    0  0  0  0  0\n",
       " 0  0  0  0   94   93   10    0    0       0    0    0    0    0  0  0  0  0\n",
       " 0  0  0  0    0    0    0    0    0       0    0    0    0    0  0  0  0  0\n",
       " 0  0  0  0    0    0    0    0    0       0    0    0    0    0  0  0  0  0\n",
       " 0  0  0  0    0    0    0    0    0  …    0    0    0    0    0  0  0  0  0\n",
       " 0  0  0  0    0    0    0    0    0       0    0    0    0    0  0  0  0  0\n",
       " 0  0  0  0    0    0    0    0    0       0    0    0    0    0  0  0  0  0"
      ]
     },
     "execution_count": 16,
     "metadata": {},
     "output_type": "execute_result"
    }
   ],
   "source": [
    "# first element is label, rest is 28x28=784 pixel values, so to look at first row\n",
    "reshape([train[1,col] for col in 2:785], 28, 28)"
   ]
  },
  {
   "cell_type": "markdown",
   "metadata": {},
   "source": [
    "# Plot"
   ]
  },
  {
   "cell_type": "markdown",
   "metadata": {},
   "source": [
    "There are several plotting libraries available for Julia. [Plots.jl](https://juliaplots.github.io/) is one of my favorites as it is developing an excellent ecosystem that allows multiple backends including [PyPlot](https://github.com/JuliaPy/PyPlot.jl) which is a wrapper around [Matplotlib](http://matplotlib.org/) and [Plotly](https://github.com/sglyon/PlotlyJS.jl) which is an interface to the [plotly.js](https://plot.ly/javascript) visualization library. Use StatPlots if you want to plot a DataFrame directly."
   ]
  },
  {
   "cell_type": "code",
   "execution_count": 17,
   "metadata": {
    "collapsed": false,
    "jupyter": {
     "outputs_hidden": false
    }
   },
   "outputs": [
    {
     "name": "stderr",
     "output_type": "stream",
     "text": [
      "┌ Info: Recompiling stale cache file /home/milton/.julia/compiled/v1.1/PyPlot/oatAj.ji for PyPlot [d330b81b-6aea-500a-939a-2ce795aea3ee]\n",
      "└ @ Base loading.jl:1184\n"
     ]
    },
    {
     "data": {
      "text/plain": [
       "Plots.PyPlotBackend()"
      ]
     },
     "execution_count": 17,
     "metadata": {},
     "output_type": "execute_result"
    }
   ],
   "source": [
    "using Plots\n",
    "# I like Plotly for interactivity.  \n",
    "plotly(legend=false)\n",
    "# to use it on GitHub, you have to setup Plotly Online and inject their code into the notebook\n",
    "#  so just switch to PyPlot\n",
    "pyplot()"
   ]
  },
  {
   "cell_type": "code",
   "execution_count": 18,
   "metadata": {
    "collapsed": false,
    "jupyter": {
     "outputs_hidden": false
    }
   },
   "outputs": [
    {
     "name": "stdout",
     "output_type": "stream",
     "text": [
      " 12.920942 seconds (27.09 M allocations: 1.324 GiB, 7.05% gc time)\n"
     ]
    },
    {
     "data": {
      "image/png": "[encoded data removed]"
     },
     "execution_count": 18,
     "metadata": {},
     "output_type": "execute_result"
    }
   ],
   "source": [
    "# heatmap() plots a 2D array\n",
    "@time heatmap(reshape([train[1,col] for col in 2:785], 28, 28), aspect_ratio=:equal)"
   ]
  },
  {
   "cell_type": "code",
   "execution_count": 19,
   "metadata": {
    "collapsed": false,
    "jupyter": {
     "outputs_hidden": false
    }
   },
   "outputs": [
    {
     "name": "stdout",
     "output_type": "stream",
     "text": [
      "  0.071421 seconds (110.27 k allocations: 5.517 MiB)\n"
     ]
    },
    {
     "data": {
      "image/png": "[encoded data removed]"
     },
     "execution_count": 19,
     "metadata": {},
     "output_type": "execute_result"
    }
   ],
   "source": [
    "# to see it upright, use the rotl90() function to rotate left 90 degrees\n",
    "# there are also rotr90() and rot180() functions\n",
    "@time heatmap(rotl90(reshape([train[1,col] for col in 2:785], 28, 28)), aspect_ratio=:equal)"
   ]
  },
  {
   "cell_type": "code",
   "execution_count": 20,
   "metadata": {
    "collapsed": false,
    "jupyter": {
     "outputs_hidden": false
    }
   },
   "outputs": [
    {
     "data": {
      "image/png": "[encoded data removed]"
     },
     "execution_count": 20,
     "metadata": {},
     "output_type": "execute_result"
    }
   ],
   "source": [
    "# we can use an array comprehension to plot the first sixteen rows\n",
    "# the Plots library automatically resizes everything for you and adds the axes\n",
    "plot([heatmap(rotl90(reshape([train[i,col] for col in 2:785], 28, 28)), aspect_ratio=:equal) for i=1:16]...)"
   ]
  },
  {
   "cell_type": "markdown",
   "metadata": {},
   "source": [
    "# Stats"
   ]
  },
  {
   "cell_type": "markdown",
   "metadata": {},
   "source": [
    "Now that we have confirmed that the data really are characters that are arranged as described in the data description, we will take a brief eyeball on the data just to make sure there is nothing strange."
   ]
  },
  {
   "cell_type": "code",
   "execution_count": 21,
   "metadata": {
    "collapsed": false,
    "jupyter": {
     "outputs_hidden": false
    }
   },
   "outputs": [
    {
     "data": {
      "text/plain": [
       "\"42000×785 DataFrame\""
      ]
     },
     "execution_count": 21,
     "metadata": {},
     "output_type": "execute_result"
    }
   ],
   "source": [
    "# note that summary in Julia just gives basic information as it is supposed to work on ANY datatype\n",
    "summary(train)"
   ]
  },
  {
   "cell_type": "code",
   "execution_count": 22,
   "metadata": {
    "collapsed": false,
    "jupyter": {
     "outputs_hidden": false
    }
   },
   "outputs": [
    {
     "data": {
      "text/html": [
       "<table class=\"data-frame\"><thead><tr><th></th><th>variable</th><th>mean</th><th>min</th><th>median</th><th>max</th><th>nunique</th><th>nmissing</th><th>eltype</th></tr><tr><th></th><th>Symbol</th><th>Float64</th><th>Int64</th><th>Float64</th><th>Int64</th><th>Nothing</th><th>Nothing</th><th>DataType</th></tr></thead><tbody><p>785 rows × 8 columns</p><tr><th>1</th><td>label</td><td>4.45664</td><td>0</td><td>4.0</td><td>9</td><td></td><td></td><td>Int64</td></tr><tr><th>2</th><td>pixel0</td><td>0.0</td><td>0</td><td>0.0</td><td>0</td><td></td><td></td><td>Int64</td></tr><tr><th>3</th><td>pixel1</td><td>0.0</td><td>0</td><td>0.0</td><td>0</td><td></td><td></td><td>Int64</td></tr><tr><th>4</th><td>pixel2</td><td>0.0</td><td>0</td><td>0.0</td><td>0</td><td></td><td></td><td>Int64</td></tr><tr><th>5</th><td>pixel3</td><td>0.0</td><td>0</td><td>0.0</td><td>0</td><td></td><td></td><td>Int64</td></tr><tr><th>6</th><td>pixel4</td><td>0.0</td><td>0</td><td>0.0</td><td>0</td><td></td><td></td><td>Int64</td></tr><tr><th>7</th><td>pixel5</td><td>0.0</td><td>0</td><td>0.0</td><td>0</td><td></td><td></td><td>Int64</td></tr><tr><th>8</th><td>pixel6</td><td>0.0</td><td>0</td><td>0.0</td><td>0</td><td></td><td></td><td>Int64</td></tr><tr><th>9</th><td>pixel7</td><td>0.0</td><td>0</td><td>0.0</td><td>0</td><td></td><td></td><td>Int64</td></tr><tr><th>10</th><td>pixel8</td><td>0.0</td><td>0</td><td>0.0</td><td>0</td><td></td><td></td><td>Int64</td></tr><tr><th>11</th><td>pixel9</td><td>0.0</td><td>0</td><td>0.0</td><td>0</td><td></td><td></td><td>Int64</td></tr><tr><th>12</th><td>pixel10</td><td>0.0</td><td>0</td><td>0.0</td><td>0</td><td></td><td></td><td>Int64</td></tr><tr><th>13</th><td>pixel11</td><td>0.0</td><td>0</td><td>0.0</td><td>0</td><td></td><td></td><td>Int64</td></tr><tr><th>14</th><td>pixel12</td><td>0.003</td><td>0</td><td>0.0</td><td>116</td><td></td><td></td><td>Int64</td></tr><tr><th>15</th><td>pixel13</td><td>0.0111905</td><td>0</td><td>0.0</td><td>254</td><td></td><td></td><td>Int64</td></tr><tr><th>16</th><td>pixel14</td><td>0.00514286</td><td>0</td><td>0.0</td><td>216</td><td></td><td></td><td>Int64</td></tr><tr><th>17</th><td>pixel15</td><td>0.000214286</td><td>0</td><td>0.0</td><td>9</td><td></td><td></td><td>Int64</td></tr><tr><th>18</th><td>pixel16</td><td>0.0</td><td>0</td><td>0.0</td><td>0</td><td></td><td></td><td>Int64</td></tr><tr><th>19</th><td>pixel17</td><td>0.0</td><td>0</td><td>0.0</td><td>0</td><td></td><td></td><td>Int64</td></tr><tr><th>20</th><td>pixel18</td><td>0.0</td><td>0</td><td>0.0</td><td>0</td><td></td><td></td><td>Int64</td></tr><tr><th>21</th><td>pixel19</td><td>0.0</td><td>0</td><td>0.0</td><td>0</td><td></td><td></td><td>Int64</td></tr><tr><th>22</th><td>pixel20</td><td>0.0</td><td>0</td><td>0.0</td><td>0</td><td></td><td></td><td>Int64</td></tr><tr><th>23</th><td>pixel21</td><td>0.0</td><td>0</td><td>0.0</td><td>0</td><td></td><td></td><td>Int64</td></tr><tr><th>24</th><td>pixel22</td><td>0.0</td><td>0</td><td>0.0</td><td>0</td><td></td><td></td><td>Int64</td></tr><tr><th>25</th><td>pixel23</td><td>0.0</td><td>0</td><td>0.0</td><td>0</td><td></td><td></td><td>Int64</td></tr><tr><th>26</th><td>pixel24</td><td>0.0</td><td>0</td><td>0.0</td><td>0</td><td></td><td></td><td>Int64</td></tr><tr><th>27</th><td>pixel25</td><td>0.0</td><td>0</td><td>0.0</td><td>0</td><td></td><td></td><td>Int64</td></tr><tr><th>28</th><td>pixel26</td><td>0.0</td><td>0</td><td>0.0</td><td>0</td><td></td><td></td><td>Int64</td></tr><tr><th>29</th><td>pixel27</td><td>0.0</td><td>0</td><td>0.0</td><td>0</td><td></td><td></td><td>Int64</td></tr><tr><th>30</th><td>pixel28</td><td>0.0</td><td>0</td><td>0.0</td><td>0</td><td></td><td></td><td>Int64</td></tr><tr><th>&vellip;</th><td>&vellip;</td><td>&vellip;</td><td>&vellip;</td><td>&vellip;</td><td>&vellip;</td><td>&vellip;</td><td>&vellip;</td><td>&vellip;</td></tr></tbody></table>"
      ],
      "text/latex": [
       "\\begin{tabular}{r|cccccccc}\n",
       "\t& variable & mean & min & median & max & nunique & nmissing & eltype\\\\\n",
       "\t\\hline\n",
       "\t& Symbol & Float64 & Int64 & Float64 & Int64 & Nothing & Nothing & DataType\\\\\n",
       "\t\\hline\n",
       "\t1 & label & 4.45664 & 0 & 4.0 & 9 &  &  & Int64 \\\\\n",
       "\t2 & pixel0 & 0.0 & 0 & 0.0 & 0 &  &  & Int64 \\\\\n",
       "\t3 & pixel1 & 0.0 & 0 & 0.0 & 0 &  &  & Int64 \\\\\n",
       "\t4 & pixel2 & 0.0 & 0 & 0.0 & 0 &  &  & Int64 \\\\\n",
       "\t5 & pixel3 & 0.0 & 0 & 0.0 & 0 &  &  & Int64 \\\\\n",
       "\t6 & pixel4 & 0.0 & 0 & 0.0 & 0 &  &  & Int64 \\\\\n",
       "\t7 & pixel5 & 0.0 & 0 & 0.0 & 0 &  &  & Int64 \\\\\n",
       "\t8 & pixel6 & 0.0 & 0 & 0.0 & 0 &  &  & Int64 \\\\\n",
       "\t9 & pixel7 & 0.0 & 0 & 0.0 & 0 &  &  & Int64 \\\\\n",
       "\t10 & pixel8 & 0.0 & 0 & 0.0 & 0 &  &  & Int64 \\\\\n",
       "\t11 & pixel9 & 0.0 & 0 & 0.0 & 0 &  &  & Int64 \\\\\n",
       "\t12 & pixel10 & 0.0 & 0 & 0.0 & 0 &  &  & Int64 \\\\\n",
       "\t13 & pixel11 & 0.0 & 0 & 0.0 & 0 &  &  & Int64 \\\\\n",
       "\t14 & pixel12 & 0.003 & 0 & 0.0 & 116 &  &  & Int64 \\\\\n",
       "\t15 & pixel13 & 0.0111905 & 0 & 0.0 & 254 &  &  & Int64 \\\\\n",
       "\t16 & pixel14 & 0.00514286 & 0 & 0.0 & 216 &  &  & Int64 \\\\\n",
       "\t17 & pixel15 & 0.000214286 & 0 & 0.0 & 9 &  &  & Int64 \\\\\n",
       "\t18 & pixel16 & 0.0 & 0 & 0.0 & 0 &  &  & Int64 \\\\\n",
       "\t19 & pixel17 & 0.0 & 0 & 0.0 & 0 &  &  & Int64 \\\\\n",
       "\t20 & pixel18 & 0.0 & 0 & 0.0 & 0 &  &  & Int64 \\\\\n",
       "\t21 & pixel19 & 0.0 & 0 & 0.0 & 0 &  &  & Int64 \\\\\n",
       "\t22 & pixel20 & 0.0 & 0 & 0.0 & 0 &  &  & Int64 \\\\\n",
       "\t23 & pixel21 & 0.0 & 0 & 0.0 & 0 &  &  & Int64 \\\\\n",
       "\t24 & pixel22 & 0.0 & 0 & 0.0 & 0 &  &  & Int64 \\\\\n",
       "\t25 & pixel23 & 0.0 & 0 & 0.0 & 0 &  &  & Int64 \\\\\n",
       "\t26 & pixel24 & 0.0 & 0 & 0.0 & 0 &  &  & Int64 \\\\\n",
       "\t27 & pixel25 & 0.0 & 0 & 0.0 & 0 &  &  & Int64 \\\\\n",
       "\t28 & pixel26 & 0.0 & 0 & 0.0 & 0 &  &  & Int64 \\\\\n",
       "\t29 & pixel27 & 0.0 & 0 & 0.0 & 0 &  &  & Int64 \\\\\n",
       "\t30 & pixel28 & 0.0 & 0 & 0.0 & 0 &  &  & Int64 \\\\\n",
       "\t$\\dots$ & $\\dots$ & $\\dots$ & $\\dots$ & $\\dots$ & $\\dots$ & $\\dots$ & $\\dots$ & $\\dots$ \\\\\n",
       "\\end{tabular}\n"
      ],
      "text/plain": [
       "785×8 DataFrame. Omitted printing of 1 columns\n",
       "│ Row │ variable │ mean       │ min   │ median  │ max   │ nunique │ nmissing │\n",
       "│     │ \u001b[90mSymbol\u001b[39m   │ \u001b[90mFloat64\u001b[39m    │ \u001b[90mInt64\u001b[39m │ \u001b[90mFloat64\u001b[39m │ \u001b[90mInt64\u001b[39m │ \u001b[90mNothing\u001b[39m │ \u001b[90mNothing\u001b[39m  │\n",
       "├─────┼──────────┼────────────┼───────┼─────────┼───────┼─────────┼──────────┤\n",
       "│ 1   │ label    │ 4.45664    │ 0     │ 4.0     │ 9     │         │          │\n",
       "│ 2   │ pixel0   │ 0.0        │ 0     │ 0.0     │ 0     │         │          │\n",
       "│ 3   │ pixel1   │ 0.0        │ 0     │ 0.0     │ 0     │         │          │\n",
       "│ 4   │ pixel2   │ 0.0        │ 0     │ 0.0     │ 0     │         │          │\n",
       "│ 5   │ pixel3   │ 0.0        │ 0     │ 0.0     │ 0     │         │          │\n",
       "│ 6   │ pixel4   │ 0.0        │ 0     │ 0.0     │ 0     │         │          │\n",
       "│ 7   │ pixel5   │ 0.0        │ 0     │ 0.0     │ 0     │         │          │\n",
       "│ 8   │ pixel6   │ 0.0        │ 0     │ 0.0     │ 0     │         │          │\n",
       "│ 9   │ pixel7   │ 0.0        │ 0     │ 0.0     │ 0     │         │          │\n",
       "│ 10  │ pixel8   │ 0.0        │ 0     │ 0.0     │ 0     │         │          │\n",
       "⋮\n",
       "│ 775 │ pixel773 │ 0.340214   │ 0     │ 0.0     │ 255   │         │          │\n",
       "│ 776 │ pixel774 │ 0.219286   │ 0     │ 0.0     │ 254   │         │          │\n",
       "│ 777 │ pixel775 │ 0.117095   │ 0     │ 0.0     │ 254   │         │          │\n",
       "│ 778 │ pixel776 │ 0.0590238  │ 0     │ 0.0     │ 253   │         │          │\n",
       "│ 779 │ pixel777 │ 0.0201905  │ 0     │ 0.0     │ 253   │         │          │\n",
       "│ 780 │ pixel778 │ 0.0172381  │ 0     │ 0.0     │ 254   │         │          │\n",
       "│ 781 │ pixel779 │ 0.00285714 │ 0     │ 0.0     │ 62    │         │          │\n",
       "│ 782 │ pixel780 │ 0.0        │ 0     │ 0.0     │ 0     │         │          │\n",
       "│ 783 │ pixel781 │ 0.0        │ 0     │ 0.0     │ 0     │         │          │\n",
       "│ 784 │ pixel782 │ 0.0        │ 0     │ 0.0     │ 0     │         │          │\n",
       "│ 785 │ pixel783 │ 0.0        │ 0     │ 0.0     │ 0     │         │          │"
      ]
     },
     "execution_count": 22,
     "metadata": {},
     "output_type": "execute_result"
    }
   ],
   "source": [
    "# note that summary in Julia just gives basic information as it is supposed to work on ANY datatype\n",
    "#  those who are used to R may be looking for the describe() function which is for DataFrames\n",
    "describe(train)"
   ]
  },
  {
   "cell_type": "code",
   "execution_count": 23,
   "metadata": {
    "collapsed": false,
    "jupyter": {
     "outputs_hidden": false
    }
   },
   "outputs": [
    {
     "name": "stdout",
     "output_type": "stream",
     "text": [
      "Summary Stats:\n",
      "Length:         42000\n",
      "Missing Count:  0\n",
      "Mean:           97.163476\n",
      "Minimum:        0.000000\n",
      "1st Quartile:   0.000000\n",
      "Median:         35.000000\n",
      "3rd Quartile:   231.000000\n",
      "Maximum:        255.000000\n",
      "Type:           Int64\n"
     ]
    }
   ],
   "source": [
    "# the describe() function gives basic stats\n",
    "# you could describe(train) to do the entire DataFrame, but that would take a lot of space here\n",
    "describe(train[:,406])"
   ]
  },
  {
   "cell_type": "code",
   "execution_count": 25,
   "metadata": {
    "collapsed": false,
    "jupyter": {
     "outputs_hidden": false
    }
   },
   "outputs": [
    {
     "name": "stdout",
     "output_type": "stream",
     "text": [
      "Summary Stats:\n",
      "Length:         42000\n",
      "Missing Count:  0\n",
      "Mean:           97.163476\n",
      "Minimum:        0.000000\n",
      "1st Quartile:   0.000000\n",
      "Median:         35.000000\n",
      "3rd Quartile:   231.000000\n",
      "Maximum:        255.000000\n",
      "Type:           Int64\n"
     ]
    }
   ],
   "source": [
    "# can also specify a column in a DataFrame with a Symbol\n",
    "# Symbols in Julia have a colon before them and are reserved when created (:pixel404)\n",
    "# I just just picked 404 because it is near the center for 28x28cv\n",
    "describe(train[!, :pixel404])"
   ]
  },
  {
   "cell_type": "code",
   "execution_count": 29,
   "metadata": {
    "collapsed": false,
    "jupyter": {
     "outputs_hidden": false
    }
   },
   "outputs": [
    {
     "data": {
      "image/png": "[encoded data removed]"
     },
     "execution_count": 29,
     "metadata": {},
     "output_type": "execute_result"
    }
   ],
   "source": [
    "# see the distribution of values in that column\n",
    "histogram(train[!, :pixel404], bins=20)"
   ]
  },
  {
   "cell_type": "code",
   "execution_count": 30,
   "metadata": {
    "collapsed": false,
    "jupyter": {
     "outputs_hidden": false
    }
   },
   "outputs": [
    {
     "data": {
      "image/png": "[encoded data removed]"
     },
     "execution_count": 30,
     "metadata": {},
     "output_type": "execute_result"
    }
   ],
   "source": [
    "# a point a little more to the edge has a lot more zeros\n",
    "histogram(train[!, :pixel397], bins=20)"
   ]
  },
  {
   "cell_type": "code",
   "execution_count": 32,
   "metadata": {
    "collapsed": false,
    "jupyter": {
     "outputs_hidden": false
    }
   },
   "outputs": [
    {
     "data": {
      "image/png": "[encoded data removed]"
     },
     "execution_count": 32,
     "metadata": {},
     "output_type": "execute_result"
    }
   ],
   "source": [
    "# distribution of labels - seems fairly even\n",
    "histogram(train[!, :label], ticks=collect(0:9))"
   ]
  },
  {
   "cell_type": "code",
   "execution_count": 36,
   "metadata": {
    "collapsed": false,
    "jupyter": {
     "outputs_hidden": false
    }
   },
   "outputs": [
    {
     "data": {
      "image/png": "[encoded data removed]"
     },
     "execution_count": 36,
     "metadata": {},
     "output_type": "execute_result"
    }
   ],
   "source": [
    "# we can plot different subsets to eyeball variation\n",
    "histogram([train[1:8400,:label] train[8401:16800,:label] train[16801:25200,:label] train[25201:33600,:label] train[33601:end,:label]], ticks=collect(0:9), legend=true, \n",
    "label=[\"first fifth\" \"second fifth\" \"third fifth\" \"fourth fifth\" \"last fifth\"], alpha=0.4)"
   ]
  },
  {
   "cell_type": "markdown",
   "metadata": {},
   "source": [
    "If you really want to check stats, you might want to do a chi-square or Kolmogorov–Smirnov test to really see if the distribution is uniform.  You can do these with the [HypothesisTests](https://github.com/JuliaStats/HypothesisTests.jl) package in Julia.  Documentation is at https://juliastats.org/HypothesisTests.jl/stable/.  The real focus of this notebook is MLP, so let us move on and start setting it up."
   ]
  },
  {
   "cell_type": "markdown",
   "metadata": {},
   "source": [
    "# Preprocess data"
   ]
  },
  {
   "cell_type": "code",
   "execution_count": 43,
   "metadata": {},
   "outputs": [
    {
     "name": "stdout",
     "output_type": "stream",
     "text": [
      "search: \u001b[0m\u001b[1mp\u001b[22m\u001b[0m\u001b[1me\u001b[22m\u001b[0m\u001b[1mr\u001b[22m\u001b[0m\u001b[1mm\u001b[22m\u001b[0m\u001b[1mu\u001b[22m\u001b[0m\u001b[1mt\u001b[22m\u001b[0m\u001b[1me\u001b[22m\u001b[0m\u001b[1md\u001b[22m\u001b[0m\u001b[1mi\u001b[22m\u001b[0m\u001b[1mm\u001b[22m\u001b[0m\u001b[1ms\u001b[22m \u001b[0m\u001b[1mp\u001b[22m\u001b[0m\u001b[1me\u001b[22m\u001b[0m\u001b[1mr\u001b[22m\u001b[0m\u001b[1mm\u001b[22m\u001b[0m\u001b[1mu\u001b[22m\u001b[0m\u001b[1mt\u001b[22m\u001b[0m\u001b[1me\u001b[22m\u001b[0m\u001b[1md\u001b[22m\u001b[0m\u001b[1mi\u001b[22m\u001b[0m\u001b[1mm\u001b[22m\u001b[0m\u001b[1ms\u001b[22m! \u001b[0m\u001b[1mP\u001b[22m\u001b[0m\u001b[1me\u001b[22m\u001b[0m\u001b[1mr\u001b[22m\u001b[0m\u001b[1mm\u001b[22m\u001b[0m\u001b[1mu\u001b[22m\u001b[0m\u001b[1mt\u001b[22m\u001b[0m\u001b[1me\u001b[22m\u001b[0m\u001b[1md\u001b[22mD\u001b[0m\u001b[1mi\u001b[22m\u001b[0m\u001b[1mm\u001b[22m\u001b[0m\u001b[1ms\u001b[22mArray\n",
      "\n"
     ]
    },
    {
     "data": {
      "text/latex": [
       "\\begin{verbatim}\n",
       "permutedims(A::AbstractArray, perm)\n",
       "\\end{verbatim}\n",
       "Permute the dimensions of array \\texttt{A}. \\texttt{perm} is a vector specifying a permutation of length \\texttt{ndims(A)}.\n",
       "\n",
       "See also: \\href{@ref}{\\texttt{PermutedDimsArray}}.\n",
       "\n",
       "\\section{Examples}\n",
       "\\begin{verbatim}\n",
       "julia> A = reshape(Vector(1:8), (2,2,2))\n",
       "2×2×2 Array{Int64,3}:\n",
       "[:, :, 1] =\n",
       " 1  3\n",
       " 2  4\n",
       "\n",
       "[:, :, 2] =\n",
       " 5  7\n",
       " 6  8\n",
       "\n",
       "julia> permutedims(A, [3, 2, 1])\n",
       "2×2×2 Array{Int64,3}:\n",
       "[:, :, 1] =\n",
       " 1  3\n",
       " 5  7\n",
       "\n",
       "[:, :, 2] =\n",
       " 2  4\n",
       " 6  8\n",
       "\\end{verbatim}\n",
       "\\rule{\\textwidth}{1pt}\n",
       "\\begin{verbatim}\n",
       "permutedims(m::AbstractMatrix)\n",
       "\\end{verbatim}\n",
       "Permute the dimensions of the matrix \\texttt{m}, by flipping the elements across the diagonal of the matrix. Differs from \\texttt{LinearAlgebra}'s \\href{@ref}{\\texttt{transpose}} in that the operation is not recursive.\n",
       "\n",
       "\\section{Examples}\n",
       "\\begin{verbatim}\n",
       "julia> a = [1 2; 3 4];\n",
       "\n",
       "julia> b = [5 6; 7 8];\n",
       "\n",
       "julia> c = [9 10; 11 12];\n",
       "\n",
       "julia> d = [13 14; 15 16];\n",
       "\n",
       "julia> X = [[a] [b]; [c] [d]]\n",
       "2×2 Array{Array{Int64,2},2}:\n",
       " [1 2; 3 4]     [5 6; 7 8]\n",
       " [9 10; 11 12]  [13 14; 15 16]\n",
       "\n",
       "julia> permutedims(X)\n",
       "2×2 Array{Array{Int64,2},2}:\n",
       " [1 2; 3 4]  [9 10; 11 12]\n",
       " [5 6; 7 8]  [13 14; 15 16]\n",
       "\n",
       "julia> transpose(X)\n",
       "2×2 Transpose{Transpose{Int64,Array{Int64,2}},Array{Array{Int64,2},2}}:\n",
       " [1 3; 2 4]  [9 11; 10 12]\n",
       " [5 7; 6 8]  [13 15; 14 16]\n",
       "\\end{verbatim}\n",
       "\\rule{\\textwidth}{1pt}\n",
       "\\begin{verbatim}\n",
       "permutedims(v::AbstractVector)\n",
       "\\end{verbatim}\n",
       "Reshape vector \\texttt{v} into a \\texttt{1 × length(v)} row matrix. Differs from \\texttt{LinearAlgebra}'s \\href{@ref}{\\texttt{transpose}} in that the operation is not recursive.\n",
       "\n",
       "\\section{Examples}\n",
       "\\begin{verbatim}\n",
       "julia> permutedims([1, 2, 3, 4])\n",
       "1×4 Array{Int64,2}:\n",
       " 1  2  3  4\n",
       "\n",
       "julia> V = [[[1 2; 3 4]]; [[5 6; 7 8]]]\n",
       "2-element Array{Array{Int64,2},1}:\n",
       " [1 2; 3 4]\n",
       " [5 6; 7 8]\n",
       "\n",
       "julia> permutedims(V)\n",
       "1×2 Array{Array{Int64,2},2}:\n",
       " [1 2; 3 4]  [5 6; 7 8]\n",
       "\n",
       "julia> transpose(V)\n",
       "1×2 Transpose{Transpose{Int64,Array{Int64,2}},Array{Array{Int64,2},1}}:\n",
       " [1 3; 2 4]  [5 7; 6 8]\n",
       "\\end{verbatim}\n"
      ],
      "text/markdown": [
       "```\n",
       "permutedims(A::AbstractArray, perm)\n",
       "```\n",
       "\n",
       "Permute the dimensions of array `A`. `perm` is a vector specifying a permutation of length `ndims(A)`.\n",
       "\n",
       "See also: [`PermutedDimsArray`](@ref).\n",
       "\n",
       "# Examples\n",
       "\n",
       "```jldoctest\n",
       "julia> A = reshape(Vector(1:8), (2,2,2))\n",
       "2×2×2 Array{Int64,3}:\n",
       "[:, :, 1] =\n",
       " 1  3\n",
       " 2  4\n",
       "\n",
       "[:, :, 2] =\n",
       " 5  7\n",
       " 6  8\n",
       "\n",
       "julia> permutedims(A, [3, 2, 1])\n",
       "2×2×2 Array{Int64,3}:\n",
       "[:, :, 1] =\n",
       " 1  3\n",
       " 5  7\n",
       "\n",
       "[:, :, 2] =\n",
       " 2  4\n",
       " 6  8\n",
       "```\n",
       "\n",
       "---\n",
       "\n",
       "```\n",
       "permutedims(m::AbstractMatrix)\n",
       "```\n",
       "\n",
       "Permute the dimensions of the matrix `m`, by flipping the elements across the diagonal of the matrix. Differs from `LinearAlgebra`'s [`transpose`](@ref) in that the operation is not recursive.\n",
       "\n",
       "# Examples\n",
       "\n",
       "```jldoctest; setup = :(using LinearAlgebra)\n",
       "julia> a = [1 2; 3 4];\n",
       "\n",
       "julia> b = [5 6; 7 8];\n",
       "\n",
       "julia> c = [9 10; 11 12];\n",
       "\n",
       "julia> d = [13 14; 15 16];\n",
       "\n",
       "julia> X = [[a] [b]; [c] [d]]\n",
       "2×2 Array{Array{Int64,2},2}:\n",
       " [1 2; 3 4]     [5 6; 7 8]\n",
       " [9 10; 11 12]  [13 14; 15 16]\n",
       "\n",
       "julia> permutedims(X)\n",
       "2×2 Array{Array{Int64,2},2}:\n",
       " [1 2; 3 4]  [9 10; 11 12]\n",
       " [5 6; 7 8]  [13 14; 15 16]\n",
       "\n",
       "julia> transpose(X)\n",
       "2×2 Transpose{Transpose{Int64,Array{Int64,2}},Array{Array{Int64,2},2}}:\n",
       " [1 3; 2 4]  [9 11; 10 12]\n",
       " [5 7; 6 8]  [13 15; 14 16]\n",
       "```\n",
       "\n",
       "---\n",
       "\n",
       "```\n",
       "permutedims(v::AbstractVector)\n",
       "```\n",
       "\n",
       "Reshape vector `v` into a `1 × length(v)` row matrix. Differs from `LinearAlgebra`'s [`transpose`](@ref) in that the operation is not recursive.\n",
       "\n",
       "# Examples\n",
       "\n",
       "```jldoctest; setup = :(using LinearAlgebra)\n",
       "julia> permutedims([1, 2, 3, 4])\n",
       "1×4 Array{Int64,2}:\n",
       " 1  2  3  4\n",
       "\n",
       "julia> V = [[[1 2; 3 4]]; [[5 6; 7 8]]]\n",
       "2-element Array{Array{Int64,2},1}:\n",
       " [1 2; 3 4]\n",
       " [5 6; 7 8]\n",
       "\n",
       "julia> permutedims(V)\n",
       "1×2 Array{Array{Int64,2},2}:\n",
       " [1 2; 3 4]  [5 6; 7 8]\n",
       "\n",
       "julia> transpose(V)\n",
       "1×2 Transpose{Transpose{Int64,Array{Int64,2}},Array{Array{Int64,2},1}}:\n",
       " [1 3; 2 4]  [5 7; 6 8]\n",
       "```\n"
      ],
      "text/plain": [
       "\u001b[36m  permutedims(A::AbstractArray, perm)\u001b[39m\n",
       "\n",
       "  Permute the dimensions of array \u001b[36mA\u001b[39m. \u001b[36mperm\u001b[39m is a vector specifying a permutation\n",
       "  of length \u001b[36mndims(A)\u001b[39m.\n",
       "\n",
       "  See also: \u001b[36mPermutedDimsArray\u001b[39m.\n",
       "\n",
       "\u001b[1m  Examples\u001b[22m\n",
       "\u001b[1m  ≡≡≡≡≡≡≡≡≡≡\u001b[22m\n",
       "\n",
       "\u001b[36m  julia> A = reshape(Vector(1:8), (2,2,2))\u001b[39m\n",
       "\u001b[36m  2×2×2 Array{Int64,3}:\u001b[39m\n",
       "\u001b[36m  [:, :, 1] =\u001b[39m\n",
       "\u001b[36m   1  3\u001b[39m\n",
       "\u001b[36m   2  4\u001b[39m\n",
       "\u001b[36m  \u001b[39m\n",
       "\u001b[36m  [:, :, 2] =\u001b[39m\n",
       "\u001b[36m   5  7\u001b[39m\n",
       "\u001b[36m   6  8\u001b[39m\n",
       "\u001b[36m  \u001b[39m\n",
       "\u001b[36m  julia> permutedims(A, [3, 2, 1])\u001b[39m\n",
       "\u001b[36m  2×2×2 Array{Int64,3}:\u001b[39m\n",
       "\u001b[36m  [:, :, 1] =\u001b[39m\n",
       "\u001b[36m   1  3\u001b[39m\n",
       "\u001b[36m   5  7\u001b[39m\n",
       "\u001b[36m  \u001b[39m\n",
       "\u001b[36m  [:, :, 2] =\u001b[39m\n",
       "\u001b[36m   2  4\u001b[39m\n",
       "\u001b[36m   6  8\u001b[39m\n",
       "\n",
       "  ────────────────────────────────────────────────────────────────────────────\n",
       "\n",
       "\u001b[36m  permutedims(m::AbstractMatrix)\u001b[39m\n",
       "\n",
       "  Permute the dimensions of the matrix \u001b[36mm\u001b[39m, by flipping the elements across the\n",
       "  diagonal of the matrix. Differs from \u001b[36mLinearAlgebra\u001b[39m's \u001b[36mtranspose\u001b[39m in that the\n",
       "  operation is not recursive.\n",
       "\n",
       "\u001b[1m  Examples\u001b[22m\n",
       "\u001b[1m  ≡≡≡≡≡≡≡≡≡≡\u001b[22m\n",
       "\n",
       "\u001b[36m  julia> a = [1 2; 3 4];\u001b[39m\n",
       "\u001b[36m  \u001b[39m\n",
       "\u001b[36m  julia> b = [5 6; 7 8];\u001b[39m\n",
       "\u001b[36m  \u001b[39m\n",
       "\u001b[36m  julia> c = [9 10; 11 12];\u001b[39m\n",
       "\u001b[36m  \u001b[39m\n",
       "\u001b[36m  julia> d = [13 14; 15 16];\u001b[39m\n",
       "\u001b[36m  \u001b[39m\n",
       "\u001b[36m  julia> X = [[a] [b]; [c] [d]]\u001b[39m\n",
       "\u001b[36m  2×2 Array{Array{Int64,2},2}:\u001b[39m\n",
       "\u001b[36m   [1 2; 3 4]     [5 6; 7 8]\u001b[39m\n",
       "\u001b[36m   [9 10; 11 12]  [13 14; 15 16]\u001b[39m\n",
       "\u001b[36m  \u001b[39m\n",
       "\u001b[36m  julia> permutedims(X)\u001b[39m\n",
       "\u001b[36m  2×2 Array{Array{Int64,2},2}:\u001b[39m\n",
       "\u001b[36m   [1 2; 3 4]  [9 10; 11 12]\u001b[39m\n",
       "\u001b[36m   [5 6; 7 8]  [13 14; 15 16]\u001b[39m\n",
       "\u001b[36m  \u001b[39m\n",
       "\u001b[36m  julia> transpose(X)\u001b[39m\n",
       "\u001b[36m  2×2 Transpose{Transpose{Int64,Array{Int64,2}},Array{Array{Int64,2},2}}:\u001b[39m\n",
       "\u001b[36m   [1 3; 2 4]  [9 11; 10 12]\u001b[39m\n",
       "\u001b[36m   [5 7; 6 8]  [13 15; 14 16]\u001b[39m\n",
       "\n",
       "  ────────────────────────────────────────────────────────────────────────────\n",
       "\n",
       "\u001b[36m  permutedims(v::AbstractVector)\u001b[39m\n",
       "\n",
       "  Reshape vector \u001b[36mv\u001b[39m into a \u001b[36m1 × length(v)\u001b[39m row matrix. Differs from\n",
       "  \u001b[36mLinearAlgebra\u001b[39m's \u001b[36mtranspose\u001b[39m in that the operation is not recursive.\n",
       "\n",
       "\u001b[1m  Examples\u001b[22m\n",
       "\u001b[1m  ≡≡≡≡≡≡≡≡≡≡\u001b[22m\n",
       "\n",
       "\u001b[36m  julia> permutedims([1, 2, 3, 4])\u001b[39m\n",
       "\u001b[36m  1×4 Array{Int64,2}:\u001b[39m\n",
       "\u001b[36m   1  2  3  4\u001b[39m\n",
       "\u001b[36m  \u001b[39m\n",
       "\u001b[36m  julia> V = [[[1 2; 3 4]]; [[5 6; 7 8]]]\u001b[39m\n",
       "\u001b[36m  2-element Array{Array{Int64,2},1}:\u001b[39m\n",
       "\u001b[36m   [1 2; 3 4]\u001b[39m\n",
       "\u001b[36m   [5 6; 7 8]\u001b[39m\n",
       "\u001b[36m  \u001b[39m\n",
       "\u001b[36m  julia> permutedims(V)\u001b[39m\n",
       "\u001b[36m  1×2 Array{Array{Int64,2},2}:\u001b[39m\n",
       "\u001b[36m   [1 2; 3 4]  [5 6; 7 8]\u001b[39m\n",
       "\u001b[36m  \u001b[39m\n",
       "\u001b[36m  julia> transpose(V)\u001b[39m\n",
       "\u001b[36m  1×2 Transpose{Transpose{Int64,Array{Int64,2}},Array{Array{Int64,2},1}}:\u001b[39m\n",
       "\u001b[36m   [1 3; 2 4]  [5 7; 6 8]\u001b[39m"
      ]
     },
     "execution_count": 43,
     "metadata": {},
     "output_type": "execute_result"
    }
   ],
   "source": [
    "? permutedims"
   ]
  },
  {
   "cell_type": "code",
   "execution_count": 46,
   "metadata": {},
   "outputs": [
    {
     "name": "stdout",
     "output_type": "stream",
     "text": [
      "  1.337898 seconds (6.89 k allocations: 502.799 MiB, 54.34% gc time)\n"
     ]
    },
    {
     "data": {
      "text/plain": [
       "42000×784 Array{Int64,2}:\n",
       " 0  0  0  0  0  0  0  0  0  0  0  0  0  …  0  0  0  0  0  0  0  0  0  0  0  0\n",
       " 0  0  0  0  0  0  0  0  0  0  0  0  0     0  0  0  0  0  0  0  0  0  0  0  0\n",
       " 0  0  0  0  0  0  0  0  0  0  0  0  0     0  0  0  0  0  0  0  0  0  0  0  0\n",
       " 0  0  0  0  0  0  0  0  0  0  0  0  0     0  0  0  0  0  0  0  0  0  0  0  0\n",
       " 0  0  0  0  0  0  0  0  0  0  0  0  0     0  0  0  0  0  0  0  0  0  0  0  0\n",
       " 0  0  0  0  0  0  0  0  0  0  0  0  0  …  0  0  0  0  0  0  0  0  0  0  0  0\n",
       " 0  0  0  0  0  0  0  0  0  0  0  0  0     0  0  0  0  0  0  0  0  0  0  0  0\n",
       " 0  0  0  0  0  0  0  0  0  0  0  0  0     0  0  0  0  0  0  0  0  0  0  0  0\n",
       " 0  0  0  0  0  0  0  0  0  0  0  0  0     0  0  0  0  0  0  0  0  0  0  0  0\n",
       " 0  0  0  0  0  0  0  0  0  0  0  0  0     0  0  0  0  0  0  0  0  0  0  0  0\n",
       " 0  0  0  0  0  0  0  0  0  0  0  0  0  …  0  0  0  0  0  0  0  0  0  0  0  0\n",
       " 0  0  0  0  0  0  0  0  0  0  0  0  0     0  0  0  0  0  0  0  0  0  0  0  0\n",
       " 0  0  0  0  0  0  0  0  0  0  0  0  0     0  0  0  0  0  0  0  0  0  0  0  0\n",
       " ⋮              ⋮              ⋮        ⋱           ⋮              ⋮         \n",
       " 0  0  0  0  0  0  0  0  0  0  0  0  0     0  0  0  0  0  0  0  0  0  0  0  0\n",
       " 0  0  0  0  0  0  0  0  0  0  0  0  0     0  0  0  0  0  0  0  0  0  0  0  0\n",
       " 0  0  0  0  0  0  0  0  0  0  0  0  0  …  0  0  0  0  0  0  0  0  0  0  0  0\n",
       " 0  0  0  0  0  0  0  0  0  0  0  0  0     0  0  0  0  0  0  0  0  0  0  0  0\n",
       " 0  0  0  0  0  0  0  0  0  0  0  0  0     0  0  0  0  0  0  0  0  0  0  0  0\n",
       " 0  0  0  0  0  0  0  0  0  0  0  0  0     0  0  0  0  0  0  0  0  0  0  0  0\n",
       " 0  0  0  0  0  0  0  0  0  0  0  0  0     0  0  0  0  0  0  0  0  0  0  0  0\n",
       " 0  0  0  0  0  0  0  0  0  0  0  0  0  …  0  0  0  0  0  0  0  0  0  0  0  0\n",
       " 0  0  0  0  0  0  0  0  0  0  0  0  0     0  0  0  0  0  0  0  0  0  0  0  0\n",
       " 0  0  0  0  0  0  0  0  0  0  0  0  0     0  0  0  0  0  0  0  0  0  0  0  0\n",
       " 0  0  0  0  0  0  0  0  0  0  0  0  0     0  0  0  0  0  0  0  0  0  0  0  0\n",
       " 0  0  0  0  0  0  0  0  0  0  0  0  0     0  0  0  0  0  0  0  0  0  0  0  0"
      ]
     },
     "execution_count": 46,
     "metadata": {},
     "output_type": "execute_result"
    }
   ],
   "source": [
    "@time a = convert(Matrix, train[:,2:end])"
   ]
  },
  {
   "cell_type": "code",
   "execution_count": 47,
   "metadata": {},
   "outputs": [
    {
     "name": "stdout",
     "output_type": "stream",
     "text": [
      "  0.134896 seconds (7.85 k allocations: 453.027 KiB)\n"
     ]
    },
    {
     "data": {
      "text/plain": [
       "784×42000 LinearAlgebra.Transpose{Int64,Array{Int64,2}}:\n",
       " 0  0  0  0  0  0  0  0  0  0  0  0  0  …  0  0  0  0  0  0  0  0  0  0  0  0\n",
       " 0  0  0  0  0  0  0  0  0  0  0  0  0     0  0  0  0  0  0  0  0  0  0  0  0\n",
       " 0  0  0  0  0  0  0  0  0  0  0  0  0     0  0  0  0  0  0  0  0  0  0  0  0\n",
       " 0  0  0  0  0  0  0  0  0  0  0  0  0     0  0  0  0  0  0  0  0  0  0  0  0\n",
       " 0  0  0  0  0  0  0  0  0  0  0  0  0     0  0  0  0  0  0  0  0  0  0  0  0\n",
       " 0  0  0  0  0  0  0  0  0  0  0  0  0  …  0  0  0  0  0  0  0  0  0  0  0  0\n",
       " 0  0  0  0  0  0  0  0  0  0  0  0  0     0  0  0  0  0  0  0  0  0  0  0  0\n",
       " 0  0  0  0  0  0  0  0  0  0  0  0  0     0  0  0  0  0  0  0  0  0  0  0  0\n",
       " 0  0  0  0  0  0  0  0  0  0  0  0  0     0  0  0  0  0  0  0  0  0  0  0  0\n",
       " 0  0  0  0  0  0  0  0  0  0  0  0  0     0  0  0  0  0  0  0  0  0  0  0  0\n",
       " 0  0  0  0  0  0  0  0  0  0  0  0  0  …  0  0  0  0  0  0  0  0  0  0  0  0\n",
       " 0  0  0  0  0  0  0  0  0  0  0  0  0     0  0  0  0  0  0  0  0  0  0  0  0\n",
       " 0  0  0  0  0  0  0  0  0  0  0  0  0     0  0  0  0  0  0  0  0  0  0  0  0\n",
       " ⋮              ⋮              ⋮        ⋱        ⋮              ⋮            \n",
       " 0  0  0  0  0  0  0  0  0  0  0  0  0     0  0  0  0  0  0  0  0  0  0  0  0\n",
       " 0  0  0  0  0  0  0  0  0  0  0  0  0     0  0  0  0  0  0  0  0  0  0  0  0\n",
       " 0  0  0  0  0  0  0  0  0  0  0  0  0     0  0  0  0  0  0  0  0  0  0  0  0\n",
       " 0  0  0  0  0  0  0  0  0  0  0  0  0  …  0  0  0  0  0  0  0  0  0  0  0  0\n",
       " 0  0  0  0  0  0  0  0  0  0  0  0  0     0  0  0  0  0  0  0  0  0  0  0  0\n",
       " 0  0  0  0  0  0  0  0  0  0  0  0  0     0  0  0  0  0  0  0  0  0  0  0  0\n",
       " 0  0  0  0  0  0  0  0  0  0  0  0  0     0  0  0  0  0  0  0  0  0  0  0  0\n",
       " 0  0  0  0  0  0  0  0  0  0  0  0  0     0  0  0  0  0  0  0  0  0  0  0  0\n",
       " 0  0  0  0  0  0  0  0  0  0  0  0  0  …  0  0  0  0  0  0  0  0  0  0  0  0\n",
       " 0  0  0  0  0  0  0  0  0  0  0  0  0     0  0  0  0  0  0  0  0  0  0  0  0\n",
       " 0  0  0  0  0  0  0  0  0  0  0  0  0     0  0  0  0  0  0  0  0  0  0  0  0\n",
       " 0  0  0  0  0  0  0  0  0  0  0  0  0     0  0  0  0  0  0  0  0  0  0  0  0"
      ]
     },
     "execution_count": 47,
     "metadata": {},
     "output_type": "execute_result"
    }
   ],
   "source": [
    "@time transpose(a)"
   ]
  },
  {
   "cell_type": "code",
   "execution_count": null,
   "metadata": {},
   "outputs": [],
   "source": [
    "transpose(a) == permutedims(a)"
   ]
  },
  {
   "cell_type": "code",
   "execution_count": 49,
   "metadata": {},
   "outputs": [
    {
     "name": "stdout",
     "output_type": "stream",
     "text": [
      "  0.419683 seconds (6 allocations: 251.221 MiB, 1.94% gc time)\n"
     ]
    },
    {
     "data": {
      "text/plain": [
       "784×42000 Array{Int64,2}:\n",
       " 0  0  0  0  0  0  0  0  0  0  0  0  0  …  0  0  0  0  0  0  0  0  0  0  0  0\n",
       " 0  0  0  0  0  0  0  0  0  0  0  0  0     0  0  0  0  0  0  0  0  0  0  0  0\n",
       " 0  0  0  0  0  0  0  0  0  0  0  0  0     0  0  0  0  0  0  0  0  0  0  0  0\n",
       " 0  0  0  0  0  0  0  0  0  0  0  0  0     0  0  0  0  0  0  0  0  0  0  0  0\n",
       " 0  0  0  0  0  0  0  0  0  0  0  0  0     0  0  0  0  0  0  0  0  0  0  0  0\n",
       " 0  0  0  0  0  0  0  0  0  0  0  0  0  …  0  0  0  0  0  0  0  0  0  0  0  0\n",
       " 0  0  0  0  0  0  0  0  0  0  0  0  0     0  0  0  0  0  0  0  0  0  0  0  0\n",
       " 0  0  0  0  0  0  0  0  0  0  0  0  0     0  0  0  0  0  0  0  0  0  0  0  0\n",
       " 0  0  0  0  0  0  0  0  0  0  0  0  0     0  0  0  0  0  0  0  0  0  0  0  0\n",
       " 0  0  0  0  0  0  0  0  0  0  0  0  0     0  0  0  0  0  0  0  0  0  0  0  0\n",
       " 0  0  0  0  0  0  0  0  0  0  0  0  0  …  0  0  0  0  0  0  0  0  0  0  0  0\n",
       " 0  0  0  0  0  0  0  0  0  0  0  0  0     0  0  0  0  0  0  0  0  0  0  0  0\n",
       " 0  0  0  0  0  0  0  0  0  0  0  0  0     0  0  0  0  0  0  0  0  0  0  0  0\n",
       " ⋮              ⋮              ⋮        ⋱        ⋮              ⋮            \n",
       " 0  0  0  0  0  0  0  0  0  0  0  0  0     0  0  0  0  0  0  0  0  0  0  0  0\n",
       " 0  0  0  0  0  0  0  0  0  0  0  0  0     0  0  0  0  0  0  0  0  0  0  0  0\n",
       " 0  0  0  0  0  0  0  0  0  0  0  0  0     0  0  0  0  0  0  0  0  0  0  0  0\n",
       " 0  0  0  0  0  0  0  0  0  0  0  0  0  …  0  0  0  0  0  0  0  0  0  0  0  0\n",
       " 0  0  0  0  0  0  0  0  0  0  0  0  0     0  0  0  0  0  0  0  0  0  0  0  0\n",
       " 0  0  0  0  0  0  0  0  0  0  0  0  0     0  0  0  0  0  0  0  0  0  0  0  0\n",
       " 0  0  0  0  0  0  0  0  0  0  0  0  0     0  0  0  0  0  0  0  0  0  0  0  0\n",
       " 0  0  0  0  0  0  0  0  0  0  0  0  0     0  0  0  0  0  0  0  0  0  0  0  0\n",
       " 0  0  0  0  0  0  0  0  0  0  0  0  0  …  0  0  0  0  0  0  0  0  0  0  0  0\n",
       " 0  0  0  0  0  0  0  0  0  0  0  0  0     0  0  0  0  0  0  0  0  0  0  0  0\n",
       " 0  0  0  0  0  0  0  0  0  0  0  0  0     0  0  0  0  0  0  0  0  0  0  0  0\n",
       " 0  0  0  0  0  0  0  0  0  0  0  0  0     0  0  0  0  0  0  0  0  0  0  0  0"
      ]
     },
     "execution_count": 49,
     "metadata": {},
     "output_type": "execute_result"
    }
   ],
   "source": [
    "@time permutedims(a)"
   ]
  },
  {
   "cell_type": "code",
   "execution_count": 41,
   "metadata": {
    "collapsed": false,
    "jupyter": {
     "outputs_hidden": false
    }
   },
   "outputs": [
    {
     "ename": "MethodError",
     "evalue": "MethodError: no method matching Array(::DataFrame)\nClosest candidates are:\n  Array(!Matched::LinearAlgebra.SymTridiagonal) at /buildworker/worker/package_linux64/build/usr/share/julia/stdlib/v1.1/LinearAlgebra/src/tridiag.jl:111\n  Array(!Matched::LinearAlgebra.Tridiagonal) at /buildworker/worker/package_linux64/build/usr/share/julia/stdlib/v1.1/LinearAlgebra/src/tridiag.jl:489\n  Array(!Matched::LinearAlgebra.AbstractTriangular) at /buildworker/worker/package_linux64/build/usr/share/julia/stdlib/v1.1/LinearAlgebra/src/triangular.jl:106\n  ...",
     "output_type": "error",
     "traceback": [
      "MethodError: no method matching Array(::DataFrame)\nClosest candidates are:\n  Array(!Matched::LinearAlgebra.SymTridiagonal) at /buildworker/worker/package_linux64/build/usr/share/julia/stdlib/v1.1/LinearAlgebra/src/tridiag.jl:111\n  Array(!Matched::LinearAlgebra.Tridiagonal) at /buildworker/worker/package_linux64/build/usr/share/julia/stdlib/v1.1/LinearAlgebra/src/tridiag.jl:489\n  Array(!Matched::LinearAlgebra.AbstractTriangular) at /buildworker/worker/package_linux64/build/usr/share/julia/stdlib/v1.1/LinearAlgebra/src/triangular.jl:106\n  ...",
      "",
      "Stacktrace:",
      " [1] top-level scope at In[41]:1"
     ]
    }
   ],
   "source": [
    "# need to split train into training and eval sets\n",
    "# convert DataFrame to an Array, remembering Julia is column-major like R and Matlab (unlike Python)\n",
    "X = transpose(Array(train[:,2:end]))\n",
    "y = Array(train[:,1])"
   ]
  },
  {
   "cell_type": "code",
   "execution_count": 18,
   "metadata": {
    "collapsed": false,
    "jupyter": {
     "outputs_hidden": false
    }
   },
   "outputs": [
    {
     "data": {
      "text/plain": [
       "(784,42000)"
      ]
     },
     "execution_count": 18,
     "metadata": {},
     "output_type": "execute_result"
    }
   ],
   "source": [
    "size(X)"
   ]
  },
  {
   "cell_type": "code",
   "execution_count": 19,
   "metadata": {
    "collapsed": false,
    "jupyter": {
     "outputs_hidden": false
    }
   },
   "outputs": [
    {
     "data": {
      "text/plain": [
       "42000"
      ]
     },
     "execution_count": 19,
     "metadata": {},
     "output_type": "execute_result"
    }
   ],
   "source": [
    "N = size(X)[2]"
   ]
  },
  {
   "cell_type": "code",
   "execution_count": 20,
   "metadata": {
    "collapsed": false,
    "jupyter": {
     "outputs_hidden": false
    }
   },
   "outputs": [
    {
     "data": {
      "text/plain": [
       "42000"
      ]
     },
     "execution_count": 20,
     "metadata": {},
     "output_type": "execute_result"
    }
   ],
   "source": [
    "length(y)"
   ]
  },
  {
   "cell_type": "code",
   "execution_count": 21,
   "metadata": {
    "collapsed": false,
    "jupyter": {
     "outputs_hidden": false
    }
   },
   "outputs": [
    {
     "data": {
      "text/plain": [
       "(0,255)"
      ]
     },
     "execution_count": 21,
     "metadata": {},
     "output_type": "execute_result"
    }
   ],
   "source": [
    "extrema(X)"
   ]
  },
  {
   "cell_type": "code",
   "execution_count": 22,
   "metadata": {
    "collapsed": false,
    "jupyter": {
     "outputs_hidden": false
    }
   },
   "outputs": [
    {
     "data": {
      "text/plain": [
       "33.408911169825075"
      ]
     },
     "execution_count": 22,
     "metadata": {},
     "output_type": "execute_result"
    }
   ],
   "source": [
    "mean(X)"
   ]
  },
  {
   "cell_type": "code",
   "execution_count": 23,
   "metadata": {
    "collapsed": false,
    "jupyter": {
     "outputs_hidden": false
    }
   },
   "outputs": [],
   "source": [
    "# scale X to range 0-1\n",
    "X = X./255;"
   ]
  },
  {
   "cell_type": "markdown",
   "metadata": {},
   "source": [
    "# Split data"
   ]
  },
  {
   "cell_type": "code",
   "execution_count": 24,
   "metadata": {
    "collapsed": false,
    "jupyter": {
     "outputs_hidden": false
    }
   },
   "outputs": [
    {
     "data": {
      "text/plain": [
       "784×8400 Array{Float64,2}:\n",
       " 0.0  0.0  0.0  0.0  0.0  0.0  0.0  0.0  …  0.0  0.0  0.0  0.0  0.0  0.0  0.0\n",
       " 0.0  0.0  0.0  0.0  0.0  0.0  0.0  0.0     0.0  0.0  0.0  0.0  0.0  0.0  0.0\n",
       " 0.0  0.0  0.0  0.0  0.0  0.0  0.0  0.0     0.0  0.0  0.0  0.0  0.0  0.0  0.0\n",
       " 0.0  0.0  0.0  0.0  0.0  0.0  0.0  0.0     0.0  0.0  0.0  0.0  0.0  0.0  0.0\n",
       " 0.0  0.0  0.0  0.0  0.0  0.0  0.0  0.0     0.0  0.0  0.0  0.0  0.0  0.0  0.0\n",
       " 0.0  0.0  0.0  0.0  0.0  0.0  0.0  0.0  …  0.0  0.0  0.0  0.0  0.0  0.0  0.0\n",
       " 0.0  0.0  0.0  0.0  0.0  0.0  0.0  0.0     0.0  0.0  0.0  0.0  0.0  0.0  0.0\n",
       " 0.0  0.0  0.0  0.0  0.0  0.0  0.0  0.0     0.0  0.0  0.0  0.0  0.0  0.0  0.0\n",
       " 0.0  0.0  0.0  0.0  0.0  0.0  0.0  0.0     0.0  0.0  0.0  0.0  0.0  0.0  0.0\n",
       " 0.0  0.0  0.0  0.0  0.0  0.0  0.0  0.0     0.0  0.0  0.0  0.0  0.0  0.0  0.0\n",
       " 0.0  0.0  0.0  0.0  0.0  0.0  0.0  0.0  …  0.0  0.0  0.0  0.0  0.0  0.0  0.0\n",
       " 0.0  0.0  0.0  0.0  0.0  0.0  0.0  0.0     0.0  0.0  0.0  0.0  0.0  0.0  0.0\n",
       " 0.0  0.0  0.0  0.0  0.0  0.0  0.0  0.0     0.0  0.0  0.0  0.0  0.0  0.0  0.0\n",
       " ⋮                        ⋮              ⋱            ⋮                      \n",
       " 0.0  0.0  0.0  0.0  0.0  0.0  0.0  0.0     0.0  0.0  0.0  0.0  0.0  0.0  0.0\n",
       " 0.0  0.0  0.0  0.0  0.0  0.0  0.0  0.0     0.0  0.0  0.0  0.0  0.0  0.0  0.0\n",
       " 0.0  0.0  0.0  0.0  0.0  0.0  0.0  0.0     0.0  0.0  0.0  0.0  0.0  0.0  0.0\n",
       " 0.0  0.0  0.0  0.0  0.0  0.0  0.0  0.0  …  0.0  0.0  0.0  0.0  0.0  0.0  0.0\n",
       " 0.0  0.0  0.0  0.0  0.0  0.0  0.0  0.0     0.0  0.0  0.0  0.0  0.0  0.0  0.0\n",
       " 0.0  0.0  0.0  0.0  0.0  0.0  0.0  0.0     0.0  0.0  0.0  0.0  0.0  0.0  0.0\n",
       " 0.0  0.0  0.0  0.0  0.0  0.0  0.0  0.0     0.0  0.0  0.0  0.0  0.0  0.0  0.0\n",
       " 0.0  0.0  0.0  0.0  0.0  0.0  0.0  0.0     0.0  0.0  0.0  0.0  0.0  0.0  0.0\n",
       " 0.0  0.0  0.0  0.0  0.0  0.0  0.0  0.0  …  0.0  0.0  0.0  0.0  0.0  0.0  0.0\n",
       " 0.0  0.0  0.0  0.0  0.0  0.0  0.0  0.0     0.0  0.0  0.0  0.0  0.0  0.0  0.0\n",
       " 0.0  0.0  0.0  0.0  0.0  0.0  0.0  0.0     0.0  0.0  0.0  0.0  0.0  0.0  0.0\n",
       " 0.0  0.0  0.0  0.0  0.0  0.0  0.0  0.0     0.0  0.0  0.0  0.0  0.0  0.0  0.0"
      ]
     },
     "execution_count": 24,
     "metadata": {},
     "output_type": "execute_result"
    }
   ],
   "source": [
    "# we need to split the train data into a training set (cv_X) and an eval set (eval_X)\n",
    "split = 0.8\n",
    "cv_X = X[:,1:floor(Int,split*N)]\n",
    "eval_X = X[:,floor(Int,split*N)+1:N]"
   ]
  },
  {
   "cell_type": "code",
   "execution_count": 25,
   "metadata": {
    "collapsed": false,
    "jupyter": {
     "outputs_hidden": false
    }
   },
   "outputs": [
    {
     "data": {
      "text/plain": [
       "8400-element Array{Int64,1}:\n",
       " 0\n",
       " 7\n",
       " 7\n",
       " 2\n",
       " 2\n",
       " 6\n",
       " 5\n",
       " 7\n",
       " 8\n",
       " 5\n",
       " 3\n",
       " 0\n",
       " 2\n",
       " ⋮\n",
       " 0\n",
       " 5\n",
       " 3\n",
       " 1\n",
       " 9\n",
       " 6\n",
       " 4\n",
       " 0\n",
       " 1\n",
       " 7\n",
       " 6\n",
       " 9"
      ]
     },
     "execution_count": 25,
     "metadata": {},
     "output_type": "execute_result"
    }
   ],
   "source": [
    "cv_y = y[1:floor(Int,split*N)]\n",
    "eval_y = y[floor(Int,split*N)+1:N]"
   ]
  },
  {
   "cell_type": "markdown",
   "metadata": {},
   "source": [
    "# Setup providers"
   ]
  },
  {
   "cell_type": "markdown",
   "metadata": {},
   "source": [
    "Here we get to the heart of this notebook: setting up the problem in MXNet. Full documentation for the Julia `MXNet.jl` library is available at http://dmlc.ml/MXNet.jl/latest/.  Here is the big picture:\n",
    "\n",
    "Neural networks in MXNet are set up as Models.  Presently there are only Feedforward models that you define with the [Symbolic API](http://dmlc.ml/MXNet.jl/latest/api/symbolic-node/). The model is fed data through a Data Provider.  The `fit()` or `train()` function trains a Model with a Data Provider with a chosen Optimizer, EvalMetric, and Initializer.  \n",
    "\n",
    "KVStore which is a system to allow synchronization of data across different devices such as different CPUs or GPUs on the same or different machines.  It automatically attempts to parallelize any operations that can be split for faster performance. This happens under the hood so you usually don't have to worry about it unless you have a complicated setup.\n",
    "\n",
    "Let's see how this all works in a basic MLP."
   ]
  },
  {
   "cell_type": "code",
   "execution_count": 39,
   "metadata": {
    "collapsed": false,
    "jupyter": {
     "outputs_hidden": false
    }
   },
   "outputs": [
    {
     "ename": "ArgumentError",
     "evalue": "ArgumentError: Package MXNet not found in current path:\n- Run `import Pkg; Pkg.add(\"MXNet\")` to install the MXNet package.\n",
     "output_type": "error",
     "traceback": [
      "ArgumentError: Package MXNet not found in current path:\n- Run `import Pkg; Pkg.add(\"MXNet\")` to install the MXNet package.\n",
      "",
      "Stacktrace:",
      " [1] require(::Module, ::Symbol) at ./loading.jl:823",
      " [2] top-level scope at In[39]:1"
     ]
    }
   ],
   "source": [
    "using MXNet"
   ]
  },
  {
   "cell_type": "code",
   "execution_count": 27,
   "metadata": {
    "collapsed": false,
    "jupyter": {
     "outputs_hidden": false
    }
   },
   "outputs": [
    {
     "data": {
      "text/plain": [
       "1000"
      ]
     },
     "execution_count": 27,
     "metadata": {},
     "output_type": "execute_result"
    }
   ],
   "source": [
    "batch_size = 1000"
   ]
  },
  {
   "cell_type": "markdown",
   "metadata": {},
   "source": [
    "MXNet sets up a `AbstractDataProvider` class that helps abstract the data retrieval for the Executor from the KVStore. (I hope that is not too abstract).  There are a few predefined concrete classes including one that specifically provides the MNIST dataset, appropriately named [`MNISTIter()`](http://dmlc.ml/MXNet.jl/latest/api/io/#MXNet.mx.MNISTIter-Tuple{}) or `MNISTProvider`. I want to demonstrate a more general case, so I will be using the ArrayDataProvider with an Array filled from the Kaggle file above. Documentation is at http://dmlc.ml/MXNet.jl/latest/api/io/#MXNet.mx.ArrayDataProvider, but briefly, parameters are:\n",
    "\n",
    "`ArrayDataProvider(data[, label]; batch_size, shuffle)`\n",
    "\n",
    "Shuffle is a boolean to shuffle the data each different epoch of training.\n",
    "\n",
    "Note that although the Executor can process in parallel, access to a DataProvider can **NOT** do so.  _Don't_ call a DataProvider from more than one place. "
   ]
  },
  {
   "cell_type": "code",
   "execution_count": 28,
   "metadata": {
    "collapsed": false,
    "jupyter": {
     "outputs_hidden": false
    }
   },
   "outputs": [
    {
     "data": {
      "text/plain": [
       "MXNet.mx.ArrayDataProvider(Array{Float32,N}[\n",
       "Float32[0.0 0.0 … 0.0 0.0; 0.0 0.0 … 0.0 0.0; … ; 0.0 0.0 … 0.0 0.0; 0.0 0.0 … 0.0 0.0]],Symbol[:data],Array{Float32,N}[\n",
       "Float32[1.0 0.0 … 2.0 2.0]],Symbol[:softmax_label],1000,33600,true,0.0f0,0.0f0,MXNet.mx.NDArray[mx.NDArray{Float32}(784,1000)],MXNet.mx.NDArray[mx.NDArray{Float32}(1000,)])"
      ]
     },
     "execution_count": 28,
     "metadata": {},
     "output_type": "execute_result"
    }
   ],
   "source": [
    "# since this is a training set, we specify shuffle to help randomize the training\n",
    "train_provider = mx.ArrayDataProvider(cv_X, cv_y, batch_size=batch_size, shuffle=true)"
   ]
  },
  {
   "cell_type": "code",
   "execution_count": 29,
   "metadata": {
    "collapsed": false,
    "jupyter": {
     "outputs_hidden": false
    }
   },
   "outputs": [
    {
     "data": {
      "text/plain": [
       "MXNet.mx.ArrayDataProvider(Array{Float32,N}[\n",
       "Float32[0.0 0.0 … 0.0 0.0; 0.0 0.0 … 0.0 0.0; … ; 0.0 0.0 … 0.0 0.0; 0.0 0.0 … 0.0 0.0]],Symbol[:data],Array{Float32,N}[\n",
       "Float32[0.0 7.0 … 6.0 9.0]],Symbol[:softmax_label],1000,8400,false,0.0f0,0.0f0,MXNet.mx.NDArray[mx.NDArray{Float32}(784,1000)],MXNet.mx.NDArray[mx.NDArray{Float32}(1000,)])"
      ]
     },
     "execution_count": 29,
     "metadata": {},
     "output_type": "execute_result"
    }
   ],
   "source": [
    "# we don't want to randomize the eval set during training, so shuffle is false\n",
    "eval_provider = mx.ArrayDataProvider(eval_X, eval_y, batch_size=batch_size, shuffle=false)"
   ]
  },
  {
   "cell_type": "markdown",
   "metadata": {},
   "source": [
    "#  MLP"
   ]
  },
  {
   "cell_type": "markdown",
   "metadata": {},
   "source": [
    "At this point, we want to define the model by specifying the number of nodes in each layer and how they are connected to each other.  Looking at the paper LeCun, Y., Bottou, L., Bengio, Y., & Haffner, P. (1998). Gradient-based learning applied to document recognition. Proceedings of the IEEE, 86(11), 2278-2324. The article is available on ResearchGate at https://www.researchgate.net/profile/Yann_Lecun/publication/2985446_Gradient-based_learning_applied_to_document_recognition/links/0deec519dfa1983fc2000000/Gradient-based-learning-applied-to-document-recognition.pdf.  They compared a one layer nets (28x28-300-10 and 28x28-1000-10) which had error rates of 4.7% and 4.5% on MNIST to two layer net (28x28-300-100-10) with error rate of 3.05% and their preference, a convolutional net with rate of 0.95%. The advantage of the ConvNet is that it captures more spatial relations without having to make the network 5 layers deep.  I look at the [ConvNet](mnistLenet.ipynb) in a separate notebook.  For now, let's try creating the first two fully-connected nets.\n",
    "\n",
    "For this network, we need to create a `FullyConnected` SymbolicNode for our hidden layer/s which will set up all the weights and a layer bias if desired.  We will also need an `Activation` SymbolicNode so each node can do the job of separation.  The `Activation()` function can specify an act_type = ’relu’, ’sigmoid’, ’softrelu’, or ’tanh’.  There are also specific `SoftmaxActivation()` and `LeakyReLU()` functions the later of which has options for act_type = ’elu’, ’leaky’, ’prelu’, or ’rrelu’.  These are all described in the Wikipedia article on [Activation Functions](https://en.wikipedia.org/wiki/Activation_function).  \n",
    "\n",
    "Besides the hidden layer/s, we need input and output.  The input is labeled with the `Variable()` function and will be taken from the `DataProvider` specified in the `fit()` instruction.  We also need to create a `SymbolicNode` for the output layer.  The MXNet API provides several choices including `LinearRegressionOutput`, `LogisticRegressionOutput`, `MAERegressionOutput` (mean absolute error), and `SoftmaxOutput`.  The layers are connected by specifying the appropriate input data for each function."
   ]
  },
  {
   "cell_type": "code",
   "execution_count": 30,
   "metadata": {
    "collapsed": false,
    "jupyter": {
     "outputs_hidden": false
    }
   },
   "outputs": [
    {
     "data": {
      "text/plain": [
       "MXNet.mx.SymbolicNode(MXNet.mx.MX_SymbolHandle(Ptr{Void} @0x000000001962b220))"
      ]
     },
     "execution_count": 30,
     "metadata": {},
     "output_type": "execute_result"
    }
   ],
   "source": [
    "data = mx.Variable(:data)\n",
    "fc1 = mx.FullyConnected(data, name=:fc1, num_hidden=300)\n",
    "act1 = mx.Activation(fc1, name=:tanh1, act_type=:tanh)\n",
    "fc2 = mx.FullyConnected(act1, name=:fc2, num_hidden=10)\n",
    "mlp1 = mx.SoftmaxOutput(fc2, name=:softmax)"
   ]
  },
  {
   "cell_type": "markdown",
   "metadata": {},
   "source": [
    "## Display Model"
   ]
  },
  {
   "cell_type": "markdown",
   "metadata": {},
   "source": [
    "`MXNet.jl` has a `to_graphviz()` function to produce a `.dot` file from a model.  Unfortunately, I don't have a way to directly display `dot` output in Jupyter, so we will save as a `dot` file, convert to `png` and insert that into the notebook.  Of course if you are playing with this yourself, you can use `dot` file viewer directly."
   ]
  },
  {
   "cell_type": "code",
   "execution_count": 31,
   "metadata": {
    "collapsed": false,
    "jupyter": {
     "outputs_hidden": false
    }
   },
   "outputs": [],
   "source": [
    "# save file - note that the `do` block automatically closes the filestream\n",
    "open(\"mlp1graph.dot\", \"w\") do fs\n",
    "    print(fs, mx.to_graphviz(mlp1))\n",
    "end"
   ]
  },
  {
   "cell_type": "code",
   "execution_count": 32,
   "metadata": {
    "collapsed": true,
    "jupyter": {
     "outputs_hidden": true
    }
   },
   "outputs": [],
   "source": [
    "# we can run the `dot` program to convert to png if it is installed on your computer\n",
    "run(pipeline(`dot -Tpng mlp1graph.dot`, stdout=\"mlp1graph.png\"))"
   ]
  },
  {
   "cell_type": "markdown",
   "metadata": {},
   "source": [
    "We can display this file:\n",
    "![mlp1graph.png](mlp1graph.png)"
   ]
  },
  {
   "cell_type": "code",
   "execution_count": 33,
   "metadata": {
    "collapsed": false,
    "jupyter": {
     "outputs_hidden": false
    }
   },
   "outputs": [
    {
     "data": {
      "text/plain": [
       "MXNet.mx.FeedForward(MXNet.mx.SymbolicNode(MXNet.mx.MX_SymbolHandle(Ptr{Void} @0x000000001962b220)),MXNet.mx.Context[CPU0],#undef,#undef,#undef)"
      ]
     },
     "execution_count": 33,
     "metadata": {},
     "output_type": "execute_result"
    }
   ],
   "source": [
    "# change context to gpu(number) if you have a gpu and want to use that for processing\n",
    "model = mx.FeedForward(mlp1, context=mx.cpu())"
   ]
  },
  {
   "cell_type": "markdown",
   "metadata": {},
   "source": [
    "Now that we have our model and data, we need to choose an Optimizer to do backprop. For more background on how [backpropagation](https://en.wikipedia.org/wiki/Backpropagation) works to use an error function to adjust network weights, check out the Wikipedia article.  To learn about optimization, read the Wikipedia article on [Stochastic Gradient Descent](https://en.wikipedia.org/wiki/Stochastic_gradient_descent).  It describes several variants, including AdaGrad, RMSProp,and Adam.\n",
    "\n",
    "A lot of different optimizer options are available in MXNet. These include `SGD` (Stochastic Gradient Descent), `AdaGrad` (Adaptive Gradient), `RMSProp` (Root Mean Square Propagation) and its variants `ADAM` (Adaptive Moment Estimation), `AdaMax`, `Nadam` (Nesterov Adam). \n",
    "\n",
    "Documentation is available at http://dmlc.ml/MXNet.jl/latest/api/optimizer/#built-in-optimizers, and it includes references to the source papers."
   ]
  },
  {
   "cell_type": "code",
   "execution_count": 34,
   "metadata": {
    "collapsed": false,
    "jupyter": {
     "outputs_hidden": false
    }
   },
   "outputs": [
    {
     "data": {
      "text/plain": [
       "MXNet.mx.SGD(MXNet.mx.SGDOptions(0.1,0.9,0,1.0e-5,MXNet.mx.LearningRate.Fixed(0.1),MXNet.mx.Momentum.Fixed(0.9)),#undef)"
      ]
     },
     "execution_count": 34,
     "metadata": {},
     "output_type": "execute_result"
    }
   ],
   "source": [
    "# we are going to use the basic Stochastic Gradient Descent optimizer with a fixed learning rate and momentum\n",
    "optimizer = mx.SGD(lr=0.1, momentum=0.9, weight_decay=0.00001)"
   ]
  },
  {
   "cell_type": "markdown",
   "metadata": {},
   "source": [
    "##  Examine initial state"
   ]
  },
  {
   "cell_type": "markdown",
   "metadata": {},
   "source": [
    "At this point, we start training ith the data providers, model and optimizer set up above using the `fit()` function.  We can specify the number of epochs to run.  At this point, we will start with just one epoch, and see the output that is automatically generated.  The first `fit()` will set up all the memory structures for the model, initialize the weighs, create the KVStore, and start training.  This first `fit()` will also take longer than subsequent ones as Julia does Just In Time compilation of code using LLVM.  Subsequent calls will not have to be compiled.\n",
    "\n",
    "Note that `fit()` also allows the choice of other evaluation metrics, other initializers, and setting up callback routines between epochs. Full documentation is available at http://dmlc.ml/MXNet.jl/latest/api/model/#MXNet.mx.fit-Tuple{MXNet.mx.FeedForward,MXNet.mx.AbstractOptimizer,MXNet.mx.AbstractDataProvider}.  Here, I am just using the default metric (`Accuracy()`) and defualt initializer (`UniformInitializer(0.01)`).  The later will intialize the weights of the network to uniformly distributed random numbers less that .01.  "
   ]
  },
  {
   "cell_type": "code",
   "execution_count": 35,
   "metadata": {
    "collapsed": false,
    "jupyter": {
     "outputs_hidden": false
    },
    "scrolled": true
   },
   "outputs": [
    {
     "name": "stderr",
     "output_type": "stream",
     "text": [
      "\u001b[1m\u001b[34mINFO: Start training on MXNet.mx.Context[CPU0]\n",
      "\u001b[0m\u001b[1m\u001b[34mINFO: Initializing parameters...\n",
      "\u001b[0m\u001b[1m\u001b[34mINFO: Creating KVStore...\n",
      "\u001b[0m\u001b[1m\u001b[34mINFO: TempSpace: Total 4 MB allocated on CPU0\n",
      "\u001b[0m\u001b[1m\u001b[34mINFO: Start training...\n",
      "\u001b[0m\u001b[1m\u001b[34mINFO: == Epoch 001/001 ==========\n",
      "\u001b[0m\u001b[1m\u001b[34mINFO: ## Training summary\n",
      "\u001b[0m\u001b[1m\u001b[34mINFO:           accuracy = 0.6336\n",
      "\u001b[0m"
     ]
    },
    {
     "name": "stdout",
     "output_type": "stream",
     "text": [
      " 32.429736 seconds (7.59 M allocations: 540.899 MB, 2.80% gc time)\n"
     ]
    },
    {
     "name": "stderr",
     "output_type": "stream",
     "text": [
      "\u001b[1m\u001b[34mINFO:               time = 11.8315 seconds\n",
      "\u001b[0m\u001b[1m\u001b[34mINFO: ## Validation summary\n",
      "\u001b[0m\u001b[1m\u001b[34mINFO:           accuracy = 0.7843\n",
      "\u001b[0m\u001b[1m\u001b[34mINFO: Finish training on MXNet.mx.Context[CPU0]\n",
      "\u001b[0m"
     ]
    }
   ],
   "source": [
    "@time mx.fit(model, optimizer, train_provider, eval_data=eval_provider, n_epoch=1)"
   ]
  },
  {
   "cell_type": "markdown",
   "metadata": {},
   "source": [
    "I am taking a break in training here so we can take a quick peek at the initial internals of the network. Note all the parameters of the model are stored as MXNet.NDArrays which need to be `copy` to memory in an Array to play with them.  Although the model is defined earlier, no memory is assigned until the `fit()` function is executed, so if you try to access the `arg_params` of the model before that, you will get `UndefRefError: access to undefined reference`."
   ]
  },
  {
   "cell_type": "code",
   "execution_count": 36,
   "metadata": {
    "collapsed": false,
    "jupyter": {
     "outputs_hidden": false
    }
   },
   "outputs": [
    {
     "data": {
      "text/plain": [
       "Dict{Symbol,MXNet.mx.NDArray} with 4 entries:\n",
       "  :fc1_weight => mx.NDArray{Float32}(784,300)\n",
       "  :fc1_bias   => mx.NDArray{Float32}(300,)\n",
       "  :fc2_weight => mx.NDArray{Float32}(300,10)\n",
       "  :fc2_bias   => mx.NDArray{Float32}(10,)"
      ]
     },
     "execution_count": 36,
     "metadata": {},
     "output_type": "execute_result"
    }
   ],
   "source": [
    "# note the input layer has 784*300 = 235,200 trainable weights stored in a NDArray. The output layer has 3000 weights.\n",
    "model.arg_params"
   ]
  },
  {
   "cell_type": "code",
   "execution_count": 37,
   "metadata": {
    "collapsed": false,
    "jupyter": {
     "outputs_hidden": false
    }
   },
   "outputs": [
    {
     "data": {
      "text/plain": [
       "300×10 Array{Float32,2}:\n",
       " -0.127887     0.0771416   0.0249448    …   0.145933    0.010249 \n",
       " -0.0196595   -0.0296244   0.0209594       -0.0811309  -0.0449037\n",
       "  0.0956391   -0.128065   -0.103133         0.0358045  -0.0394614\n",
       " -0.107717     0.0242749   0.0551586        0.0597582  -0.0298745\n",
       " -0.0984035    0.0960803   0.115726        -0.0061346   0.0479453\n",
       " -0.0183465   -0.207955   -0.000346427  …   0.0321886   0.0209672\n",
       "  0.120342    -0.122031   -0.024811         0.0252119  -0.0228585\n",
       " -0.0212993    0.0206527   0.0558286       -0.0572732  -0.0384446\n",
       "  0.0798484   -0.0635753   0.0840668        0.0380003  -0.0590102\n",
       "  0.0820934    0.0308938   0.12895          0.0494668  -0.120226 \n",
       "  0.145466    -0.128332   -0.110208     …   0.0314653   0.0496928\n",
       "  0.0384468    0.168292   -0.0586571       -0.0639272  -0.044879 \n",
       "  0.0877501   -0.0616897  -0.141263         0.0441554   0.0759257\n",
       "  ⋮                                     ⋱                        \n",
       "  0.0791338   -0.226709   -0.0443711       -0.0835878   0.0361731\n",
       "  0.0163245    0.045172    0.0819094        0.0264293  -0.0304361\n",
       " -0.0624429   -0.0678274  -0.0740325    …  -0.0847413   0.0844292\n",
       "  0.0406324    0.0564422  -0.106171         0.0146266   0.0337845\n",
       " -0.0579353    0.0977567  -0.0983308       -0.112232    0.0105776\n",
       " -0.0233625   -0.0358019  -0.0986435       -0.0249763   0.0135266\n",
       "  0.0388482    0.0118654  -0.16399          0.0670357   0.120794 \n",
       " -0.0115069    0.0122509  -0.0674744    …   0.0703299   0.119037 \n",
       "  0.191457    -0.0999065   0.00194451      -0.0827886  -0.032837 \n",
       "  0.0187783   -0.0221313  -0.0729263        0.008342    0.0182222\n",
       "  0.00468942  -0.175613    0.0360089        0.0626512   0.0410399\n",
       "  0.124774    -0.122346    0.0201343        0.0144864  -0.0635198"
      ]
     },
     "execution_count": 37,
     "metadata": {},
     "output_type": "execute_result"
    }
   ],
   "source": [
    "# let's examine the weights in the hidden layer\n",
    "w2 = copy(model.arg_params[:fc2_weight])"
   ]
  },
  {
   "cell_type": "code",
   "execution_count": 38,
   "metadata": {
    "collapsed": false,
    "jupyter": {
     "outputs_hidden": false
    }
   },
   "outputs": [
    {
     "data": {
      "text/plain": [
       "10×3 Array{Any,2}:\n",
       " (-0.280105,0.208179)   0.0080839    0.0957205\n",
       " (-0.267891,0.284985)   0.000389835  0.103438 \n",
       " (-0.202828,0.246249)  -0.00487307   0.0891263\n",
       " (-0.212816,0.190532)   0.003161     0.0817025\n",
       " (-0.22252,0.225273)   -0.00620983   0.0842009\n",
       " (-0.202098,0.172084)   0.00473183   0.0636334\n",
       " (-0.238122,0.210844)  -0.00532095   0.0923733\n",
       " (-0.254803,0.263656)   0.00346573   0.0984543\n",
       " (-0.180616,0.145933)  -0.00335081   0.0618578\n",
       " (-0.194464,0.198503)  -0.000115971  0.0770083"
      ]
     },
     "execution_count": 38,
     "metadata": {},
     "output_type": "execute_result"
    }
   ],
   "source": [
    "# let's get the extrema mean and standard deviation for each of the 10 groups\n",
    "[ [extrema(w2[:,i]) for i in 1:10] [mean(w2[:,i]) for i in 1:10] [std(w2[:,i]) for i in 1:10] ]"
   ]
  },
  {
   "cell_type": "code",
   "execution_count": 39,
   "metadata": {
    "collapsed": false,
    "jupyter": {
     "outputs_hidden": false
    }
   },
   "outputs": [
    {
     "data": {
      "text/html": [
       "<img src=\"data:image/png;base64,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\" />"
      ]
     },
     "execution_count": 39,
     "metadata": {},
     "output_type": "execute_result"
    }
   ],
   "source": [
    "# plot mean and std\n",
    "plot([ [mean(w2[:,i]) for i in 1:10] [std(w2[:,i]) for i in 1:10] ], legend=true, label=[\"mean\" \"std\"])"
   ]
  },
  {
   "cell_type": "code",
   "execution_count": 40,
   "metadata": {
    "collapsed": false,
    "jupyter": {
     "outputs_hidden": false
    }
   },
   "outputs": [
    {
     "data": {
      "text/html": [
       "<img src=\"data:image/png;base64,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\" />"
      ]
     },
     "execution_count": 40,
     "metadata": {},
     "output_type": "execute_result"
    }
   ],
   "source": [
    "# plot them as 30x10 arrays\n",
    "heatmap(reshape(w2[:,1], 10,30), aspect_ratio=:equal)"
   ]
  },
  {
   "cell_type": "code",
   "execution_count": 41,
   "metadata": {
    "collapsed": false,
    "jupyter": {
     "outputs_hidden": false
    }
   },
   "outputs": [
    {
     "data": {
      "text/plain": [
       "Plots.PyPlotBackend()"
      ]
     },
     "execution_count": 41,
     "metadata": {},
     "output_type": "execute_result"
    }
   ],
   "source": [
    "# switch to PyPlot because Plotly doesn't support clims attribute and I will want to compare later\n",
    "pyplot()"
   ]
  },
  {
   "cell_type": "code",
   "execution_count": 42,
   "metadata": {
    "collapsed": false,
    "jupyter": {
     "outputs_hidden": false
    }
   },
   "outputs": [
    {
     "data": {
      "text/html": [
       "<img src=\"data:image/png;base64,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\" />"
      ]
     },
     "execution_count": 42,
     "metadata": {},
     "output_type": "execute_result"
    }
   ],
   "source": [
    "plot([heatmap(reshape(w2[:,i], 10,30), aspect_ratio=:equal, clims=(-0.6,0.6)) for i=1:10]...)"
   ]
  },
  {
   "cell_type": "markdown",
   "metadata": {},
   "source": [
    "## Train model 10 epochs "
   ]
  },
  {
   "cell_type": "markdown",
   "metadata": {},
   "source": [
    "Ok.  Let's run it for a few epochs and watch what happens.  Note that every time we call `fit()`, the default is to continue training the same model without resetting the weights. "
   ]
  },
  {
   "cell_type": "code",
   "execution_count": 43,
   "metadata": {
    "collapsed": false,
    "jupyter": {
     "outputs_hidden": false
    },
    "scrolled": true
   },
   "outputs": [
    {
     "name": "stderr",
     "output_type": "stream",
     "text": [
      "\u001b[1m\u001b[34mINFO: Start training on MXNet.mx.Context[CPU0]\n",
      "\u001b[0m\u001b[1m\u001b[34mINFO: Initializing parameters...\n",
      "\u001b[0m\u001b[1m\u001b[34mINFO: Creating KVStore...\n",
      "\u001b[0m\u001b[1m\u001b[34mINFO: TempSpace: Total 4 MB allocated on CPU0\n",
      "\u001b[0m\u001b[1m\u001b[34mINFO: Start training...\n",
      "\u001b[0m\u001b[1m\u001b[34mINFO: == Epoch 001/009 ==========\n",
      "\u001b[0m\u001b[1m\u001b[34mINFO: ## Training summary\n",
      "\u001b[0m\u001b[1m\u001b[34mINFO:           accuracy = 0.8643\n",
      "\u001b[0m\u001b[1m\u001b[34mINFO:               time = 9.1088 seconds\n",
      "\u001b[0m\u001b[1m\u001b[34mINFO: ## Validation summary\n",
      "\u001b[0m\u001b[1m\u001b[34mINFO:           accuracy = 0.8391\n",
      "\u001b[0m\u001b[1m\u001b[34mINFO: == Epoch 002/009 ==========\n",
      "\u001b[0m\u001b[1m\u001b[34mINFO: ## Training summary\n",
      "\u001b[0m\u001b[1m\u001b[34mINFO:           accuracy = 0.9066\n",
      "\u001b[0m\u001b[1m\u001b[34mINFO:               time = 8.3779 seconds\n",
      "\u001b[0m\u001b[1m\u001b[34mINFO: ## Validation summary\n",
      "\u001b[0m\u001b[1m\u001b[34mINFO:           accuracy = 0.9173\n",
      "\u001b[0m\u001b[1m\u001b[34mINFO: == Epoch 003/009 ==========\n",
      "\u001b[0m\u001b[1m\u001b[34mINFO: ## Training summary\n",
      "\u001b[0m\u001b[1m\u001b[34mINFO:           accuracy = 0.9159\n",
      "\u001b[0m\u001b[1m\u001b[34mINFO:               time = 8.7162 seconds\n",
      "\u001b[0m\u001b[1m\u001b[34mINFO: ## Validation summary\n",
      "\u001b[0m\u001b[1m\u001b[34mINFO:           accuracy = 0.9248\n",
      "\u001b[0m\u001b[1m\u001b[34mINFO: == Epoch 004/009 ==========\n",
      "\u001b[0m\u001b[1m\u001b[34mINFO: ## Training summary\n",
      "\u001b[0m\u001b[1m\u001b[34mINFO:           accuracy = 0.9223\n",
      "\u001b[0m\u001b[1m\u001b[34mINFO:               time = 8.3265 seconds\n",
      "\u001b[0m\u001b[1m\u001b[34mINFO: ## Validation summary\n",
      "\u001b[0m\u001b[1m\u001b[34mINFO:           accuracy = 0.9298\n",
      "\u001b[0m\u001b[1m\u001b[34mINFO: == Epoch 005/009 ==========\n",
      "\u001b[0m\u001b[1m\u001b[34mINFO: ## Training summary\n",
      "\u001b[0m\u001b[1m\u001b[34mINFO:           accuracy = 0.9274\n",
      "\u001b[0m\u001b[1m\u001b[34mINFO:               time = 8.3956 seconds\n",
      "\u001b[0m\u001b[1m\u001b[34mINFO: ## Validation summary\n",
      "\u001b[0m\u001b[1m\u001b[34mINFO:           accuracy = 0.9319\n",
      "\u001b[0m\u001b[1m\u001b[34mINFO: == Epoch 006/009 ==========\n",
      "\u001b[0m\u001b[1m\u001b[34mINFO: ## Training summary\n",
      "\u001b[0m\u001b[1m\u001b[34mINFO:           accuracy = 0.9330\n",
      "\u001b[0m\u001b[1m\u001b[34mINFO:               time = 8.5606 seconds\n",
      "\u001b[0m\u001b[1m\u001b[34mINFO: ## Validation summary\n",
      "\u001b[0m\u001b[1m\u001b[34mINFO:           accuracy = 0.9370\n",
      "\u001b[0m\u001b[1m\u001b[34mINFO: == Epoch 007/009 ==========\n",
      "\u001b[0m\u001b[1m\u001b[34mINFO: ## Training summary\n",
      "\u001b[0m\u001b[1m\u001b[34mINFO:           accuracy = 0.9363\n",
      "\u001b[0m\u001b[1m\u001b[34mINFO:               time = 9.2693 seconds\n",
      "\u001b[0m\u001b[1m\u001b[34mINFO: ## Validation summary\n",
      "\u001b[0m\u001b[1m\u001b[34mINFO:           accuracy = 0.9400\n",
      "\u001b[0m\u001b[1m\u001b[34mINFO: == Epoch 008/009 ==========\n",
      "\u001b[0m\u001b[1m\u001b[34mINFO: ## Training summary\n",
      "\u001b[0m\u001b[1m\u001b[34mINFO:           accuracy = 0.9426\n",
      "\u001b[0m\u001b[1m\u001b[34mINFO:               time = 9.4478 seconds\n",
      "\u001b[0m\u001b[1m\u001b[34mINFO: ## Validation summary\n",
      "\u001b[0m\u001b[1m\u001b[34mINFO:           accuracy = 0.9428\n",
      "\u001b[0m\u001b[1m\u001b[34mINFO: == Epoch 009/009 ==========\n",
      "\u001b[0m"
     ]
    }
   ],
   "source": [
    "@time mx.fit(model, optimizer, train_provider, eval_data=eval_provider, n_epoch=9)"
   ]
  },
  {
   "cell_type": "code",
   "execution_count": 44,
   "metadata": {
    "collapsed": false,
    "jupyter": {
     "outputs_hidden": false
    }
   },
   "outputs": [
    {
     "data": {
      "text/plain": [
       "300×10 Array{Float32,2}:\n",
       " -0.18999      0.0523741    0.0521278    …   0.256539     0.0830147 \n",
       " -0.0566305   -0.0292824    0.000472053     -0.176414    -0.137913  \n",
       " -0.0510069   -0.15316     -0.15406         -0.00278085  -0.175738  \n",
       " -0.160078     0.0158039    0.0645762        0.101266     0.0279298 \n",
       " -0.121867     0.126162     0.203941        -0.0970455    0.1576    \n",
       " -0.27373     -0.234331     0.03053      …  -0.02137      0.0339543 \n",
       "  0.165604    -0.171726    -0.0604989        0.0526133   -0.0206003 \n",
       " -0.0281766    0.0293302    0.0430013       -0.0955367   -0.137775  \n",
       "  0.126382    -0.076785     0.10942          0.0555131   -0.0920628 \n",
       "  0.128483     0.0501477    0.136502         0.0789185   -0.133262  \n",
       "  0.211869    -0.153832    -0.119128     …   0.0677559    0.0706252 \n",
       "  0.0836029    0.188536    -0.144794        -0.05817     -0.049355  \n",
       "  0.156777    -0.0915638   -0.21475          0.0954725    0.209062  \n",
       "  ⋮                                      ⋱                          \n",
       "  0.085546    -0.250519    -0.0668047       -0.137696    -0.00329412\n",
       "  0.00653774   0.0642993    0.191455        -0.0250502    0.0283506 \n",
       " -0.0594797   -0.109547    -0.072032     …  -0.111813     0.00390982\n",
       "  0.0777404    0.0444848   -0.131087         0.0178672    0.0707252 \n",
       " -0.118424     0.150786    -0.147908        -0.172449    -0.0152548 \n",
       " -0.0545296   -0.045317    -0.174648        -0.0304535   -0.048231  \n",
       "  0.066315     0.0347018   -0.228092         0.080211     0.342091  \n",
       "  0.0115476    0.0107955   -0.0769882    …   0.116553     0.283723  \n",
       "  0.257533    -0.133712     0.104216        -0.208887    -0.0636919 \n",
       "  0.0174476   -0.00290674  -0.132057         0.01859     -0.0688223 \n",
       " -0.0502207   -0.193162     0.0843327        0.113111     0.0176484 \n",
       "  0.11381     -0.142134     0.0347138        0.00476562  -0.157754  "
      ]
     },
     "execution_count": 44,
     "metadata": {},
     "output_type": "execute_result"
    }
   ],
   "source": [
    "# let's examine how the weights in the hidden layer have changed after 10 more epochs of training\n",
    "w211 = copy(model.arg_params[:fc2_weight])"
   ]
  },
  {
   "cell_type": "code",
   "execution_count": 45,
   "metadata": {
    "collapsed": false,
    "jupyter": {
     "outputs_hidden": false
    }
   },
   "outputs": [
    {
     "data": {
      "text/plain": [
       "10×3 Array{Any,2}:\n",
       " (-0.357168,0.36403)    0.00906962   0.144172\n",
       " (-0.291686,0.346591)   0.000505016  0.124114\n",
       " (-0.35688,0.567968)   -0.00167273   0.145727\n",
       " (-0.354625,0.29979)    0.0025032    0.126793\n",
       " (-0.335417,0.335986)  -0.0121043    0.133443\n",
       " (-0.61578,0.406012)    0.0105811    0.144681\n",
       " (-0.34189,0.273747)   -0.00809373   0.127449\n",
       " (-0.443309,0.390159)   0.00113069   0.145592\n",
       " (-0.423108,0.589517)  -0.00721869   0.125767\n",
       " (-0.339918,0.404306)   0.00526154   0.132497"
      ]
     },
     "execution_count": 45,
     "metadata": {},
     "output_type": "execute_result"
    }
   ],
   "source": [
    "# extrema mean and standard deviation for each of the 10 groups\n",
    "[ [extrema(w211[:,i]) for i in 1:10] [mean(w211[:,i]) for i in 1:10] [std(w211[:,i]) for i in 1:10] ]"
   ]
  },
  {
   "cell_type": "code",
   "execution_count": 46,
   "metadata": {
    "collapsed": false,
    "jupyter": {
     "outputs_hidden": false
    }
   },
   "outputs": [
    {
     "data": {
      "text/html": [
       "<img src=\"data:image/png;base64,iVBORw0KGgoAAAANSUhEUgAAAlgAAAGQCAYAAAByNR6YAAAABHNCSVQICAgIfAhkiAAAAAlwSFlzAAAPYQAAD2EBqD+naQAAIABJREFUeJzs3Xd8k/X2B/DPk50maZLuvQctBcoUFBFFQUELLvZ2gApu8Or1XvV31Xtx4tYrCAjIEBVxgXugV4aISGmhpXs3Hdk7z++PlAoypG2SJ+O8Xy9fUmienMBpcp7vOF+GZVkWhBBCCCHEY3hcB0AIIYQQEmyowCKEEEII8TAB1wFoNBrs2rULaWlpkEqlXIdDCCGEEAKz2YyqqipMmDABUVFRPX485wXWrl27MHv2bK7DIF40Kv1iPDrxKfAYHgR8Id788SVs2r8WLGj5HyEkMIj4Itx60Z2YNnQuHC4HXvv+OWz9dQPXYREf2LBhA2bNmtXjxzFcL3L/8ccfMXr0aGzYsAF5eXlchhIy7r77bqxcudLrz8OygKOUB/sBHviJLEQXOmEv5sFRzAcv3gXxRU4wEq+HQTjgqxzzF6wTYI0AL5zrSEKHL3PM1QlYdwvA6gBhoQusGXCU8MFPcUE00glG5JMwiI+VlJRg9uzZ2L17Ny666KIeP57zEawT04J5eXkYMmQIx9GEBpVK5fW/a5eTRcV7DWj6pR2Jl0YhbVIcGB4DjAQ6jupxbGMdHLuA3FnJUOXIvRoL8T1f5Jg/sOnsaPypHU0/tcNucCCqUInM6xIglHP+1hr0fJFjrItFw+42VO1sgjRKhNybkyFLcH9maQ5pUbapDvhGgtz5qZDF091isOrt8iW/eBd48YbVcJm4jiJ02Gw2r17fbnSg9O0a6CpMyJ6eiNgREaf8uTpXgcH3Z+HYO3U4/EYlksdFI2VCLBg+49W4iO94O8e4Zqgzo+EHDVoPaMHwgdjhaoTFS1D9aTMOPFWGrBsTEDlAyXWYQc3bOWbV2lG2qQ6dxwxIGBOJtElx4An/2BcWNVAJWZwEJWur8dsL5ci6MRExQ9VejYkEFr8osBJVKbB8KoA2zgBlFo1meNvBgwe9dm1zixXFq6vgMDpRsCjtrP+eonAh+t+ahrqvW1G9sxna40bkzk6GWE1j7cHAmznGFdbFou2wDg3ft0FXYYRYLUTqxFjEXRABQRgfABBZEI7ybQ0oWVOD6CEqZFwbD6HML95mg443c0xzSIvyd+vB4zPovygN6lzFGb9PGiPGoLuyUP5ePY5trIO+yoT0yfHgCWiDPvGTAuumjdPwySNf4/fXK5F2dRwSL4kCw9Bohrfk5uZ65bqdZQaUrq2BUCHAoLsyIY0Wn/P7GR6D5MtjoMyU4ej6Wvz6TDmyZyQhsoAWsgQ6b+UYFxxmJ5r3dqDhBw2s7XaEp4eh37wURBaEnzbqKgoXIm9BClp/6cTxDxrQWWZA1o2JlNNe4I0cc1qdqPigEc17OxA5IBxZNyb+5XQvX8xDzowkhKeFoeKDRuhrzeg3LwUSulkMeX5RYHWa2yEe50REYwyqdjRBX21C9rQkCCR8rkMLSosXL/b4NZt+bsfxbfVQZsnRb14KBNLz/7cLT5eh8L4slG2pR8lb1Yi/OBLp18TRXWAA80aO+ZpZY0XjD21o3tsBl92FqEIVEuZGQpESds7HMQyDmGFqKLPlKH/XndMxw1TImJLQPdJF+s7TOaavNuHohlrY9A5kTUtE7Aj1ed/oMwyD+AsjIU+WonRtDQ4+V47cWclQ9zvzyBcJDZzvIjxw4ACGDh2KX375BUOGDIHmNy3KNtdBpHTfCYbF0sJBf8a6WFR+1ISG7zSIuzACGdcmgNfLtVQsy6JxdxsqdzQhLE6MfnNT/nIUjBBPYlkW2uNGNHzfhvZiHQRhfMSPikDcRZEQK4W9ul7L/k5UfNAAvoiHrKmJiMin0Sx/wjpZ1H7ZgpovWqBIkiJnVnKf3nfsRgeObaxFx1EDUsbHIPmKGPcGHxJw/lyf9JRfjGCdLGqQEmHxEpSuqcZvK48je3oSogbRYlF/5LA4cXRDLTpK9Mi4Nh7xoyP7NLXLMAwSLo5CeLoMpevdd4GZNyTQwlHidS67C62/atHwvQbGBgvC4sTIujER0UNU4It6P5LKMAxih6uhypajfGsdjqyqRswINTImx/dolJd4h6XNhqMba6GvNiH5Cncx1NsbxBOEMgHyb05zF227WqCvNiFnVjKtxQtBfjkHExYjxqC7M6HOU6B0XQ0qdzSCdVJTSk9ZvXp1n69habfh0EsV0B03Iv/mNCRc7Ll1c/IkKQrvyUJEQTiObazDsc11cFpdHrk28Q1P5Jgv2HR2VO9sxr5/HXWPnKuEKFicjsHLshE3MqJPxdXJxCoh8m9JQ9a0RLQd0uLA02XoKNV75Nqhqi85xrIsmvd24NdnymDT2TFwSQZSr4ztc3F1AsNjkDI+Fv1vTYO+1oyDz5VDX0Nb5UONXxZYAMAX85E7Jxnpk+NR/70Gh1+vhE1v5zqsoHDgwIE+PV5XZcJvK4/DaXVi4F2ZiMjz/DoDgYSP3FnJyJ6RBM3BThx8vhzGBrPHn4d4R19zzNsMdWYc21SLff86ivpvNYgaFI6hf8tB/5vToMqRe2WTDcMwiLsgAkOWZSMsVozi/1ahbEsdHBanx58rFPQ2x060kSnbXIfIgUoMvj8b4ekyD0fnps5VoPDeLIgUAhx6qQKNP7WB41U5xIf8bg3WmWgrjChdVwOGAfrNT0F4mnd+GMhfaz3QiWOb66BIliJvQapPGiqami0ofbsW5lYrMqbEI25UBO0yJT3W3WbhhzbojrvbLMRfHOlus+Dj6TqWZdH8cwcqdzRCIOUja1riWVsBEM/pPGbAsU21cNlYZE1N9NnyE5fDhcodTWjc3YbooSpk3ZAIvthvxzdIl6Bbg3UmygwZBt+XhdJ1Nfj9lUqkF8X1eb0P6RmWZVGzqwW1n7cgepgK2VMTfbbLLyxWgkF3ZaLqo0Yc3+be+p49NYnWsJDz0pM2C77CMAziRkVAlStH2ZY6FL9RhbhREUi7Jo52T3uBy+FC9afNqP9WA2W2DDkzkiFW9XzTQm/xBDxkXpcARWoYyt+tg7HejLz5qZDG0CaeYBYQBRbg7i9TcHsGqnY0unuNVJuRdSPdBfiC0+ZC2eY6aA5qkToxFknjon1e3PJFPGRenwhllvsD6ddny9BvTgoUqefeMk9CV2/bLPiSJEKEgsXpaPpfOyp3NKGjVI/s6UlQZVPDZU8xNllwdH0tzC1WpBXFIXFMFGe7+mKGqiBLlLhbOTxfTpu4glzAFFgAwOMzyLjWfRdQtrUOxkYL8ubTVn5vsunsOPJWNUyNFvSbl8L5m0HUICXkyVIcXV+DQy8dR+rEOCSO5e4Nk/iXM7VZSLg4stdtFnzhRA8lda4CZZvrcPi1SsRfFIG0q+PAF9NoVm+xLIvGH9pQ+bH7HMFBd2dCnti7M+U8SRYnwaC7M1G+pR6l62qQODYKqZPiPLbAnviPgBz+iR6iwqC7suByuHDw+XK0HdZxHVJAKSoqOq/vM9SbcXDlcdg67Ri4JJPz4uoESYQIA5ZkInFsNKo+bsKRVVWw6R1ch0VOcr455ikuuwvNeztw8NlyHH61EhaNFVk3JmL4P/ohdWKc3xZXJ5NEilBwWzoyro1H874OHHi6DNpyA9dh+a1z5ZhNZ0fxf6tQsb0RcaMiMOjuLL8ork4QSPjInevexNXwvQaHX62AVUubuIJNQI1gnUwWL0Hh3Vk4tqkOJW9VI/nyaKRcGUsjGedhyZIlf/k9bYd1OLqhFtIYEfIXpvl0vcL54PEZpF0dB2WWDMfeqcXBZ8uQMyuZplb8xPnkmCfYdHY0/tSOpp/aYTc4oM5XIL0oHspsWUCu0WR47l5w6jz3aNbvr1Yi/uJIpE2Mo+UQf3K2HGv7XYuyrfVgeAz635rmt93UGYZB4iVRUKRIUbquq/v7nGSo6DzeoBEQuwjPhWVZ1H+tQdWnTVBly5E7O9knO9uCFcuyqP9Wg6qPmxBZEI6cmcl+/8Zu09lxdGMttOVGd6E9PpazxcvENwx1ZjT8oEHrAS0YPoPYEWokjI4MqkXDrItFw+42VH/SBFG4ENkzkqDMoB3UZ+O0OlGxvRHNezoQURCO7Kl/fY6gv7DpHTi6oQbaciPSJsYh8TI6j9cfhMQuwnNhGAZJ46LdZ0Ctdy8c7Dc/BYpk/1nIGihcDheOb2tA894OJI2LRupVgTEiKAoXomBROuq+akX1rmZojxuROzvF70bdSN+wLhbtxTrUf/9Hm4XUSbGctFnwBYbHIHFMFCJOjGa9UoGEMZFIvSrOYw1Qg4W+2oSjG2th09mRNTURsRec/zmC/kCkEKBgUTqqdzaj6pMm6KpNyJlBO6UDXcCPYJ3M2mFDyboaGOstyLw+AXEjIzwUZfCzGx0oWVsDfZXJ/QY1PDCPp9FWGHFsQy2cNheyZyQhsj+d+xboHBYnmvec2mYhYUwUp20WfI11sWj4XoPqT5shUguRMz3Ja80xAwnrYlH7VStqdjVDnihF7uy+nSPoD9qKdTi2sRZCmQD95qf41dqxUNPX+iSoboPEahEGLslA7AVqlG+tR9nmOjhtdMTKn23fvv2Ur03NFvy28jhMTRYU3JYesMUV4O6ZVnhfFsLTw1CyuhoV2xvgclAO+Nqfc6w3zBorKj5owL7HSlH1USPC02QYdHcmBi51b7gIleIK6BrNGhuNwvuzIQzj49DLFajc0RjS7287Nn2M31+pQM3OZiSPi8bAOzMDvrgCgMj+4Rh8Xzb4Eh4OvXAczXs7uA6J9FLATxH+GU/AQ9YNiVCkhOH4tnoYGtwN3SQRIq5D8xubNm3ClClTALg7G5esrYZYKUTh3VmQRAb+35NQJkDewlQ07m5D5Y4maCuM6DeH2nn40sk51hOB2GbBl8JixBi4NBP132pQvbMZ7Uf0yJmRFFL94FiWRcv+Tsj3xMEa5T5HMNhG8ySRIgxcmomKDxpQtrkOuiojMq9NAE8YVGMiQS+opgj/zFBvRsmaajgtLuTOSobaC2fmBbLGn9pw/P0GqLLl6Dc3JSjn+w11ZpS+XQO73oGsGxMRPUTFdUjkDFx2F1p/1aLhew2MDRaExYmRMCYK0UNUtN7oLEzNFhx7pw6GOjOSLo1GyoSYoP8AdpicKN9WD81BLWKGqZBxXULQd75v2tOOivcaII0TI29ealDcBAeKkF/kfi7yRCkG35uNoxtrUbyqCikTYpB8eUxALNz2JtbJomJHIxp/aEP86EhkTI4P2ukWeZIUhfdm4fi2BhzdUIvOYwZkXJvg9zsjQ0WwtVnwpbBYCQbdmYm6b1tRs7MF7cU6ZM9I8qtO9Z7UWWbAsU11cFqdyJ2bjOjC0LhZirsgAvJEdyuHX58rQ+6sZETk09rSQBDUBRYACML4yL8pFbVftKBmVwv0NWbkzkyGICy473rOxmFx4ujbNeg4ZkDm9QmIvyiS65C8TiDhI2dWElQ5chx/vx66ahP6zUmBLEHCdWghKxTaLPgCw2eQPC4GEfnhKNtUh99ePI6ky6KRMj7GZ2eFepvL4UL1Z13nCGbKkDMjCWJ1aI3inLhRPPZOLY6sqkbS5dFIpb6Pfi/oCyzAvUA0ZUIs5ClhOLahtruVQ6jtzrC02XBkdRWsnXb0vyUN6tzQmTJlGPeHuCJVitK3a/HbynKkT4lH3KgIGinxkVBrs+BLsngJBt6VifqvW1HzeQvaD+uQMzMZ8qTAfo8zNVlwdGMtTE1WpE0K7WOxBFI+8hakov4bd99HfbUJubNTIFKExMd4QAqOW5zzFJGnQOG9WX/sztgXOrszdJVGHFxZDpedxZbmt0KquDpZWKwEg+7KRMwItXva8O1aOMxOrsMKOgsWLOj+tcPiRP13Gux/8ihK1tQALhb95qVg2EO5SBobTcWVh/D4DJKviEHhPZlg+AwOrixH9WfNAbmLlmVZNPygwcHnyuFysBh0dyaSLos+pbg6OcdCBcNz930sWJwOU6MVB58rg67KyHVY5CxCrvQ9sTvj+HsNKNtUB321CRlT4oNmOP1MWvZ3oGxLPRSpYchbkIKyHcO4DolTfJF7p6kqW46yLXX49dky9JuTElI7sbxt/PjxMGusaPyhDc17O+CyuxA1WIWEeZHUBNjLZAlSDLo7C3VftqD2ixa0HdYhZ2ZSwIzY23R2lG2uQ0epAfGjI92HXp9ho8P48eM5iM4/qLLlKLw3C0fX1+D3lyuQXhSP+IsjaTTezwT1LsJzYVkWzT934Pj7DZAnStBvfmrQdf5mXSxqdjaj9stWxIxQI+uGhKAuJHvD0m7D0bdrYKgzI3VSHBIvCd0pCE+wGx3QHjeiZX9nd5uF+AsjEHchtVnggqHejGPv1MHcbEHyFTFIujwGPD/e0NJWrEPZ5jowPAbZ05MQQTu/z8nlZFH1cSMavmtDVKESWVMTg35XpS/RLsJeYhgGcaMiIEuUoHRtDQ4+V4bcOSlBc1iw0+bCsU21aDukQ9rVcUi8lM62OhNJhAgDlmai+tMmVH3UBG2ZATkz6TzL8+W0OqGrMKGz3IDOMgOM9RaABcLiJd1tMajNAnfkiVIU3pOJ2i9aUXNiNGtGEmQJ/jWa5bS6ULmjEU3/a0dEfwWypyXRz+B54PEZZExOQHiaDGWb6/DbyuPIm5+CsDjawOMPQnYE62R2g8O9hb/M4F5IGeDFiFVrR8nqaphaLMidlYzIAUquQwoIHSV6HNtUC4bHIGdWctAU257kcrigrzKhs9wIbZkB+moTWBcgChdAmSOHKksOZbYMkhDb5RUIDLVmHNtUC3OrDSnjY9xrmvxgNEtfa8KxDbWwdtqRPpk2nvSWqcWK0rXVsLTbkT0tEdGDQ6ONhbewLhYHfvoVwy7ufX1CBVYX1sWiemcz6r5sReSAcGTPSArIoVZDnRlHVlcBDIP8haln3EW0e/dujB492vfBBQCbzo6jG2uhLTci+YoYpFwR4xcfQlxhnSwMdWZ0lhugLTNCV2mEy85CIONDmSXrKqjkkEaLTvlQpBzzTy6HCzWft6Duq1bIE6XInpEEWTw3ox2si0Xd162o2dkMWaIUObOSEdaDNh2UY6dzWl0of7cerQc6ET86EulFcbQs5DyxLAtzixWdZe6bx85yA5xmFy5+fiAVWJ7SdliHY+/UQqQQoN+CVMgCaKhVc0iLY+/UIixWgvybUiEKP/Oal6KiIuzYscPH0QWO7gNkdzYjPF2G3NnJQbc+72xYFwtTk7WroDJAe9wIp8UFvpiH8EwZVFkyKLPlkMVLzrlWjXLMv+lrTCjbVAezxoaUCTFIutS3o1mWdhuObayFrsqEpHHRSJkQ2+O1YZRjZ8ayLJp+akfF9kbIkyToNzcl5PqGnS9rpx2dZe7lDdpjBth0DjB8BopUKVTZcjQzDRgxYQgVWJ5kbrWiZE01LO02ZE9L8vuhVpZ13wlWf9KMqEIlsqcnnXPdi8lkQlgY7eT6K9oKI45uqIXL7kLO9CRE9A++7sksy8KisUFbbnS/yZQbYDc4wQgYhKeHdU/5yZPDevQBSDnm/1x2F2p2taDum1bIk6TImZmEsFjv3lCyLIvWXzpx/P0GCKR85MxKhjKjd+cIUo6dm77ahNJ1NXDaXeg3JwWqHFryYDc6/nivKzPA3GoDAMgSJVBlu0fjlRlh4Ivds1d9rU+owDoL91BrHVoPaJEwJhJp18T75e4bl8OF8q31aNnfieTxMUgZT0cBeZLd6EDZ5jq0F+vdeXB14A+5Wzvt0JYb3EPh5QZYO+wAD1CkhHWPUClSw2hxeojQVZlQtrkOlnYbUq+M9VozT4e56xzBX7WIHqpC5nUJ1APNy+wGB45udB8RlnJlLJLHRYfU54PT5oKu0ojOY6duwpFEiaDKlruLqizZWTdU0C5CL+GLeciZlQxFahgqP2yEodaMfvNSzjrtxgW7wYGSNdXQ15qRMysJMUPVXIcUdIQyAfIWpqLhhzZUfdQEXYUJuXOTIY0KnCNd7AZ364Qz3bVFDlRClS1DeIYsINcckr4LTwtD4b1ZqNnZjKpPmtD2uxbZM3q2HuqvdJYbUPZOHRwWJ3LnJPv9rECwEMoF6H9LGmo+b0HNzmboq0zImZkEoSw4P/pdThaGGlPXtJ8R+ioTWCcLoUIAVbYcCaMjocyW+2wTDo1gnQddpRGl62rAskC/eSm9HtL2JFOTBcWrquCyschbmILwNO5jCnaGWjNK19fArncga6r/7tJxWJzQVRi7R6iM9RYAgDRaBOWJu7bMs9+1kdClqzTi2OY62DrsSJ0Yi4QxfRvNOvkcwfAMGXJmJtEOU450lOhxdGMt+GIe8uanQp7sX606esO9ZtSCzjL3DaTuuBFOqwt8CQ/KTBlUOe73O2msuFc7U2mK0EdsOjtK366FvsqItKJ4JHDYNbejVI/St2sgVgmRf3MaJBE9e8NatmwZnn76aS9FF9wcFieOb6tH6wEtYi9QI+PaBM6n0lx2F3RVpq6dL0boa0yACxCphFBly7qGweU+XahPORa4nDYXqj9rQsP3bQhPC0P29CRIo3s+mmVqtuDoBvc5gqlXxrrb33hweopyrOcs7TaUrquBscGCzOsSEDtSHXAtMSxttu4pv9PWjHbdQMqTpB7ZtEFThD4iChei4LZ0VH/ShMrtjdBXmZA9LbF7MZyvNPygQcX2RqjzFMidndyraZ2UlBQvRBYaBBL3wlxVjhzH32+AvsqE3LkpPt3q7nKyMNSaoC0zorPcAF2lCazD3TpBlS1H7PBEKLNkkESJOHvzpBwLXHwRDxmTExA5QImyTXX49ZkypE6KQ8LoyPMqkE7sYqvc0QixWoRBd2V65dBpyrGek0SIMHBpBiq2N6L83XroqozIvD6R85vEc7HpHe41o11FlbXdDjCAPFmK2AsioMqWQ5Hmn2tGaQSrFzQHtTi2uQ4StRD9FqR6dK3C2bBOFhXbG9D4YzsSLolE+jXxIbVY0R+Zmi0ofbsWllYrMq713t0g62JhbLR0j1D9eRhcme1u8BkWJ6acIB7ltLpQ9WkTGn9oQ3hG12jWOdYf2vR2lG2pR8cRPeIvikDaNfF++cFH3GfUlr9bD0mUGHnzU3o1SukNDosTuq41o51lRpgau5Y4xIrdI1Q57iUOvtggQVOEHDE1W1CypgY2rR3ZM5IQNdB73dIdZidK366BtsyAzOsTETcqwmvPRXrGaes64uOndvdZYDcm9vkHn2VZmFtt3c3utOVGOIxO8AQMwjNk7gafHhwGJ+SvdJYbULa5DnaDA2mT4hB/0emjWe3FOpRtqQPAIHt6IiLyg6+tSbAxNlhQsq4adr0DOTOSODn1w+U4aYlD2R9LHMQqYdeaUfdNJBdnmVKBxSGHxYmyzXVoO6RD0mXRSL0q1uMfeGaNFUdWVcOmtyNvfiod3+KnNAe1KNtaB6FMgNw5yVCk9Kw/j6XD1j3lpy0zwKZ1gOEBitQwKLPcbzKKtLCAbxFBApfT6kTVx01o/LEdykwZsqcnQRIpOuUmQ53vPkdQpKDVJ4HCYXGibFMd2n7XIfHSKKRNjPPqjRvrYmGoN0N7rGth+onTIcL4UHatGVVlyzld4nACrcHikEDCR795Kaj/VoOqj5ugrzEhd06Kx95ctBVGlKyphiCMj8K7siD10FRkaWkp+vXr55FrEbeoQiXkyVKUrq/BoRePI/XqOCSeYwfWiXUFJ4oqi8YGMO7WCdGDVVBlyxF+UsO7QEM5Fnz4Yj4yr09E5EAlyjbX4cDTZUgaF43WXzph7bAh84YEn54jSDnmGQIJH/3mp6DhOw0qP26CvtqMfnOTPdaS6MSIfOexrtMhyo1wmJ3giRgoM2RIuTIWqmw5ZAnnPh0iENEIlod0lhlwdH0tGAGDvHkpUKT2rcNw8173/Hh4ehj6zUvxaN8SOmLCe7q3pX+jgTpPgZwZSRDKBXCYndAeN3avozplXUFXc09lpixo+tNQjgU3h8WJqo+a0PS/dsiSJMidlez1LvB/RjnmedoKI46+3dWSaG4KlJm9a/9z4ggabdcxNKeMyHeNUClSpX4/Ik9ThH7E2mlH6ds1MNSakXFt706FZ10sqj9tRt3XrYgdqUbm9Yke7yBfU1NDO3C8rL1Ej2Pv1ILHZyBSCWGoNQMsIFYLu45kcA+F+1PjWk+iHAsN5lYrxGohJx+UlGPeYdPZUbq+FrpKI9Imxbk7+//F55jd6PjjBrLMCHOLFQAgS5B0r6MKxGbGNEXoR8QqIQbcno7KHU04vs29hT/zhvPfAuu0unB0Yy3ai3VInxyPhDHe6bVFb0reF5GnwOD7s1G5oxEMgLiR7u3EksjQaLJIORYauNx5RjnmHaJwIQYsTkf1Z82o+qjJ3ZJoetIpm3dOPoJGW2aEod59AymJdB9Bk3JlDFRZ8pBvZhzar94LeAIeMq9LgCJFivJ362FssKDf/JS/PFrF2mnHkdVVsGhsyFuYisggPFg41IiVQvSbQx8ChJDAwvAZpF0dB0WqFMc21eHg8+VIvyYOxkbL6UfQZMkQd1HXDWQPm14HOyqwvCRmmBqyBAlK1tTg4PPlyJ2VfNZty/oaE0reqgbDZzBwaQZkCYF/hAEhhJDAFjlAicI4CUrW1qBkTU137720a+Kgyu7qvRdgneB9yb9XmAU4WYIUhfdmQZkhw5FV1aje2QzWdeqSN81BLX5/uQJitRCD7s70SXG1YsUKrz8HCW2UY8TbKMd8QxotRuHdmRh8fzZG/isf+TelIXFMFGTxEiqu/gKNYHmZQMpH3oJU1H3ViuqdzdBXm9xH3ITxUftlK2o+a0b0YCWypyeBJ/RNvWsymXzyPCR0UY4Rb6Mc8x2ekAdZgm93iQYD2kXoQx1H9Ti63n2auTxZirZDOqRMiEHy+Bi6EyCEEEL8SF/rE5oi9CF1rgKF92ZBKBeg44geuXOTkTIhloorQgghJMjQFKGPSSJEGHhnJhwmB0SK4OyBRAghhIQ6GsHiAI/PcFpcaTQazp6bhAbKMeJtlGPE31H7+PEyAAAgAElEQVSBFYIWLlzIdQgkyFGOEW+jHCP+jgqsEPToo49yHQIJcpRjxNsox4i/owIrBAX7bk3CPcox4m2UY8TfUYFFCCGEEOJhVGARQgghhHgYFVghaPXq1VyHQIIc5RjxNsox4u+owApBBw4c4DoEEuQox4i3UY4Rf0cFVgh65ZVXuA6BBDnKMeJtlGPE31GBRQghhBDiYVRgEUIIIYR4GBVYhBBCCCEeRgVWCCoqKuI6BBLkKMeIt1GOEX9HBVYIWrJkCdchkCBHOUa8jXKM+DsqsELQ+PHjuQ6BBDnKMeJtlGPE31GBRQghhBDiYVRgEUIIIYR4GBVYIWj79u1ch0CCHOUY8TbKMeLvqMAKQZs2beI6BBLkKMeIt1GOEX9HBVYI2rJlC9chkCBHOUa8jXKM+DsqsAghhBBCPIwKLEIIIYQQD6MCixBCCCHEw6jACkELFizgOgQS5CjHiLdRjhF/RwVWCKIOyMTbKMeIt1GOEX9HBVYImjFjBtchkCBHOUa8jXKM+DsqsAghhBBCPIwKLEIIIYQQD6MCKwTt3r2b6xBIkKMcI95GOUb8HRVYIeipp57iOgQS5CjHiLdRjhF/RwVWCNq8eTPXIZAgRzlGvI1yjPg7KrBCUFhYGNchkCBHOUa8jXKM+DsqsAghhBBCPIwKLEIIIYQQD6MCKwQtW7aM6xBIkKMcI95GOUb8HRVYISglJYXrEEiQoxwj3kY5RvwdFVghaOnSpVyHQIIc5RjxNsox4u+owCKEEEII8TAqsAghhBBCPIwKrBBUWlrKdQgkyFGOEW+jHCP+jgqsELR8+XKuQyBBjnKMeBvlGPF3VGCFoJdffpnrEEiQoxwj3kY5RvwdFVghiLY3E2+jHCPeRjlG/B0VWIQQQgghHkYFFiGEEEKIh1GBFYJWrFjBdQgkyFGOEW+jHCP+jgqsEGQymbgOgQQ5yjHibZRjxN8JuA4glDgNnbAU74WleA9cFiPCx8+EOGugz+N47LHHfP6cJLRQjhFvoxwj/o4KLC9iWRaOpmqYD/8MS/Ee2KrdjfFEKblgXU60vrwckoKRUF5zE4SxyRxHSwghhBBPoQLLw1iHDdby32Ep3gNz8R4425vBiCQQ9xsC9fR7IMkfDr5CDZZlYf71O2g/egvNKxZBduEkhF85C3y5iuuXQAghhJA+ogLLA5yGTliO7IOleA8spb+AtZrBV8dA0v8CSPtfAHHWQDBC0SmPYRgGYUPGQjrgQhh++BC6zzfDtP8rhF8xA/Ixk0/7fk/SaDSIiory2vUJoRwj3kY5RvzdGRe5l5WV4cILL0Rubi5GjBiBI0eOnPY9RqMREyZMQHR0NNRq9Wl/vmfPHgwaNAi5ubkYN24cGhoaPB89R1iWhb2xCrovt6DlhXvR+I8Z6Nj0HJydGijGTUXM8lcR9891UN9wByR5w85ZLDFCERSX3Yi4h99C2PDLof1kLZqevBmmX74By7JeiX/hwoVeuS4hJ1COEW+jHCP+jmHP8Cl+2WWXYf78+Zg7dy7ee+89rFixAnv37j3le2w2G3766Seo1WqMHTsWHR0d3X/mcrmQk5OD1atX45JLLsGzzz6LPXv2YOvWracFcODAAQwdOhS//PILhgwZ4oWX6Bmsww7r8ZOm/tqawIjEEOcOhbT/BZD0HwG+4vRCs6fszbXQfvQWLIf/B2FKLlRTboE4o8ADr+APBw4c8Ou/axL4KMeIt1GOEW/ra31yWoHV0tKC7OxsdHR0gMfjgWVZJCQk4Mcff0RGRsZpF6iqqsLgwYNPKbD27duHuXPnoqSkBACg1+sRExMDrVYLkejU0Rx/LrCcBm3X1N/PsJQeAGs1ga+KhqT/Be7/sgd5bSrPWn4InR++CXttGaQDL4LympsgiE7wynMRQggh5FR9rU9OW4NVW1uL+Ph48Hju2UOGYZCSkoKampozFlhnUlNTg9TU1O6vFQoFwsPD0dDQgLS0tB4H6Sssy8LRXAPz4T2wFP8MW1UpwLogTMmFYtwNkPQfCWFCOhiG8Xos4qyBiLnnBZgOfAPdx2vR9J9bIb/oaigmzARfFu715yeEEEJI74X8Ivc/pv72dk39Nbqn/nKGQD3tTkjyR4AfHsFJbAyPB9mwcQgbOBr67z6A/sutMO77EuHjZ0B+8TVgBN5bCE8IIYSQ3jttkXtycjIaGxvhcrkAuEd1ampqenRyeWpqKqqrq7u/1uv10Gq1SEg4+xTXxIkTUVRUdMp/o0aNwvbt20/5vs8//xxFRUWnPf6OO+7A6tWrT/m9AwcOoKioCBqN5pTff/IfD2HrI/egbe0TaHh4GjSvPQT9ge/wTUUzzFfdioQn3kXUzY9ANvJKvLpuI5YtW3bK400mE4qKirB79+5Tfn/Tpk1YsGDBabFNmzatT6/j18PFmP3SOxDd/jTChoyF9qPVaPr3Iqx9aAlW/Oc/p3xvTU0NioqKUFpaesrvv/TSS92v48T1ff06zvbv8cgjj5x27MX5vI4T6HX43+soLCwMitcRLP8ewfg6TjxvoL+OE+h1cPs6Hn300VPqj6FDh2LixImnxdYTZ1zkfumll2L+/PmYN28etm3bhqeeeuq0Re4nnGkN1olF7qtWrcLYsWPxzDPPYO/evZwtcndP/dV2LVD/GbbKkq6pv5yuBeojIUzM8MnUnyfYm2qg/Wg1LMV7IErLg3LyLRCn55/34++44w688sorXoyQhDrKMeJtlGPE2zy+yB0Ajh07hvnz56OtrQ1KpRJr1qxB//798cgjjyAhIQGLFi0CAAwcOBAajQYtLS2Ij4/HZZddhnXr1gEAfv75ZyxatAgWiwWJiYlYv349EhMTPf4CzoZ1OmA9fri7qHJqGsEIxRDnDnYXVfkjwFdGeuz5uGA59iu0H66Cvf44pIUXQ3n1Qgii4rkOixBCCAl4XimwfMmTBZbTqIOlZB8sh/fAUrofrMUEvjIKkv4junb9FYIRiT0UuX9gXS6Y9n8F3Sfr4DRoIR9ThPArpoMXpuA6NEIICXisywVHcw2sFcWwVRyGtfIIxFmDoJ5xT8DMepDe8fguwkDCsiwcLXWwFP8M8+E9sFUecU/9JWdDMfZ6SAougDAxM6h/CBgeD7IRV0BaeDEM374P/ZdbYdrzORQTZkF+0SQwAiHXIRJCSMBgHXbYastgqyyG9fhh2CqPwGXSAzwehElZEKXnw7T3c4hzBkE2bBzX4RI/FnAFFut0wFpRDEvXAcoOTYN76i+nEKqpSyENgqm/3uCJJAgfPxOykVdC99l6aLf/F8YfdkB5zUJIBl4U1EUmIYT0lstigq2qBNaKw+6CquYoYLeBEYkhSsuDfMxkiDL6Q5SaB55YAgBoZxh0bnsF4vT+EETGcfwKiL8KiALLZdTDUrIP5uI9sJTsB2sxgqeMhDR/BJTXLgrKqb/e4odHQD3tLsjHTEbnh6vQtuZxiDL6QzX5VohScwEARUVF2LFjB8eRkmBGOUa8rbc55tS1/zHdV1EMe30FwLrAkykhyuwP5cR5EGcWuGc/+Gf+iFRdfwesxw+jfeMziF6yAgyP39eXQ4KQ3xZY9u5df3tgqywGXCem/q6FpP8FECZl0ajMOQjj0xC9+HFYSn+B9sM30fL8XZAOGQvlpPlYsmQJ1+GRIEc5RrztfHKMZVk4NA2wHT/cXVQ5NO5zcfmR8RBn9If8okkQZRRAEJN03p8pPKkMEbOXofXl5dB//R7CL5/ap9dCgpPfFFis0wFL2W+wFO9xT/211gNCESQ5g6G6YYl76k9FJ6f3lKTfUIhzCmHa+wW0n65D079vwYgxU+AyG8GTyrgOjwSp8ePHcx0CCXJnyjHW6YS9oeKUESqXvgNgGAjj0yHOG4bwjAKI0/P7/HkizhwAxWU3QvfZ25DkDoYoObtP1yPBx28KrNZXH4RGKQQvPALS/he4ezvlFIInknAdWsBjeHzIRl4J6eBLoP96GwzfbINpz+cIv3IWZBdOPOswOCGE+DOXzQJb9dHuYspWVQLWagYEQohSciEbOQGi9P4Qp+d75YYy/Ko5sJT+gvb1TyHm/pfo84qcwm8+WaVDxiJmynT3vDfvtAbzxAN4YimUV82BfNRV0H72Njrffw2GH3ZAWXQTJP1H0pQrIcSvOY069+6+imLYjh+Gra4ccDrASGQQZ+RDccV0iDMKIErJ9slRYoxAiIg5y9H87FJoP3oL6utv9/pzksDhNwWW4qJJNMTqIx99uxtTZtwL+Zgp0H74JtpWPQZx1kAoJ99C/wbEI7Zv344pU6ZwHQYJcI72ZlgrDsNWUQxrxWE4mmoAAHxlFFrEKmReuwiijP4QxqVxdmMujEuF6pqb0Pn+a5Dmj4AkbxgncRD/4zcFFvGdTZs2YcqUKRAlZiDqtidhKdkP7Y430fLsUoQNuwzhkxZAoI7mOkwSwE7kGCHni3W54GiqhrWrmLJVFMPZ2QoAEMSmQJzRH4pxUyHOKAA/IhZ3T5+OLQ9dw3HUbrLR18B8ZC/aNz2L2OWvgy9Xch0S8QNB1cmd9B7rdML4807oPlsPl9UExSXXQnH5VPAktBCeEOJ5rMMGW215VzPPYlgri8GaDACPD1FyNkQZ/d3Tfen5AVGwOLVtaH7qNogyCxC54B+05CIIhHQnd+I5DJ8P+UWTEDb0Uui/2gr9t+/D+PMuhF81B7KRV4LhU58XQkjvuSxG2Cq7GnpWFJ/U0FMCUXo+FGOuhSizAKKU3O6GnoGEr4yEeuqdaFvzOEx7v4DsAtpJG+qowCKn4EnCoJw0H7KLJkH3yTp0vvsSDN9/6F4Inz+C7soIIefFqW2DtbK4uweVvaHS3dBTroI4oz+UkxZAnNG/q6FncNzASQeNRtiI8eh8/zWIMwsgiErgOiTCISqwyBkJVNGImHU/5GMmuxfCv/kIxDmFUBbdAlFSJtfhEUL8CMuycLTWu9slHD8Ma2UxnJpGAAA/Kh7ijALIL77G3dAzOjGob9RU1y2G9fjvaN/wNKKXPhM0xSPpOSqwQtCCBQuwZs2a8/peUXI2ou5YAUvxHmh3rELLs0sQNvxyKCfOo8av5Kx6kmMkMLEsC9Oez2E5stfd0NPQCTA8CBPTIc0bDlFmAcTp/b12Nqy/5hhPEubu8v7i/dB/tQXh42dyHRLhCBVYIainXbYZhoG0YCQkecNg/N9n0H22AeZfv4f80uuhGHcjeGKplyIlgYo6uQc//efvQPfZeogyB0A26squBel5PtsY4885Jk7Ph+KKadDt3ABJ7tDuc2BJaKFdhKTHXGYj9F9ugf67D8CTyhE+cS5kF4ynA08JCRHGn3eiY/NKhE+aj/ArpnMdjl9inQ60rLwHrMWEmPtfCciF+6Gur/UJtUwnPcaTyqC8ZiHiHloFSU4hOre8gOan74ClZD/XoRFCvMxcvAcdW1+EbPTVUFw+jetw/BbDFyBizgNwajXQfvhfrsMhHKACi/SaICIWEXMeQMy9L4AnlUPzxsNofe0h924hQkjQsVaVon3tk5AUjITqutuCerG6JwhjkqCcfCuMP30Kc/EersMhPkYFVgjavXu3R68nSslF9NKnEbnwn3C2N6P56TvQsXklnNo2jz4PCRyezjHCPXtLHdre/CeESZmInP0A50sCAiXHZBdOhCR/BDo2PQenvoPrcIgPUYEVgp566imPX5NhGEgHXojYB16HcsqtMB/6EU1P3ATdzg1wWS0efz7i37yRY4Q7Tl07NG88DJ5chaibHwMjEnMdUsDkGMMwUM+4BwDQsXklOF72THyICqwQtHnzZq9dmxEIobhkCuIeXuNuVvrFFjQ9eROMez4H63J67XmJf/FmjhHfcllM0Pz3n4DDgajFj4MnU3AdEoDAyjG+Qg319HtgKd4D4/8+4zoc4iNUYIWgsLAwrz8HL0wO1eRbEPfQmxBnFKBj03NoefoO6L9+F/bGKrqLC3K+yDHifazDjrY1j8OhaUDUon9BoI7hOqRugZZj0oKRkI26Ctrtb8DeUsd1OMQHqMAiXiWIjEPkvAcRfffz4EfEQvfZBjSvWIym/5uHjq0vwXz4Z5pCJMQPsS4XOjY/D2v574i86REIE9K5DingKacsAl8ZhfYNT4F1OrgOh3gZNRolPiFOy4P4lsfA2m2wlh+CpWQfzEf2wvjTJwBfCHHWAEjyR0CSPxzC6ESuwyUk5Gk/XgPTL98gYu6DkGQP4jqcoMATSxAxezlaXrgHul3vQDlxLtchES+iEawQtGzZMs6emxGKIMkbBtV1tyH+4TWI/ftqKItuAgBod6xG8xM3ofHxBeh871VYSvaDtVk5i5X0Hpc5RvpO/912GL5+F8opixA2eAzX4ZxRoOaYKDUX4eNnQf/FZlgrj3AdDvEiGsEKQSkpKVyH0E0YnQjhJYlQXDIFLqsF1rKDsBzZB/Phn2H4YQcYoRji7EGQ5A+HJG84BJFxXIdMzoM/5RjpGdPB76Hd/gbkl90AxSVTuA7nrAI5xxRXTIelZB/aNzyN2GWvgCcJrPVk5PzQUTnEL7EsC0dTNSwl+2A5sg/WimLA5YQgNqW72BJn9AcjEHIdKiFBw1p+CK2v/R1hhaOhnrUMDI8mObzFoWlA81O3Qzp4DCJm3Mt1OOQM+lqf0AgW8UsMw0AYnwZhfBoUl90Il8UI69FfYS7ZB9Mv38DwzXtgxFKIcwdDmucuuPiqKK7DJiRg2RsqoVn1GMSZBVDPuJeKKy8TRCVAdd1idGxeCWn/CyAdeBHXIREPowKLBASeRAbpoNGQDhoNlmVhr6/oGt3ai46tLwGsC8KEDPfoVv5wiFLzwPDp8GlCzoejoxWaN/7h3vW78GEaGfaRsAsmwFy8Fx1bXoAotR/4ykiuQyIeRLcoIai0tJTrEPqEYRiIkjIRfsV0xNz1HBIe34KIuX+DMCEdxv/tROuL96Ph4WloW/dvGPd+Cae+k+uQQ06g51gocRn10Lzxd4DPR9Sif4EnkXEd0nkJhhxjGAbqaXcBfD7aNz1H/QGDDBVYIWj58uVch+BRPJkCYUPGImL2MsT/6x3E3PMC5GMmw9HWiI53nkHjP2eg+bk7of1sPWzVR8G6XFyHHPSCLceCFWuzQrP6Ubj0nYha/AT44RFch3TegiXH+HIlImbcB2vpLzDu/ojrcIgH0RRhCHr55Ze5DsFrGB4fotRciFJzobxqDpz6DlhKfoGlZB8M338I/a6N4MmVkPQb5p5OzB3qN0d/BJNgzrFgwbqcaN/wFOy15Yi64z8QxiRxHVKPBFOOSfKGQTb6GnTuWAVxdiGEcYG7Q5L8gQqsEBTI25t7iq9QQzbicshGXA7W6YStugSWI+6diab9XwEMD6K0fu4mp3nDIUzMAMMwXIcd8EIpxwIRy7LofP91mH//HyJv+ifEaXlch9RjwZZjyqKbYD12EO0bViDm7pW0Di4IUIFFQgbD50OcUQBxRgGUVy+Ao7MV1pL9MJfsg/7LLdB9sha88AhI8odDmjcc4tzBAbMexVdYmxVOXbv7P30HXCd+rXX//8TXgugERMz9m1+dXUf+oP9yC4y7P4J62l2QFozkOhwCgCeSIGLOcrQ8fzd0n62H8pqFXIdE+ogKLBKyBKpoCEZdBdmoq8A67LBWFHf33TL9vAvg8SHOLIAkz70zURCbEpSjWyzLgjUbuwsnV1fxdMrXXQUUazGe+mC+EPxwNfjhEeCFR0CUng++QgXjns/R8sxSRMx/iI5Z8TPGvV9A98lahF85G7JRV3EdDjmJKDkb4VfNge7TdZDkj4A4s4DrkEgfUIEVglasWIEHHniA6zD8CiMQQpJTCElOITD5FjjamrqLLd1n66HdsQp8dUzXVOIwiLMLwRNLuA77nFiXCy6j9rTRJaeuHa6TCiinrh2w2055LCOWdhdN/PAICBMy3F8r1OArI7r/jBemOGPR+davlZgVZYTmtQehnHwr5GMmB2VxGmgsJfvRsfl5yEZdBcWEWVyH0yfB+j6mGHdjV5f3pxC7/DXwpDSKHqiowApBJpOJ6xD8niAyDvLR10A++hqwNiusx3+H5chemI/sg/HHjwGBEOJMbg6oZh129wiT9k9F00lTdyeKKPxpxyRPFt5dNAmiEiDOKOj+mh+u7v41TyztU4wdFgeilj8B7Uerof3gddhry6CeeicYkbhP1yW9Z6s5irY1j0OSPwKqG5YEfMEbrO9jDI+PiFnL0PzU7eh871VEzA7MMxcJHZVDSI+wLAtHa717oXzJPljLfwecdgiiEv44widrIBihqMfXdllMf6xr0p6hcOoqmlxG3akP5PHcI0vdhVLESUXTSaNOCjUnC2dNv3yDjs0rIYhLQeTCf9C6LA44WhvQ8sI9EETGI+qO/4An8u/RVwIY936JjneeQcS8h/z2wO1gR0flEOJDDMNAGJMEYUwSFGOvhctq7jqgej/Mh36C4fsPwYjEEGcXutdu5Q0DI5b+MSV3pum6rv+zNsupTyYUnVI0CWKTTy2iugonniwcDM9/u9aHDb0UgthktK3+P7Q8uxQR82hdli859Z1ofePv4EnliLzlMSquAkTY8HGwHNmDjndfhCg9DwJVNNchkR6iAouQPuCJpZAWjIK0YNRpB1R3vv8a4HKe9hhGInMXScoI8NXREKXmnj7ypFCDkcoCfhrnBFFSFmLuewnt6/5N67J8yGU1Q/Pff4C1WRB91/Pgy5Vch0TOE8MwUN94J5qeWoyOd55F1OIn6XzIAEMFVgjSaDSIiqKDkT3ttAOqzUZYy34Dy7r+GHlSqENiHdKZcowvVyJq8RPQ7ljlXpdVVw71jUtD4u+DC6zTgbY1T8DRUo/opU9DEBnHdUgeFQrvYzyZAhEz74PmtYdg+H47FGOv4zok0gN+WWCZTKagOGfKX919991YuXIlAKBfv34ICwvjOKLgxJPKIB14IddhcGLhwoXYsWPHab/P8PlQXbsIouRstG9ZCXtTNSIX/hMCNU1/eBLLsujYvBLWsoOIWvQviJIyuQ7J486WY8FGkjsE8kuuhfbjNZDkDIYwIZ3rkMh58ssCq7S0FEOHDuU6jKB24u+XNhcQb3j00UfP+edhwy5zr8t6619oeXYJIuf/HeKsgb4JLgToPl0H074vETHnAUhyBnMdjlf8VY4FE+XVC2A5egDt61cg5t4Xe7WJhvieXxZYJ2zYsAF5eYF3hEMgKCkpwezZs7kOgwSp8ynaRcnZiLnvRbSv+zdaX/0brcvyEMPuj6D/YjOURTcjbOilXIfjNaF0Y8gIRYiY8wBanrsL2k/XQTX5Fq5DIufBrwusvLy8kPohIiTU8OUqRC1+8tR1WVPvpDv0XjIf+hGd770K+SXXQn7p9VyHQzxIlJgB5aR50O5Y5d6hnFPIdUjkL9CWBEIIp06sy1LPXgbTwe/R8uJ9cHS0ch1WwLFWHEbb2/+BtHAMlJNvoZHAICQfex3E2YPQ8c4zcJn0XIdD/gIVWIQQj1u9enWPHyMbNg4xdz4Ll0GLlmeXwFp+yAuRBSd7UzU0bz4KcXo+ImbdFxLb+XuTY4GO4fGgnnk/XBYzOt59GRz3CSd/Ifh/CoPUW2+9hQEDBkAoFOKFF17gOhxCTnHgwIFePe7EuixhXCpaX30Qhu8/pA+Rv+DobIXm9YchUEUhcuE/wQhCY3q1tzkW6ATqaKinLoX51+9g/uUbrsMh50AFVoAaNmwY3n33XcycOZOmAojfeeWVV3r9WL5chajb/g35xUXofP81dLzzLNg/HUZN3FwmAzRv/ANgGEQtejykDgbuS44FurAhYyEdeik6tr0CR3sz1+GQs6ACqwd4PB6efPJJjBw5Emlpafjggw/w5JNPYvjw4cjJycF3333X/b27du3CxRdfjGHDhuGCCy7At99+CwBoamrCZZddhmHDhqGgoABLly7tvkNfu3YtLr/8csycORMDBw7E8OHDUVlZecZYBg4ciH79+oHH49EdPgk63euyZt1P67LOgrXboFn9GJxaDaIWPQ6+KribbpJTqa+/AzxJGNo3PgP2DCdGEO759S7Cc6nQsejsw02tSgRkhPd85EehUODnn3/G119/jaKiIrz66qvYt28ftm3bhmXLlmHv3r2oqKjAY489hl27dkGhUKC8vBxjxoxBdXU11Go1PvroI8hkMjidTkyZMgVbt27FtGnTAAD79+/Hb7/9htTUVDz44INYsWIFXn/99d6/UEICmGz45RDGpXafYxi54O8QZw7gOizOsS4X2jc+DVvNUUTf9m8I41K4Don4GC9MDvWs+6F59W8wfPM+FONu5DqkoGIu3oOOD97q0zUCssDSWFhkb3XA1YeBGz4DNM0WIErSsyLrRCE0dOhQmEwmTJ8+HQAwfPhwlJWVAQB27tzZXVR1Px+fj5qaGsTHx2P58uX48ccfwbIsWlpaMGDAgO7rjho1Cqmpqd2/fumll3r/IgkJAqLkbMTc/xLa1z6J1lf+BtW1iyAbfU3ITo2zLAvt9v/C/NuPiFzwMMQZ/bkOiXBEkj0I8kuvh/bTdRDnDoYoKYvrkAKeo7UBnR+8DsuRvYA0oU/XCsgCK0rCoGyqoM8jWD0trgBAInGfRM/n8wEAIpGo+2uHw9H9fVdccQU2btx42uMff/xxtLa2Yu/evRCJRLjvvvtgsVhOuz7gnpI8+ZpnE6ofNMR/FRUVefQYE/e6rCeh/XAVOt97FbbaMvc5hiHYL8vwzTYYvt8O1Y1LQ/YoJsDzORaolBPnwlp6AO0bnkLsvS/R2Z695LKaof9iM/TfvA9+uBqRCx6GyiEF/rOm19cMyAIL6N30nq+MHz8ejz32GH7//XcMGOCezti7dy9GjBiBzs5OxMXFQSQSoampCVu3bsWNN/Z+aJdlWVqDRfzOkiVLPH5Nhi+A6rrFECZnoWPri13nGP4DAlXonGNo3P8VtDtWQ3HFdFfgqwEAACAASURBVMgvmsR1OJzyRo4FIkYgQsSc5Wh+dim0H78F1XW3cR1SQGFZFuZfv4P2w1VwmnRQXD4VinE3gieSgOnjTlVa5N4Dfx4pOtvXWVlZeOedd7Bo0SIUFhYiPz8fL774IgDgrrvuwp49e1BQUIC5c+di/Pjxpzz+5Gv++euTrV27FsnJydi2bRseffRRJCcn47fffvPI6ySkr07Oa0+TDb/c3S9L14GWZ5bCevyw157Ln1iOHkDHO88hbMR4hE+cx3U4nPNmjgUaYXwalNfcBMP3H8JS+gvX4QQMW0MFWl9ejva3/wNhag7i/vZfKK+aA55I8tcPPg8My/Hwx4EDBzB06NBTDh0+0+8Rz6K/YxLonPpOtK19ArbKI0G/LstWW4bWl5dDnFGAyJsfAcMP2MkH4iWsywXNGw/D3liF2AdeB18WznVIfstl0kP72XoYd38MQXQiVNffBknu6Z+Dff2cpBEsQkhA4itUiL7935CPvhqd772Kjk3PB2W/LEdbEzT//ScEscmImP93Kq7IGTE8HiJm3gc47Ojc8gItHTkD1uWE4X+foemJm2Ha+yWURTchdvmrZyyuPIEKLEKIx23fvt0nz+Nel3Ub1DPvh+nAN2h5aRkcncHTL8tp0ELz+t/BE0sRdev/gSf2zNRFMPBVjgUSvjISqql3wnzoR5j2fsF1OH7FWlWClufvRueWFyDJH464h96E4tLrwQiEXntOKrAIIR63adMmnz6fbMSJdVltQbMuy2W1oO3NR+AyGxG1+HHw5SquQ/Irvs6xQBFWeDHChl+Ozvdfg0PTyHU4nHPq2tG+8Rm0rrwHYFlE3/UcImbdD74y0uvPTQUWIcTjtmzZ4vPnFKXkIOa+lyGITUbrKw/AsPujgJ0mYZ1OtL/9b9gbqxB16/9BENW3fjzBiIscCxSq628DTxaO9o1Pg3WGZpd31umA/pv30PTEzbAc2QvV1DsRc+8LEKfn+ywGKrAIIUGje13WRZPQue0VdGwOvHVZLMui490XYSnZj8gFD0OUksN1SCTA8CQyRMxeBltVKfRfbeU6HJ+zHD2A5qduh3bHaoQNH4e4h1ZDfuFEMDy+T+Og1ZKEkKDC8AVQXX87hMnZ7n5ZjdWIWviPgDmrT7dzA0w/74J65v2Q5A3jOhwSoMQZBVBcPhW6nRsg6Tc0JAp1R1sTOj/8LyyHfoIoowAx978MUWIGZ/HQCFYfVVdX44033jjn9wwbNuyUg6BPMBqNmDBhAqKjo6FWq70VIiEhSTbiiu51Wc3PLoW1wv/XZRl+/AT6XRsRfvUCyEZcznU4JMCFT5gFYWIG2tevgMtq+esHBCjWZoX2s/Vo+s+tsFUfRcScBxC99GlOiyuACqw+q6ys/MvDmM/WMFQoFOLBBx/El19+6a3wCOHEggULuA4BwIl1WS9BEJOE1pcfgGH3x367Lst8+H/o3PYKZBcXQTFuKtfh+D1/yTF/xgiEiJi9HM5ODbQ7VnEdjsexLAvzb7vR9O9boP9yCxRjpiDuoVUIG3qpX/TEoynC82Q2mzF//nwcPnwYQqEQcXFx2LlzJxYvXoyamhoMHjwYqamp2L59O3766SfcfvvtcDqdGD58+FnPExSJRBj7/+zdd3iUVdrH8e9Mek9IAdJDCZEkgBQhgIQi1TVioSlV2MWlrK4Ku7o21HUFdX0VsCMgq1Q1UhQFhCBdCZ0EQkkhlBTS+8w87x8PBCNBEpjJTCb357q8hGQycw+5M/PLOec5p29fUlNTG/bJCGFilrTLto2bF77T/kNB/Mfkr1lA5bkUvB6ejsbWcs4xrDh7nMtL38CpQ088H5hqEW8Ols6SesyS2TUPwuP+P5O/ZgGO7bvhFNnd3CUZRdXFdPK//oCKkwdwbN8Nn2n/wc43wNxl1SABq442btxIQUEBx44dAyA/Px+Ajz76iCeffJIDBw4AUFlZyahRo1i6dCn9+/dn06ZNLFmyxFxlC2EWY8aMMXcJNVSvywpsQ97q+egupOE96XmLWJdVdSmD3E9ewi6oLc3Gzm7whbiNlaX1mCVz6XUv5cf3krf8Hez/8SE2bo13yw9DeQmFG7+gePu32DTzw/vPcyw2NDbagKXLuYChrPiWv17r5IqtT8s6375Tp04kJSUxffp0YmNjGTZsGMB10w3JycnY2dnRv39/AAYOHEirVuadBxZCqFy6D8KuZQi5n73Kpbdn4j3pXzi0ijJbPfqCXHUjUfdm+Ex5CY2d5YyqCeuh0WjwGv13Ls39K3kr/w/vyS81ulFSxWCg9NctFKz7DKWiFPeh43Dr+6BF/8w0yoClLy7g4r8ng2K49TvRamn5ynJsXD3qdPOwsDCSkpLYsmULmzdvZvbs2Rw8eLBOX9vYGlkIa2Yf3A6/p+eTu/jfZC/4B54PTcOl57AG/zk1lJWQ89ELYDDgM/U1tM5uDfr4ommxcW+G1+gnyV00h5I9G3GNGWrukuqsMiOF/K/epzI1Cac7Y/GIm4Ktl6+5y7qpRhmwbFw9aPGvRbc9glXXcAWQmZmJp6cn9913H4MHDyY+Pp5z587h7u5OQUFB9e0iIiLQ6XRs27aNvn37snnzZk6fPn3LdQrRGO3YsYPevXubu4wbsnHzwnf6G+THf0z+6vlUZaTg+fC0BluXpegqyf3sVXSXL+H3xNuN4s3C0lh6j1kip+gYXHoMoeCbD3Fo08Hi1iz9nr64gMINSyjZsxG7FiH4TJ+LY9uO5i6rzhplwALqNb1nDEeOHOHZZ59FURR0Oh3jx48nKioKvV5PZGQk0dHRtG7dmvj4eFauXFljkXunTp1ueL8dOnQgJyeHoqIigoKC6N+/P0uXLm3AZyaE8c2bN8/i3/w0NrZ4PTQN+yvrsqoupDbIuizFYODyl/+l4swxfP/6b+xahpr08axVY+gxS+TxwFTKTx3i8rJ5+D3xtkUeHq7o9ZTs2kDBd58D4PnA47j0+hMam8a1PtHy/mUt1JAhQxgyZMh1H7exsWHdunU1PhYTE1O96P1mDh8+bJT6hLAkK1asMHcJdVa9LmvRq1z670y8Jz6PQ6tIkz1ewbpFlB1IoNmE53Bo08Fkj2PtGlOPWRKtgxPNxs4m+72nKfxxOR5Dx5m7pBoqTh8h/6v3qbqQikv3wbj/aWKjPYdT9sESQhids7OzuUuoF/vgdvg9Mx9bnwD1HMOdG0zyOEXbvqZ461d4PvA4zp3uNsljNBWNrccsiUPoHbgPeoSiTcupSE0ydzkA6PKzyV36H7Lnz0Jj54Df39/Fa/STjTZcgQQsIYQAru2X5RIzlPzV88lb+S6KznjnGJYmbqMg/mPcBozEtc/9RrtfIW6F28Ax2AeFc/l/8zBUlJmtDkVXSeGmFVx6/c9UpBzCa8xT+D7xX6s42kcClhBCXKGxtcPr4el4jXmKkn2byZ4/G31B7m3fb/nJg1z+4i2cuw7A/U+yA7kwP42NDV5jZ2EozKPgmz8+7s1Uyo7t5dIbj1P4/TJcYobS4l+LcOk+CI3WOqKJdTwLIYRFmTVrlrlLuC0u3Qfh97e30OfncOntGVScPX7L91WZeYbcRa/g0KYDXmP+Ltu2GElj7zFLYOcbgOcDUynZs5Gyw7sa7HF12efJ+fhFcj95CZtmfjSf/T6eD0xF6+TSYDU0BAlYQgijCw4ONncJt80+pB1+T7+HrY8/2Qtm39K6LN3lS+R89Dy2vv54T3reIq/YaqysoccsgXOPIThG9SBv5bvoCy+b9LEMFWUUrF/MxTemUnUhlWaTnsfnr//BrkWISR/XXCRgCSGMbubMmeYuwShs3JvhO+0NXGKG1Htdlr6kkJwPn0djZ4/PX15B6yiLso3JWnrM3NRd3p8ErZa85e+Y5DB0RVEoTdzGpdf/TNG2r3G7ZyTNn/0Y5469rXpEV36dEkKIP6Cuy5qBfWBb8lYvuLZflof3Db9Gqawg99OXMZQU4vvkf7Fxb9ZwBQtRTzaunniN+Tu5H79Iyc71uPa+z2j3XXn+DPlffUDl6SM4RvfEd/hfsPVuYbT7t2QygtVIffbZZ0RHR2NnZ8e7775b43MbNmygS5cuODo68ve//91MFQphXVx6DMZ35pvo8rL+cF2WoteT+/kbVGWexucvr1j8btlCADi1vwuX3n8i/9tPqLqUcdv3ZygtIu+r98l6cwaGojx8Hv83PpNfbDLhCiRgNVpdu3Zl9erVPPLII9cNsYaHh7N48WJZBCrMJjk52dwlmIRDaATNn56PrXdLdV3Wru9qfF5RFPK/Wkj58b00m/Ac9iHtzFSp9bPWHjMn9Yw/Py4vm4uiq7ql+1AMeop3f8/Ff0+hdN8mPO57jOazP8AxoouRq7V8ErDqQavV8vrrr9OjRw9CQ0P55ptveP311+nWrRvh4eEkJCRU3/aHH37g7rvvpmvXrnTv3p1t27YBcPHiRfr370/Xrl2Jiopi5syZ1XPeS5Ys4Z577uGRRx6hQ4cOdOvWjbNnz9ZaS4cOHYiIiECr1V43Z962bVs6dOiAra3MAAvzmD17trlLMBkb92b4Tp+LS48h5K96r8a6rKIfv6Rk13d4jXwCp8juZq7Uullzj5mL1t6RZmNnU3X+LIU/fFHvr69ITSLrnSfJX/kujnd0pcVzn+LW/2E0tnYmqNbyNdp34PNFFymuKrnlr3e1c8Hfrf5DlW5ubuzZs4effvqJuLg43n//fX755RfWrFnDrFmz2LdvH2fOnGHOnDn88MMPuLm5cerUKfr06UNaWhpeXl6sW7cOFxcX9Ho9w4cPZ9WqVYwaNQqAX3/9lUOHDhESEsKzzz7L3Llz+fDDD2/5eQphDgsWLDB3CSalsbXDa8QM7IPakLd6IVUXUnHq0JPC75fhPnQcLj0Gm7tEq2ftPWYu9sHhuA8dR+F3S3GM6IpD66ibfo2+8DIF6z6j9JfN2AW2xveJ/+IQ1r4BqrVsjTJg5ZcX8ui6v2JQDLd8HzYaLV8/uBRPR/d6fd3VINSlSxdKS0sZPXo0AN26dSMlJQWAjRs3Voeq6sezsSE9PZ2WLVsye/Zsdu7ciaIoZGVlER0dXX2/MTExhISEVP95/vz5t/wchTCXpnIJvUuPIdi2CCV38asUrF2ES89huA16xNxlNQlNpcfMwW3ACMqP7+Py/+bR/B8foHWsfX8qRa+jePu3FG78Ao2tLZ4jZuISMwSNtnEdymwqjTJgeTq688V9H9z2CFZ9wxWAo6MjoAYmAHt7++q/63S66tsNHDiQL764foj1tddeIzs7m3379mFvb8/TTz9NeXn5dfcP6pTkb+/zRqz5MlchLN3VdVnlx/bi3H2Q/DyKRk+jtaHZ2NlcmjeN/K8+oNmjz1x3m/ITieR//SG6rHO49BqGx9AJaF3czFCt5WqUAQu4pem9hjJo0CDmzJnDkSNHiI6OBmDfvn3cdddd5Ofn06JFC+zt7bl48SKrVq1ixIgRt/xYiqLccN8SU+xnIoS4no17M1xihpq7DCGMxta7BZ4P/ZW8L9/GMfIunDupMzK63IsUfPsJZYd3Yt8qCr9nFmAf0MrM1VomWeReD7//zfRGf2/Tpg1ffvklU6dOpVOnTrRv35733nsPgCeeeIK9e/cSFRXF+PHjGTRoUI2v/+19/v7vv7VkyRKCgoJYs2YNL7/8MkFBQRw6dAiALVu2EBQUxDvvvMOiRYsICgpi/fr1t/8PIEQdzZ0719wlCCsnPWZ6zt3uwaljb/JWvYcu+zwF3y/j4ht/oSItmWbj/oHvzDclXP2BRjuCZQ56vb76z66urjX+HhgYSGFhYfXfBwwYwIABA667j6CgIPbu3Vvr/U+YMIEJEyZU//3ee+/l3nvvrfW2EydOZOLEibV+bsCAAWRk3P4+JkLcqtLSUnOXIKyc9JjpaTQaPEf+jUtzH+fif6aARotb3wdxGzQGrYOTucuzeBKwhBBGN2fOHHOXIKyc9FjDsHFxx3vic5Ts3ojbwNHY+QWau6RGQwKWEEIIIW7IoVUUDq1uvl2DqEnWYAkhhBBCGJkELCGE0eXk5Ji7BGHlpMeEpZOAJYQwuscee8zcJQgrJz0mLJ0ELCGE0b388svmLkFYOekxYekkYAkhjK5z587mLkFYOekxYekkYN2mtLQ0Pvrooz+8TdeuXUlISLju4yUlJQwePBhfX1+8vLyu+/zDDz9MQEAAWq22xh5bQgghhLBsErBu09mzZ/nwww//8DY32pHdzs6OZ599ls2bN9f6ddOmTePgwYNGqVMIIYQQDUcCVh2VlZUxatQoIiMj6dSpE0OGDAHg8ccf58SJE9x5550MHz4cgF27dtGpUyeio6N57LHHbnhgs729PX379sXDw6PWz/fv3x9fX1/TPCEhTGjRokXmLkFYOekxYeka7Uaj5bmV6Mr0N7/hDdg62eDobV/n22/cuJGCggKOHTsGQH5+PgAfffQRTz75JAcOHACgsrKSUaNGsXTpUvr378+mTZtYsmTJLdcpRGOUmJjI5MmTzV2GsGLSY8LSNcqAVVWs49fXT4ByG3eihe4v34Gda93+CTp16kRSUhLTp08nNjaWYcOGAaAoNYtITk7Gzs6O/v37AzBw4EBatZLDMEXTsnDhQnOXIKyc9JiwdI0yYNm52tL1uXa3PYJV13AFEBYWRlJSElu2bGHz5s3Mnj27zuujalt/JYQQQgjr1SgDFlCv6T1jyMzMxNPTk/vuu4/BgwcTHx/PuXPncHd3p6CgoPp2ERER6HQ6tm3bRt++fdm8eTOnT5++5ce9OkL2+5EyIYQQQliuRhuwGtqRI0d49tlnURQFnU7H+PHjiYqKQq/XExkZSXR0NK1btyY+Pp6VK1cybdo09Ho93bp1o1OnTje83w4dOpCTk0NRURFBQUH079+fpUuXAnDvvfdy+PBhNBoNkZGRhIeH89NPPzXUUxZCCCHELZKAVUdDhgypvnLwt2xsbFi3bl2Nj8XExFQver+Zw4cP3/BzGzZsqF+RQliIuLg41q5da+4yhBWTHhOWTrZpEEIY3YwZM8xdgrBy0mPC0knAEkIY3aBBg8xdgrBy0mPC0knAEkIIIYQwMglYQgghhBBGZtGL3JOSksxdgtWSf1thSvHx8dVHRwlhCtJjwtJZdMAaO3asuUsQQtyC5cuXy5ufMCnpMWHpLDJgRUREsH//fnOX0SRERESYuwRhhVauXGnuEoSVkx4Tlq7WgJWSksKECRPIzc3Fw8ODJUuW0L59++tut379embNmoVeryc6OpolS5bg5uYGgFarJSoqChsbGwAWLFhAr1696lSUs7MznTt3vtXnJIQQQghhVrUucp86dSqPP/44J06c4B//+AcTJ0687jbFxcVMmTKFb7/9lpMnT+Lv78+rr75a4zY7duzgwIEDHDhwoM7hSgghhBCisbsuYGVlZbF///7q9U8PPvggGRkZnDlzpsbtvv/+ezp37kx4eDgA06ZNY/ny5TVuI+fnCSGEEKIpui5gZWRk0LJlS7Ra9VMajYbg4GDS09Nr3C49PZ3g4ODqv4eEhHDhwgUMBkP1x/r160enTp14+umnKS0tNdVzEPU0adIkc5cgrJz0mDA16TFh6W55HyyNRvOHn09PTycxMZFdu3aRnZ3NrFmzbvWhhJHJDsjC1KTHhKlJjwlLd13ACgoKqjESpSjKdaNVAMHBwaSlpVX/PTU1tcbIV2BgIKAuWP/rX//Kzz///IeFDBs2jLi4uBr/xcTEEB8fX+N2P/74I3Fxcdd9/fTp01m0aFGNjyUmJhIXF0dOTk6Nj7/00kvMnTu3xsfS09OJi4sjOTm5xsfnz59/XTgsLS0lLi6OHTt21Pj48uXLa/2tatSoURb1PMaMGWMVz+MqeR6W9zyWL19uFc/DWr4f1vg8rr6ONfbncZU8D/M+j5dffrlG/ujSpQvDhg27rrb60Ci1LJTq168fEydOZMKECaxZs4Z58+axb9++GrcpKiqiTZs2bN++nXbt2jFjxgycnZ2ZN28e+fn52Nvb4+zsjMFg4KmnniI/P58lS5ZcV0BiYiJdunRh//79cuWgEEIIISzC7eaTWrdp+Oijj5g4cSKvv/46Hh4eLF68GFCTor+/P1OnTsXNzY1PP/2U4cOHo9PpiI6OZunSpQAkJyczdepUNBoNOp2OLl268O67797G0xRCCCGEaDxqHcFqSDKC1fB27NhB7969zV2GsGLSY8LUpMeEqd1uPpHDnpugefPmmbsEYeWkx4SpSY8JSycBqwlasWKFuUsQVk56TJia9JiwdBKwmiBnZ2dzlyCsnPSYMDXpMWHpJGAJIYQQQhiZBCwhhBBCCCOTgNUEya76wtSkx4SpSY8JSycBqwn6/a78Qhib9JgwNekxYekkYDVBM2fONHcJwspJjwlTkx4Tlk4ClhBCCCGEkUnAEkIIIYQwMglYTdDvTxgXwtikx4SpSY8JSycBqwmaPXu2uUsQVk56TJia9JiwdBKwmqAFCxaYuwRh5aTHhKlJjwlLJwGrCZLLm4WpSY8JU5MeE5ZOApYQQgghhJFJwBJCCCGEMDIJWE3Q3LlzzV2CsHLSY8LUpMeEpZOA1QSVlpaauwRh5aTHhKlJjwlLJwGrCZozZ465SxBWTnpMmJr0mLB0ErCEEEIIIYxMApYQQgghhJFJwGqCcnJyzF2CsHLSY8LUpMeEpZOA1QQ99thj5i5BWDnpMWFq0mPC0knAaoJefvllc5cgrJz0mDA16TFh6SRgNUGdO3c2dwnCykmPCVOTHhOWTgKWEEIIIYSRScASQgghhDAyCVhN0KJFi8xdgrBy0mPC1KTHhKWTgNUEJSYmmrsEYeWkx4SpSY8JSycBqwlauHChuUsQVk56TJia9JiwdBKwhBBCCCGMTAKWEEIIIYSRScASQgghhDAyCVhNUFxcnLlLEFZOekyYmvSYsHQSsJqgGTNmmLsEYeWkx4SpSY8JSycBqwkaNGiQuUsQVk56TJia9JiwdBKwhBBCCCGMTAKWEEIIIYSRScBqguLj481dgrBy0mPC1KTHhKWTgNUELV++3NwlCCsnPSZMTXpMWDoJWE3QypUrzV2CsHLSY8LUpMeEpZOAJYQQQghhZBKwhBBCCCGMTAKWEEIIIYSRScBqgiZNmmTuEoSVkx4TpiY9JiydBKwmSHZAFqYmPSZMTXpMWDoJWE3QmDFjzF2CsHLSY8LUpMeEpZOAJYQQQghhZBKwhBBCCCGMTAJWE7Rjxw5zlyCsnPSYMDXpMWHpJGA1QfPmzTN3CcLKSY8JU5MeE5ZOAlYTtGLFCnOXIKyc9JgwNekxYekkYDVBzs7O5i5BWDnpMWFq0mPC0knAEkIIIYQwMglYQgghhBBGJgGrCZo1a5a5SxBWTnpMmJr0mLB0ErCaoODgYHOXIKyc9JgwNekxYekkYDVBM2fONHcJwspJjwlTkx4Tlk4ClhBCCCGEkUnAEkIIIYQwMglYTVBycrK5SxBWTnpMmJr0mLB0ErCaoNmzZ5u7BGHlpMeEqUmPCUsnAasJWrBggblLEFZOekyYmvSYsHQSsJogubxZmJr0mDA16TFh6SRgCSGEEEIYmQQsIYQQQggjk4DVBM2dO9fcJQgrJz0mTE16TFg6CVhNUGlpqblLEFZOekyYmvSYsHQSsJqgOXPmmLsEYeWkx4SpSY8JSycBSwghhBDCyCRgCSGEEEIYmQSsJignJ8fcJQgrJz0mTE16TFg6CVhN0GOPPWbuEoSVkx4TpiY9JiydBKwm6OWXXzZ3CcLKSY8JU5MeE5ZOAlYT1LlzZ3OXIKyc9JgwNekxYekkYAkhhBBCGJkELCGEEEIII5OA1QQtWrTI3CUIKyc9JkxNekxYOglYTVBiYqK5SxBWTnpMmJr0mLB0ErCaoIULF5q7BGHlpMeEqUmPCUsnAUsIIYQQwsgkYAkhhBBCGJkELCGEEEIII5OA1QTFxcWZuwRh5aTHhKlJjwlLJwGrCZoxY4a5SxBWTnpMmJr0mLB0ErCaoEGDBpm7BGHlpMeEqUmPCUsnAUsIIYQQwsgkYAkhhBBCGJkErCYoPj7e3CUIKyc9JkxNekxYOglYTdDy5cvNXYKwck2tx6r0VRzLOYGiKOYupcloaj0mGh9bcxcgGt7KlSvNXYKwck2px4orS3hh+xskXjpMbHBPZt01HTcHV3OXZfWaUo+JxklGsIQQ4hZlleYwc9OznMw7zZ87jmP/xUNM/u5JjmQlmbs0IYSZScASQohbcDovlWkbZ1NaVcbCQXMZG/Uwnw17Fz8XX/62+TmWHlmJ3qA3d5lCCDOxiIDV6pFIUkszMCgGc5cihBA3lXjxMDM3PYunowfvD55LqEcQAM1dfPm/e15jfNRIlhxZwVNbXiSrNMfM1QohzMEiApZvzwDeTfuMkfFTWLB/EUezkyVsmdCkSZPMXYKwctbcY5vOJjBr6xwifdrx3sB/4+3UrMbnbbU2TOowhncGvEpm8QUmb3iSnzP2mKla62XNPSasg0Usct8780dWJHzFBcdstqT+zOrktfg6e9M3uBd9g3vR3iccrcYisqBVkB2QhalZY48pisLy41/z0cHPGdpqAM90n4at9sYvoZ2aR7Fo2P8xb88Cnt/+H4a3Hcq0zpNwsHVowKqtlzX2mLAuGsXM1xUnJibSpUsXvF7dy/C7O3NvkEKA4wn2ZO4kIX03l8vzJGwJIcxKb9Dz3q+fEJ/yPROjRzMxejQajaZOX6soCt+mbGRh4mcEuLbkpd7PEOYZbOKKhRC362o+2b9/P507d67311vECBbAfUEa9mQpLD4J9tp29POP4N52kwh3PUlS9k4Z2RJCmEW5roJXd77N7sxfmNV9On9qU7+RE41Gw/DwoXTwa88rO95i6sanmdFlCve1GVTnkCaEaHwsJmA9EW1D5852nC5UWJ9uYF2awlN7NOiUdkQ3a8efu/cd2QAAIABJREFUgiYR6X6CS4W7JGwJIRpEfnkhzya8xpm8VF6P/Rc9Arre8n218gzhwyFvsTDxM97e9z6/XjjArO4zZM8sIayUxUwR1jYEV1Cp8OM5hXVpBr7LUMitAF9HGBZkoLPnScrLd7E7U51G9HP2ITa4p4StOtixYwe9e/c2dxnCillDj2UWXWD21lcoqSrhjb4vEOHd1mj3vT19N3P3zsfZ1okXej1NB7/2RrvvpsIaekxYttudIrTogPVbeoPCniyFdenqCNexPLDXQmwLAzE+J7DR7ebARQlbdREXF8fatWvNXYawYo29x5JyU/jn1ldxs3dhXr+X8HdrYfTHuFSSzas7/8uxnGQmRI9iXOQIbLQ2Rn8ca9XYe0xYviYTsH7vzJWpxPXpCtsuKFQZIMpTTx+/k7iyi5M5eyRs3UBpaSnOzs7mLkNYscbcY7vO/cKcHW/SxiuM1/v+Cw8Hd5M9ls6gZ9nRVXx+dBXRvnfwfM+/4+fia7LHsyaNucdE49BkA9ZvFV6dSkxXpxJzysHHUU9/vxP42uzmXMEe8iRsCSFuYm3KRt755SN6Bd7FCz2farAtFQ5dOsaru96mXFfB7B4z6BMU0yCPK4So3cnLZ1i172teGDqraQes39IbFPZmK6xLU0e4juaBnVZPH58TBDnsJrd4DwUVEraEENcoisKiQ1+w7NhqHmx3LzM6T67XdF1OucKv2Qp9Wmpwtr21KwMLK4qYt3cBP2fs4f62Q5kue2YJ0eCO5Zxg2ZFV7D7/K772zfhq5BIJWDdy9jdTiVsvKFQZ9HRwT6adyx5Ky/ZQVHktbPUL6U1773C5dFqIJqRKX8Wbexfyw9mtTOs8iZER99f5NeBAjsL8Y3qWn1Yo14OHPTzaRsuUdlru9Kn/64iiKKxN2cgC2TNLiAajKAqHso7x+dGV7L94mBD3QMZFjcDzsit3de0mAasuiioVNmWqU4kb0hWyy/UEOSTTwW03+qo9lFblN4mwNWvWLN58801zlyGsWGPpsZKqUl7Y/gaHs47xbMwTDAjtc9OvqTIofH1WYf4xAzsvKQS5wF/baxkcqOWrswYWnzRwoRQ6+8CUdloeaaPFw75+ryNn8tN4ZcdbZBZfZGaXydzXZrBVvhbdjsbSY8JyKYrCrxcPsvTIKo5kH6eNVxjjokbQJygGrUZrPRuNNgQ3ew0Phml4MEyL3qCwL9uG9enRrEuP5EjBJLxtktHa72btqe2sTl5rtWErOFh+Ixam1Rh6LLs0l39sfYVLJdm82f9l7mwe/Ye3v1Sq8HGygQ+TDJwvhdiWGtbcY8P9IRpsteprQ2cfG+Z00fJdhsKnyQZm7DLw9B4DI1tpmBKhpVdzTZ1eR1p5hvDRkLdYmLiYt/d9wC8XDjKr+3TcHdyM8tytgTl6TFEUfs1R0Bugq++177toXBRFYVfmLyw7uoqk3BQivNvyeuy/6BnQzajv801qBOuPpBYpbEg3sC5dYet5HU4kE+68G3fNHqr0TWNkSxiP3qCw65LC9+cUQlxhZCstXg7SM5bibH46s7fOAWBev5f+cBrul2wD848aWHlGwUYDY9tqmNHehg7eN/9+ZpYoLD1p4NMTBs4WQTsPmBKhZXxbLX5OdeuH7Rm7mbdnAU62jjzf6yk6+kXW7UkKo1AUhYO5sPKMgZWnDaQWqx93t4O+/hru8ddwT4CWCE/kfcHCGRQDCem7+d+x1ZzKO0u0b3smRI+ka4tOtX7v5CpCEyiqVNh8dSoxQ0dFRTKB9rvxtd2DwZCPj5MP/UIkbImaynRq38SnqkE9uxy8HQzkVWqx1cB9IRrGtdEyNEiDvY30jLkcvHSUf21/nebOvszt9yK+zt7X3aZSr7D6yjTg3iyFUFeYHqnlsXAtzRzr/70zKArbzit8esLAV2cVFOD+EA1T2mm5J0CDzU1GQi6VZPPazv9yNCeZCVGjGBs1AlvZM8ukjucprDhtYOUZAycLwNsBHgrTMqqVBmdb2JypsPm8+otUlQH8neGeADVsDfDX4O8iP+OWQmfQ81Paz/zv6GrSCs/RpUVHJkSNomPzP/5lRQKWiRkUhV+uXJW4Lq2KtIJk/Gx309JuDyj5NHP04Z7QXvQN6SVhqwnKq1DYkK7wTWoZ2zPPoTFkEuh4jhDnTGyUDC6XXaSd9x34ek5kXWYoB3PVF+rRrbWMb6uhm2/dpoyEcfyU+jOv7/4/OvhF8mqff+JiV3MfpfMlCh8lG/goycClMvUNc2aklnuDbh6C6iq3XOF/pwx8kqxumBzsCo+Fa5nUTkuw640fQ2fQ87+jq1l6dCVRPhG80Osp2TPLyE4VKOpI1RkDRy6ro1QPhmkY1UrLgAANdrX0QEmVwo6LatjanGngYK768faecE+AGqBjW2pwr+c6PHH7qvRV/Hh2G18cW0Nm8UViAroxLmoEkT7t6vT1ErAaWHqxelXi2lQdv15Mwku7i+Z2e7EhHw8HHwaG9qR/qGWPbCUnJxMREWHuMhqlkqpS9l3IYH1qGolZ58gpzcBJk4mjNgsN6o+Sj1MzQjyCCPEIpIWLHxtObSK9MJOhrQfQK/gR1mZ48sUpdR1PuAeMa6NlbFstoW6W2S+3wtJ6TFEUViV/y/uJixkU1pfZ3WdgZ2NX/bndWepo1ZozCg42MCFcy4z2Wu7wMt33RFEU9mWra7WWn1Yo1cHgQA1/jtDyp+Abj3IezjrOqzvfpkxX3qT3zDJWj6UXK6w6Y2DFaYX9OQouthAXomF0ay2DAzU41HO0OatMYeuVsLUpUyGtGGw00N1Pwz0BGgb4a+jhJ6PYplShr+S7U5v48vjXZJXmEBsUw9iokYQ3a1Wv+zFJwEpJSWHChAnk5ubi4eHBkiVLaN/++rOy1q9fz6xZs9Dr9URHR7NkyRLc3NRFmHv37uUvf/kL5eXlBAYGsmzZMvz9/Y3+BMypuEqdElqbWsXWc0nY6nbha7sXO00+rvY+DAjpyeBWlhe25IiJm8svLyStMIO0ggxSCzI4lpPB2YIMKnSXq2+j0frRwjWQzn7BRPoEEeoRRIh7IK72LjXuS2fQsy5lI4uPLKdSX8WjkQ/zUPh97MyyZ1mKga9TFUp00KeFhnFttYxopan3VWeWxpJ6TG/QszDxM746sZ5xkSOY3PFRNBoN5TqFFWfUbRYSc6CNO8yI1DIxvP5X/d2uokqFlWfUKcS9WQp+TjChrZbJ7bS087y+lsKKIt7cu5DtGbub7J5Zt9NjF0oVVp9R19XtuqSG6nuD1FB1b/Ct72X2e4qicKYINmca2Jyp8NN5hcsV4GILfVpeW78V1Qy0FvQe0ViV6cpZm/IDK45/Q35FAf1DejM2csQtb3VikoDVv39/Jk6cyPjx4/nqq6+YO3cu+/btq3Gb4uJi2rRpw/bt2wkPD2fmzJk4OTkxb948DAYD4eHhLFq0iNjYWN5++2327t3LqlWrjP4ELIVBUTcaXJumY2PqcQpKduFjuxd7TT5Odj70DurJA20tI2ylp6c3iqu8TE1RFHLLLpNWeI7UK0EqvUD9c35FwZVbaamiBQW6QHSaQNo1C+KeoCBGtgmkhYtTvR6vqKKYpUdX8vWJDfg6ezO103j6hfSmRAffpCosS1FfhB1s1N+gx7XRMjio9mkJS2cpPVahq+C1Xe+w49xe/t5tKnFth5BRrPBBkjpFl1MOQ4PUacDBgRqLeJM7cllh0QkDy1IMXK6Au1uoo1oPhdV841cUhXWnfmD+/kUEuLbgxd7P0MozxIyVN6z69lhOucJXZw2sPK0er2arVUcMR7XSEhdy8yk8nUHP/ouH2JK6HY1Gw92BPejWslO9gq3eoC6Y35xpYPN5dWqxXA9+TjDgSti6J0Dzh1PF4nolVaV8c+I7ViV/S3FlCYPC+jI28mEC3a8f1KkPowesrKws2rZtS15eHlqtFkVR8Pf3Z+fOnbRqdW14bfXq1SxevJjvvvsOgKSkJAYNGkRGRga//PIL48ePJykpCYCioiL8/PwoKCjA3t7eqE/AUmUUK6xNq2LtmSTS8nbipVXDlr2tD11b9uT+1p1p7uKNl6MHbvaucsirCRkUA5dKskkryLguTBVXlQBgp7Ul0C0AB7sgsioDOJwfwMWKINwcWxAXYs8DoVr6+9d/uqA2GYWZfHBgCTvP7SPa9w6md5nMHd5tAfWqsy9PGfg8RT2FwNcRxrTWMq6thi4+sl6rPgoqCnlu279JyTvDS72eQWfbjfnHDMSnqtNAk9ppmd5eS1sPy/w3LdcpxKcpfJJs4Kfzyg03MT2bn86cHW+RWXyB6Z0f4/62Q6RPrsivUP8NV5xWf3kB6O+vjlQ9EKq56ZW9iqJw4vIpNp1NYEvadvLKCwh2D0Sr0ZBakIGTrSMxAV3pE9STHgFdcLJ1rFd95Tp1BE1dv6X+kq4Abd2vrd/q53/zOpuqwooivjqxnjUn1lGhq2Bo63t4pP2DtHRtbpT7N3rA2r9/P48++ijJycnVH+vevTtz586lb9++1R97++23SUlJ4cMPPwTUgzfd3d2prKzkm2++4ZNPPmHjxo3Vt2/evDl79+4lNDTUqE+gMSipUvjxnI7VKcc5lrUTZ9SwdZUGLa72bng7eeDl6IGngzuejp7Vf/Zy9MTT0QNPR3e8HDxxtXeRF9Ba6Ax6zhdfIO3KKFRawTnSCtUgVa6vAMDJ1pFg9wBCPNQpPW/nQM6UBPLTBV82ntNSolOnih4I1TI8VEN3X+Mtbv69/RcPsWD/Is7kpzEorC9/7jQOP2cf4MrOwpdhWYqBL06pC67v8IRxbbWMbaMlSH7D/UMXii8x66eXKawsISbsOVaktubwZfXfcEaklnFttLg1omnY04UKn5248SamFboK3k9cTHzK99wd1IPZ3Wc02T2ziqsU1qapi9U3ZqhX+N3dQsPo1hoeCqvb9hjniy6yOXU7m1K3kV6YSTNHLwaE3s2gsL609WqFRqMhreAc2zN2sS19F6fyzmJvY093/87EBsUQE9DtuqUCdXG5XB1d25ypruFKKQQN6p5b6giXhl7NNTgaaQqzscorz2dV0rd8c/I7DIqBuLaDGXXHA7VeEXw7zLbRqLzB152LnYYHwux4IKwjBqUDv2T/mQ1nL3E4N58T+QXklxdgV1mIW3kBfg6FuNkVYsc5qvSFFFUWYFAMNe7PVmuLh4ObGrwcroQyR3c8HTyv/dnREy8H9c9Otk5W9f2q1FeRUZhZY0QqreAc54oyqTLoAHC1dyHUPYi2XmHcExpLiHsgoR5B+Ln4cL5Ew7dpBpakqZfO6xTo5qvhuU4ahodquaOB9rPp0qIjnw59hw2nN7Po0BckpO/ikfYPMbr9AzjaOtDJGzp52zD3Li2bM9UpxFcTDfzrFwN9W2oYH67loVBNowoKDSE5N4VZP71KheLM4fLXWJ/YkvtCNLzdQ718vjH+LLR21/Dvbuompt9nqGu1ZtbYxNSOJ7tNpUvLjszbs4DHvnuCF3o+fdPL0K1FmU7huwx1pGpDukKZHnr4aZh7l5YRrbQE1GHLhIKKQram7WTT2W0czUnGydaRPkEx/K3rn7mzeYfrtsUI8QhknMdIxkWN5HzRRRIydrE9fTev7XoHO60tXVp0JDa4J70C78LDwb1Oz6OZ49XNsAFsSCtS2HJlwfxnJw28cQgcbaB3i2vrtzp5Y7JfAi1NTmkuK5K+YW3KD2g1Wh4IH8aIiPtp5uR5W/dbqlNIK4KzRQqpxQqpReremOeSdLd1v9edcBwUFMSFCxcwGNQ3dUVRap3rDg4OJi0trfrvqamptGzZEq1We93nioqKKCgoqHWR+1XDhg0jLi6uxn8xMTHEx8fXuN2PP/5IXFzcdV8/ffp0Fi1aVONjiYmJxMXFkZOTU+PjL730EnPnzq3xsfT0dOLi4mqM3AHMnz+fWbNm1fhYaWkpcXFx7Nixo8bHly9fzqRJk66rbdSoUdXPQ6vR0N3Pjt4FxzF8+BxJj/Ti8JihfHzPSEZHTiE1fQDbc57h65y3WZf3CUmGFRhs3yP7+CDua/0sT901mxldJhPXZgilZ4s4dyaDrNIc9p0/wKrkeObtXcBzCa8z7YfZjFk7laGrxjBo5UiGfj6KoZ+MZPbWV3jk4yl8kLiEzw+uZMjf4li06XOSc1O4VJJNha6iTs+jIb4f9z0Qxw/7N/PDma18fHAZ/0p4nXs/H8PA5Q/z2HdPMGfnW3yb8j2XS/PI3J/KYI9Y3hnwKl8/uJj1D39B78udSPookZERcbg5dWZRijfd4w0ELdfxxC4dGuDdnloyxtjymvNP7HnpAdp71XwDNnVf2WhtiGs7mC/iPuC+VoNZfPBLRq6ZzI9nt1UH69UrV7Dyxcl80d+Wi2Nt+SzWBo0GJm2rwmdpBY/8pGNjhgGdQbGYn4/27dvf0s/HVbfyPLKzc/jw8C9M3fg858r82J33PO3yMzk9ypZvB9lyT4CWjIyMBvk5v53n8UffD1uthvtCtMyPOE//H6YwNTCXny8q3L1Ozx2rdfx3XRUtD4fg79qCJ7c8z+LDyykqLrK453HV7bzu/nvum6xPM9B78SncPy3m4c16ThcqvNxFy9nRtgR/+Sihp9fVCFe/fx4Vugq2pu3kT/NHMXz1eN779WNc7V14odfTvNT67+x54yfC7IJqhKvanocur5Ll/1zCE6GTWT38Ux6/cyKlVWXM3T2fuNXjeGrLi3x78nsul+XXq69C3DT88OIYRhau5+Kjthx+yJbXu2kpvJzDv3aX0DVeh9//dIzYrOOjJD1j//4in35q+e+DV9W1ry4WZ/Hchld5aM0kNpzazOj2D7By+CdMvXMC777xzk2fR5lOITlf4a8L4xn42mr+uU/P6C06usfr8FtWictiHe3X6Lj3Bz0zfq5k4e7zbPx5Hwd/WnddbfVR6yL3fv36MXHiRCZMmMCaNWuYN2/edYvci4qKqhe5t2vXjhkzZuDs7Fxjkfunn35K3759eeutt9i3b59VL3I3tvMl6v5bv+Zc+X+2Qq46y0WQizpk3M1XQ1cfDV19r83R6wx6CiuKyCvPJ7+igLxydYQsv7yAvAr1/4dTjuLm505+eQElVaXXPbaTreO1aUkH9yujYp61Tl96Onpgq729E5eKKoqvXLF3ZTSq8BxpBRlcLMmqvo2fsw8hHuooVLD7lSv2PAJv+Juh3qCwN1vhm1R1489TheBqB0MD1VGqYUEaPC1wXcP5oot8eGAJCRm7ucO7LTO6TCHKt/ZL0TOKFb64sl4rKR+aO8EjrbWMD9fSsZl5R5lfeukl5syZ0yCPVVylju59cngTrrqPqLLpzPiOzzAh3NFoV4NZsto2MY0LNnCH0zfsSFf3zHq+11M0t4I9s3QG9Uq8lacNfJlcSrnWifae6r5yo1ppCa/lisvfMygGDl46yqbUBBLSd1FSVcod3m0ZGNaX/iG98XK8vdGQ38oty2NHxh4SMnZz8NIRDIpCtO8dxAb3pE9wTPWSgFtRqVfYm3Vt/dbeLAW9AqGu1zY87e+vwbeOJwZYonNFF/ji2Bp+OLMVV3tnRkTczwPhw66bfq3QqyNQ1aNPxYo6GnVlJOpi2bXb2mjU99AwNw2hbhDqpiHUVUPYlT/7O18bETTJVYQnT55k4sSJ1ds0LF68mMjISF566SX8/f2ZOnUqAOvWrWP27NnodDqio6NZunRp9TYNe/bsYerUqZSXlxMQEMCyZcsICAi4rgAJWHWjKOp+KlfD1i/Z6p4thVXq51u7UyNwdfau29RRpb6K/IrfhLDyghsGs7zyfCr0ldfdh5u9a63Bq2ZI88TZzonzxRd/s0Yqg7TCDHLL8gDQoMHftTnBV9ZHXd32INgj8LoNIWtTrlNffOPTDKxNU7hUpl6dc3+IhuEh6otNY1m7cPDSURbsX0RK3hn6h9zN1E7jaeHqV+ttFUUhMQeWnTLw5SkD2eUQ5QXj26prdOoyPdIYnSpQWHjcwOKTeryUVQTbraZbwBDeuPvP2No0qWNWq/1+E9O2LkmE2ryLjaaMf/aYQWxwT3OXWG96g8KOSworTqtXAWaXq+skR7XSMrq1lqhmdevv03mpbEpNYHNqAtmlufi7tmBgWCwDQ2MJcr/+vcnYCioK2XFuH9vTd/HrxUPoDDrae4fTJziG2KCe+Lu1uK37L6xUSPjN+q3jV5b5dvKGAf7qgvm7W2hwsbP814PUgnT+d3QNW9J+xtPBgxERw+nYYjAXyh2qQ5M6naf++fxvxgm0VwKUGpzU/1eHKVcNAS7U+QxJ2Wi0CTMoCikF8GvOtdCVmKOuP9AAEZ7XQlc3Xw0dvTU43WbAKNOV1whjavjKJ7+88Eo4U/98NZjpDNfPYdtobAh0a3llFCqoesF5kJt/vffyya9Q117Epxr4/pxCcZUaNh8I1TI8RN3Qr7GuTzAohurp0eKqEkZF3M8jkQ/hbHfj7SGqDAo/nlP4PMXAt2kKlXr1t9lxbdWrplwbwYvrHzEo6vObf8zA9xkKzRx09PP6mKzCn5jaaTxj2j/YKNdYGdtvNzFddbqIQO2H+NjuIar5IP5z92TcHep3tVtDUxR1RGbFGXW/qvOl6o73I1tpGd1KS2efuo3QZpXmsPmsulj9TH4aHg5u9AvuzcCwvkT6tDNbrxRVFrM781cS0nex78IBKvWVtPVqRWxwDH2CehLiEXjbj3G+RP2F8+qGp+dLwU4LPZtfXb+lsZgDq6sMChnFsOf8GTaeWU1a3h5sbLypsh1OWkU/zpU6cDWoaIDAPwhQga4YbWsbCViiBp1BISmf6sD1a47CoVyFSgPYaiCqGVcCl5auvhqivDDZjsKKolBcVULBlfBVUlVCC9fmBLq1vK1pxcwShW/T1Mvtt15ZpN7VR8PwUHWkqr2XdV2EUVpVxpfHvmJl8re42bswpeNYhrTqj1Zz3RLKGgoqFdacUcPW9ovq1gQPhqphq79/4wqehZUKS04aWHBMvbLqTm94PKKS5AtvcijrCP/sMZOBYX3NXaZFKqpUp9Q+O/YD2vLF6GhO1+CnmNkhrNZNTM1FURQO5MLKK+f/pRVDCyc1VI1qrf6yVJd9yoorS0jI2M2ms9s4eOkodjZ29AroxsCwvtzV8s7qHfwtRWlVGXvPJ7I9Yxe7M3+lTFdOqEcQscE9iQ3qSSvPkNt+PVMUhRMF1zY83Xpenf1wt4N+V8LWPQFa2nmY5rVTZ1A4V6KONl0ddaqewitWyC89SZDdV3jb7KfM0Jwi7QN4u/Yl1N3uyvTdtem8IBfTvWf9ngQscVOVeoUjl+HXHAO/ZCvsuagjudAGvQIONtCxmabGmq47PC3rqhRFUUNjfKqB+DQ1ONpq1JPsh4doiAtpGtsWXCzO4qODn/NT2s+EN2vNjM6T63yVWGrRtfVaJwvUg2kfbaNlXFst0XWcYqmPnJwcfHxufX3JVcn5CguOGViaYqBcBw+FqZuCtnPP45/bXuN88UVe6/MsnVt0MELV1u/HtDTe3vsWpZUXOV01gTbeg5kSYcPDrYy3e3l9HbussOKMgZWn1fDs7QAPh2kZ3Vqd0rrRa9Fve6xKX8W+C4n8eDaBXef2UWXQ0blFNAND+9InOKZOSwwsQYWugl8uHCQhYxe7zv1CcVUJAW4tiQ2KoU9wTyKatTFKANIZ1FmP3x9YHeBC9dWJAwI0tHSu22PpDQqZpVcCVC1roDJKQP+bpNHSWR1taml/DF35V+SXHsLbOYDh4SN4OPxunO0sY4pfApaot7i4OFZ8/S2Hcq8toP8lR+FEPiiAsy109r4SuK6ErjYeDXuUg+HKFEF8qrqm6mSBerzE0KBri9Sb6uZ7R7OTWLB/EUm5KcQGxfD4nRPrvH5DuXJ4+ecp6iXtuRXqGo1xbdT1Wi3q+IJ6M7dzjIneoE77zj+mTm34OcHUCC2P36HF30Xd4PEfW19Bb9Azt9+LtPYKNUrNTUWFroL5+5ew7tR3aOzuYmfBX3Gxd6t1E1NTSSlQR9VWnFHXinnYq6Oro1pp6X+DQ5V/7764OP6zaC4/nk1ga9oOCiuLaOMVxsDQWAaE9jH6nkgNrUpfReKlIySk72THub0UVBTRwsWPu4N6EBvUk0jfdjcdxa6ruhxYHeWlIbNUqXUNVHox6H6TJJo7XZvC++30XaibhmAXhaM5h/n8yEoOZx+ntWco46JG0ieoh8VtuC0BS9RbYmJirf/WhZUKB34burLVc7RAfQHs4qOpsaYr2NW4w8kV+iuL1FPVKcBLZepO5veHqKFqQCNapG5qBsXA5tTtfHzgc/IrCng4Io5xUSPq9Zt6pV5h45X1WuvS1KnWQVfWaw0Pvb0RjRv12B/Jq1A303z/uIEzRXCXrzpaNaLVtR30D2Ud418Jr+Pj5M28/i/e1lVYTd2OjL3M3TMfG609gT5P8vW5O2rdxNRY0oquHKp8xkBijvoL0/0hGkbV81Dl9MJzbDqbwPoTP3K5Kh9fZ28GhsZyT2is1YZtnUHP4axjJKTvYnvGHi6X5+Ht5EWfoBj6BMXQwS/yun26bkd2Wc31W2nFNT/v61hLgLpyNV6IG7W+diiKwu7MX1l2dBXHc0/SrlkbJkSPJCagm9GCorFJwBImdblcqV5Ef3XLiHPq6TL4OlI9wnV1tKuuQ8pXFVQqfJeujlJ9l3FtkfrwEPVNPqYRL1JvCGW6clYej2f58a9xsnNkcsexDGs1oN6/CeZVqG9+y1IUdl5ScLWDh8PU8xD7+pv2jL6jl9XRqv+dMlBlgFGt1GB1l1/NF92taTt5fdc7RPpG8Gqff+Jm72qympqKrNIc/r3zHQ5nH+fRyBH4eozgs5MaNqQr2Gu5sompll7Nb22D1vMlCquvnP+3O0vB0QbuDdYwupWWYfU4VPlyWT4/pf3Mj2e3ceLyKVzsnOkb3JOBYX3p6BdpsW/QpmDNDMxnAAAPxklEQVRQDBzLPkFCxk4S0neTVZqDh4M7vQO7Exvck87No426zuzqgdUpBQpBLmqYqs+ViAbFwPaM3Sw7uppTeWeJ9r2D8VEj6dbyTotfKysBSzS4i6U1A9cv2QrZ5ernAlzUBee/DV3ejjV/iDJLFNZeXaR+QZ377+KjrqcaHqol0soWqTeErNIcPjm4jB/PbqO1Zygzuky+5XVJpwsV/pdiYNkpA6cL1Uuer67Xau9lnO+LzqCwLk3hvWMGtl1Q8HeGx+/Q8pcILc1rCemrkr7l/cTFDAi9m3/0+Bv2FrZQuTHTG/T879galhxZQaRPO57v+RQGjS9LThpYdEIdTWznAVMitIxve/OjZrLL1O0UVpxR2P6bQ5VHt9YSF1z3kwfKdOXsyNjDj2cT2H/xIBqNlh7+XRgYFktMQDccbOxvfidWTlEUki+fYnv6LhLSd5FZfBFXexd6BdxFbHAMXVveabZ/J51Bz9a0n1l2dDVphefo0qID46NG0dEvstG8vkvAEmanKOqo1u83Rs2/smVWmJsaulq7a/jpvHr5uI0G+rZUr/yLC9HK6fFGkpRzkgX7F3E0J5legXcx7c5Jt3yivKIo7MlS12utPGMgr0INwuPaahjTum5nuv1ebrm6dcD7SQbSi6FXc3W06sGw2tfdGBQD7yd+xurkdTza/iGmdBrbpEYrGtKRrCRe3fk2JbpSZndX98yqbRPT+0M0TGmnrsu5OrqcV6FO7a84bWDLefUtZYC/Ov1Xl0OVr9IZ9CRePMSPZxPYcW4PZbpyon3bMygslr7BvZrs+Yp1oSgKp/NTr0wj7q5xGHVscE+6+9f/MOpbUaWv4sfUBL44tobMogvE+HdlbNSIG26YbMkkYIl6W7RoEZMnTzbpYyiKwunCmnt0nSxQ6NVC3UphWJCGZo4SqkxBURS2pu3go4Ofk1N2mQfChzEhahRuDrc+pVahV9iQru6YviFDwaDAkEB1vVZcyPX7q/2+xw7mKsw/qufL0+qb9COtNcyMtPnDBdUV+kr+vesdfs7Yw9+6/pkHwofdcv2ibooqinlz7wISMnZzX5vBzOgyGccre9Nd3cT002QDR/PUfanGtNZyPE9dy6czQJ+WGka3Ug9VrusO4oqicPLyaTalbmNL6s9cLs8n2D2AQWF9uSc0lpauzWv9uoZ4HWvMfn8YtYONPXfd5mHUf6RCX8n3p7fw5bGvuFSaTZ+gGMZFjSC8WWujPk5DkoAl6m369OksXLjQ3GUIE6vQVbAqeS1fHFuDvY0dkzo8wn1tBt/2YtjccnVEa1mKOsLlbgcjWmkY31ZL7xbqeq3p06fzf/MX8M1ZdX3VjksKQS4wrb2WKRFafG4Srgsringu4XVOXj7Fi72eoXdQ99uqWdSdoiisP72J+b9+QkvX5rzY65kai8d/u4np6rMKd3hqGN1aw4gw9SrPurpQfInNqQn8eDaB9MJzNHP0ZEDo3QwM7Ut4s9Y3nUaS17G6yyy6wPaM3WxP383x3JPYaW3p2qITfYJj6nUYdW3KdRWsO/UDK45/w+XyfPoF92Zs1MO08gwx4jMwDwlYQog/lFt2mU8PfcH3p7cQ4hHI9M6PcZe/cX7WTuaroxrLUgykFkOIK4xto8XRBj5MNpBZok4Fz4xUR7rqsmv0heJLzN76CgUVBfyn7wtE+rQzSq2iflIL0pmz4y3OFZ5nWpfHGN526G2vnSmoKGRb2k42pSZwJDsJJ1tHegf2YFBYLJ1bdDTqlXCidlkl2WzP2ENC+i6OZCeh1Wjo1DyavsE96R3Yg2ZOdTuLsaSqlPiT37EqaS1FlUUMDOvL2MiHG+TYoYYiAUsIUScnL59h4f5FHMw6Snf/LkzrPIlQjyCj3LdBUdh5UWHZKQOrzqhH9Ixrq2VGZP02Mj15+Qz/2PoKjrYOzOv3olW9WDdGFfpKPkhcwjcnN9A7sDuze8yo92hHhb6S3Zm/sOlsAnvO70dRDHRteScDQ2PpHdS9QdYFidrlluXxc8Yetmfs4uCloxgUhQ5+7dXtH25wGHVRRTFfnVjPmhPrKNeVM7TVAB6JfOiGU7mNmQQsIUSdKYrCzxl7+ODAEi6VZHF/+FAmRo++rSmC36vQq+tx6nuo7L7zibz481xCPIJ4o+/zeDnW7TdpYXpX98xysLHn+V5P0al51B/e3qAYOJR1jE1nt5GQvpviqhIivNsyMDSW/iF313mURDSc/PJCdmb+7jBqn3bEBsUQG9wTJ1tHViWv5ZsTG9ApeuLaDGZU++FWvRedBCwhRL1V6qv46sQ6Pj+yChutDROiRzG87VCzndP23enNvLV3IXf5d+Gl3s/IqIYFurpn1qGsY4yLGsGE6NHXTemdyU9j09ltbEpNILs0l5auzRkYGsvAsFiC3W//AGPRMGo7jNpWa4ud1pbh4cMYGXF/kwjJErBEvd3OMSbCuuSV5/PZoS9Zf3oTAa4tmNb5MWICut72Wpu69piiKCw9upLFh5dzX5vBPNltqqzDsWB6g54vjn3FkiPLucM7nBd6PY1Wq2VL6nY2p27nVN5Z3O3d6BfSm0FhsUT6RJhszyN5HWsYVw+jzi7NYXCrfkYd7bZ0t5tPLONERdGgZsyYYe4ShIXwcvTk6e7TGB4+jIWJn/Fswmt0adGR6Z0fu61jR+rSYzqDjv/u+4ANpzczpeNYxkY+3Gg2IGyqbLQ2jI8eyZ3No3l159uMXz+dSn0VdlpbegbexWMdxnBXy84NMhIqr2MNw9nOiX4hvcxdRqMkI1hCCODaWWHvJ35GZvFF/tRmEJM7PIKno4fRH6u0qoyXd7zJrxcOMrvHDIa06m/0xxCmVVRRzKrkb2nh2pzYoBij76skhLnJCJYQwig0Gg09A7vRrWUn4lO+Z8mRFWxJ3c74qJE82O5PRjueJrcsj39ue5VzheeZ2+9FurXsZJT7FQ3LzcGVyR0fNXcZQlgsOXNCCFGDnY0dIyLi+DLuQwaF9ePjg58zcf0Mtmfs5nYHvNMLzzHth9nkll3mvYGvS7gSQlgtCVhNUHx8vLlLEI2Ah4M7T3b7C5/d+y6B7gG8sP0NntzyPCcvn7np19bWY0eykpj+wz9xtHXgg8Fv0rZZK1OULZoIeR0Tlk4CVhM0d+5cc5cgGpFQj2Dm9XuRef1eIq8sn798/xRz98wntyzvhl/z+x7bnr6bp356kTDPYP6/vXsNaesM4wD+rxpjqYZe7C26JCWQVIZVE0GK3exwq8KKOERYoS5UxXRdbx/WjrIP4grtYGlBKqVCuyGFqQRLh9K0Xdks6cVqTdENnO3anAabTqtgSS/WqO8+lAazZN1s06TG/w/8cM77JD6Bl+c8nPOec+o++hbLFyx902lTlGMdo7cd12DNQUuX8uBGM5ejNMC4IgOtt87ih98a8evdS9j8bilK04ogj433i50+x1r623Dk+nF8oM7FvrW7Q7aWi+Y21jF627HBIqL/LS4mFp/oP8aHmjw0/N6M73t/ROuf52DOMuEDVa7fYxamxBTqbzSgqe80Pk0rhjnLhJh5PGlORHMDqx0RzViSPBHbjRVo2HgE2kUa1Fz6Djt+3oc/Rm4BAEQMsP/yITT3/YQdxkp8btjC5oqI5hSewSKiV/aOIgUH8r5G9189qOs+AfPZL7Fh1Xo8zgMuDXTim/e+wvuqtZFOk4go7CLeYD19+hQA0NfXF+FM5o7Ozk44HI5Ip0FRZB6AL1Z8ho6EG7C5fsH4ggnsTi1H4rAcjmHONQo91jF60170JS/6lJmKeIMlSRIAYPPmzZFNZI4xGo2RToGi3GXYIp0CRTnWMQoHSZKQmzvz1wVF/FU5w8PDOHfuHDQaDebPnx/JVIiIiIgAPD9zJUkSCgoKkJycPOPPR7zBIiIiIoo2vK2HiIiIKMTYYBERERGFGBusKPTs2TMUFxdDr9cjMzMTGzZswO3btwPiJElCbGwssrKyfH9OpzMCGdNspNFosHr1at/csVqtQePa2tqQlpYGnU6HkpISeDyeMGdKs9HIyIhfbdLr9ZDJZBgdHfWLYx2jmdi5cydWrVqFmJgY9Pb2+vYPDQ2hsLAQOp0O6enpsNvt//od165dQ0ZGBvR6PfLz8+F2u4MHCoo6Y2Njwmaz+bbr6urE+vXrA+KcTqdYuHBhOFOjKKLRaERPT89LYzwej1i+fLno7+8XQgixfft2sWfPnnCkR1HGYrGIoqKigP2sYzQTdrtdDAwMBNSvLVu2iJqaGiGEEF1dXSI1NVV4vd6Az09OTgqtViva29uFEM/nZWlpadD/xTNYUUgul6OwsNC3nZOT43scBlEoif+4R8Zms8FgMECn0wEAtm3bhsbGxnCkRlHm+PHjqKioiHQaNMutW7cOKSkpAfutViu2bt0KAMjOzoZSqcTFixcD4rq7uyGTyZCXlwcAqKqqQmtrK8bHxwNi2WDNAbW1tSguLg469vjxY2RnZ8NoNGL//v2YmpoKc3Y0m5WVlWHNmjWorKzE8PBwwLjL5YJKpfJtq9Vq3L9/n/OMZuTKlSsYHR3Fxo0bg46zjtHrGBkZgdfrxbJly3z7NBoNXC5XQKzL5YJarfZtJyUlQaFQBL1MyAYryh04cAB37tzBwYMHA8aUSiXcbjeuX7+OCxcuwG6349ChQxHIkmYju92O3t5eOBwOJCcnw2QyBcRMf/kz0as6ceIETCYTYmICD1msY/SmvG79YoMVxSwWC06fPg2bzYaEhISA8fj4eN/D0xYtWoTy8vKXLuwjmi41NRUAEBcXh127dgWdOyqVCnfv3vVtS5KElStXBj1QEgXz6NEjWK1WlJeXBx1nHaPXtWTJEsTFxWFwcNC3T5Ikv7PvL6jVar+a5vF48PDhQyiVyoBYVrkodfjwYTQ1NeH8+fNQKBRBYx48eACv1wvg+Z2HLS0tMBgM4UyTZqknT5743c3V2NgYdO4UFBTA4XCgv78fAHD06FFs2rQpbHnS7Nfc3IzMzEzfOr5/Yh2jVzV9DWlpaSmOHTsGAOjq6sK9e/d866ymMxgM8Hq9aG9vBwDU19ejqKgI8fHxAbF8knsUGhgYgEqlglarRWJiIgAgISEBV69eRXV1NZRKJcxmM06dOoXq6mrExsZiYmIC+fn5sFgskMlkEf4F9LZzOp0oKSnB5OQkhBDQarWora2FSqXym2MA0Nrair1792JiYgLp6eloaGhAUlJShH8BzRa5ubmoqqryuwTNOkavymw248yZMxgcHMTixYuhUChw8+ZNDA0NoaysDE6nE3K5HHV1db4Gq76+Hm63GzU1NQCAjo4OmM1mjI2NISUlBSdPngy6cJ4NFhEREVGI8RIhERERUYixwSIiIiIKMTZYRERERCHGBouIiIgoxNhgEREREYXY3xz+Z+x+XOk4AAAAAElFTkSuQmCC\" />"
      ]
     },
     "execution_count": 46,
     "metadata": {},
     "output_type": "execute_result"
    }
   ],
   "source": [
    "# plot comparison to previous \n",
    "plot([ [mean(w2[:,i]) for i in 1:10] [std(w2[:,i]) for i in 1:10] [mean(w211[:,i]) for i in 1:10] [std(w211[:,i]) for i in 1:10] ], \n",
    "label=[\"mean 1\" \"std 1\" \"mean 10\" \"std 10\"], legend=true)"
   ]
  },
  {
   "cell_type": "code",
   "execution_count": 47,
   "metadata": {
    "collapsed": false,
    "jupyter": {
     "outputs_hidden": false
    }
   },
   "outputs": [
    {
     "data": {
      "text/html": [
       "<img src=\"data:image/png;base64,iVBORw0KGgoAAAANSUhEUgAAAlgAAAGQCAYAAAByNR6YAAAABHNCSVQICAgIfAhkiAAAAAlwSFlzAAAPYQAAD2EBqD+naQAAIABJREFUeJzs3Xl4VHWWP/6Tfd83SEKokIUECAQEBERBUBLbDVTURrDbdu3p3zg9Mz2jM9P9TPdMa7ff8eE7trZflG6xEW13sRUxigiCooQlQAgkEFLZU9n3Pbm/P3hE3+dGUgW3MOL79Tw8elKVurfuPffeT+qeOh8PwzAMISIiIiLLeH7bK0BERER0seEAi4iIiMhiHGARERERWYwDLCIiIiKLcYBFREREZDEOsIiIiIgsxgEWERERkcU4wCIiIiKyGAdYRERERBbjAIuIiIjIYhxgEREREVmMAywiIiIii3GARURERGQxDrCIiIiILMYBFhEREZHFOMAiIiIishgHWEREREQW4wCLiIiIyGIcYBERERFZjAMsIiIiIotxgEVERERkMQ6wiIiIiCzGARYRERGRxTjAIiIiIrIYB1hEREREFuMAi4iIiMhiHGARERERWYwDLCIiIiKLcYBFREREZDEOsIiIiIgsxgEWERERkcU4wCIiIiKyGAdYRERERBbjAIuIiIjIYqYB1oMPPijJycni6ekphw8fPvPz+vp6yc3NlfT0dMnKypJdu3Zd0BWl7zbmFbkD84rcgXlFVjANsG699VbZvXu3TJw4EX7+8MMPy4IFC6SkpEQ2bNggq1atksHBwQu2ovTdxrwid2BekTswr8gK3voHCxcuHPGJr732mpSWloqIyOzZsyU+Pl527twpS5cuNT23sbFR8vLyxGazSUBAgMWrTGNNT0+P2O12ycnJkejo6BGfw7wiVzGvyB2YV+QOI+WVaYA1kqamJhkYGJDY2NgzP7PZbFJRUTHi8/Py8mT16tUWrDJ9l2zatEnuuOMOp5/PvCJnMK/IHZhX5A5fzyunBljfxMPDY8Sf22w2ERH5v3NSJSUkQAorJpqeU9weBPGPF++G2FGRAHFpYxzE3YO46ouyjkBcXpFoWmZ8rANiLx/8aLejNQziE/XjIPb2HIa4b8gL4szx1aZlFtXgesyfWghxgyMW4raeQIiHh/Eu7ruV+BfXA5ccNS3zsc8zIJ4WhvspObgL4gVz90M80IV/bZ04lQzx+MgmiEs7uuWfD5w4s9/P12h59V+ZM8QWGCwhQV2m54TF4rpt/nwexKkhbRDHq/cSHNYO8fGySRCH+PWYllnTgXmj8yAouBviHUVTINZvt38If1Db62Na5g9seFKvao3AdUiogri1PRRib2/M/dbuYIj3OKJMy1wQ1whxVAhuq+j4eoi/OJyFy/TA4ycxvBni/Fo85uv7W+Sl+o8uWF7976XJkhoaIP6B5n1cWJIOcUQA5l5hAx7HfcN4bliYZId4d4UN4mlRuG1FRPx9+iHeWYXnkpnRuP3GRWAuf2bH3E0Lb4F42DBvD2/PIYg7+v0hdnTjuSE+CHN7atpJiNuawiGubDZ/YpQU1QDxG8VpEE8K7oP4VKcfxEsS6iBOTrHjMssmQGzv7pTfFB+8YHl1R+wSifONkOsXfG56TkNlPMT7q3FdF6YVQ1xTj3lW3BIJcVYMHoMdveZPznzUsX+0CY/1meo6eaIF91lsAO7zAXUdjA3G84KISHAAHlM9fbgPk7PwfRbtx3NHbATmbmQi7vPjRzJNy2ztxWtpRiKeM/Vx/sq+SyDuHMD9mpNUA7HeLnV9LfJ83ceQV04NsKKiosTb21scDofExZ0e6NjtdklKShrx+V9+HJoSEiDTIoKkq8F8sm7rxRP+jFjc4FWt+PhwF75G5wBedKZHYSL5N+OBLSJii+yE2Nt3AOIWIwTiwQ5cpo8XXiB61SBvapg5sbrVTpgejetZ04Pvs9kT12FIDbCivPEAmxZRblpmmFcMxON98TUmBeJ6Zsfhtu9rx3X0cODFOykcT3hfcvVj8HPNK1tgsGSEhEl4qPnEFhWDF759frgtUoPwZGALw4tYeBSefAYdeAILDzAP6nwHMU90HoTg+EtK/XGdPD0MiPuGcH8NDfmalpmhBoq+/WodwlshbjRwJXzVSbbRA/PwlC/mmYhIWhBefMfhr8j4aHzf9QHq+FF/oKSE4jrUNuN2+dKFyqvU0ADJigiSgBDzc3qrMA9igvHYb+vAde9RF50pYTj4KVN5mR5sruMJ9MXjrETtk7QgzJsklcsVKs/S8G/aEQdYPl64j1vVBdp3GAfitsAOiPV5uGkQN6ZvL25HEZG0sF6Id/ng+5zojxfCzj5cxuRg/P3MaBwUBjaYrwUiFy6v4nwjZIJ/jOkaJyJS047bp74J99m0CPxDKbgbz8XdPfj8ycGYA61eaqeLiJ83XvdaO/VrYN719eA1LCEQr6P9Q3gsJASbmxOEqeOlqwe3feY4vJ4PBuP7TAjHdY5T16zhMny+iEijJ+bqtAj8gyQwGPN/pzq+2gQfn6z+UNbb5Utfz6uztmkwjK8O4JUrV8q6detERCQ/P1+qq6tl0aJFZ/t1ohExr8gdmFfkDswrOlemT7Duv/9+ee+998ThcEhOTo6EhoZKSUmJPPbYY7JmzRpJT08XPz8/efHFF8XLy2uk1yQyYV6ROzCvyB2YV2QF0wDrmWeeGfGJsbGxkpeX59KLG4aIYXhIYmir6bEodR/3P1+/DuKHl34C8Z92p0D8uzn40emeQ9MhXvaDD03LLPkiG+KXj0+GuFfVviwZj3UR1V34kWNLP36seUStg4hIlB9+5L7+48UQTwrBW04egh/7xwbhx7HPP/UcxD0F6v6TiPybA+vVLln8GcR/ffMGiEsKsCZIi1O1GwV23BenuptE5NBZX8PKvLK3RIn0RkvRyRTTY7mNmBex/nj7IFrVB5yswxqITB/8KPpIM370HOht3t7xgZjLnd1477/MMR7iK1NKcB1VDckBVbu0cALehhERaVB1X1dkF0C8/+hUiLMnY43D07sug/hnV2A/nxOt5o/c9e0jf7VtTxXj/ghWNUSY2SLPHMHjL8oPn9E+MPqFy8q8Gujzlb5eP6mojjc9tr8Rb3f+JA33YWQT3l5Y+ZNXIH7pTz+E+NZZ+yCurDUvs1jVnf7AZof4b2U2iKeo85MWqs65BXUJpuccaVW3btTtu0mhePykxWO94Z93XgFxagjmblMf3r4TERmowbqjWyZh2YO+BbUkoxZiP3+8pZX32XyIZyRg7U3gIL6nkViZV12DXtI+4C07di8wPearjqk54/H81dCIt6H212NOjAvA91LYgHXDN8wz1321N+O5I20ibm+d/7csxProkyV4nGdMPwZx9UlzzfWxWqwfbO7FPHj/ZazzXRCHdWAHVT1hujrHpk86ZVpmtDpmtxbi9fnqybjef3f5pxCv3YHfJK1ux1vN3YN4fuodMt8QdLmT+5tvvinZ2dkyc+ZMycrKko0bN7r6EkQmzCtyB+YVuQPzipzh0rcIh4eH5Uc/+pHs2bNHpk2bJuXl5ZKRkSE333yzBAWZi+mInMG8IndgXpE7MK/IWS59guXp6Snjxo2TlpbTt4za2tokOjpa/PzM344gchbzityBeUXuwLwiZ7ncB2vjxo1y3XXXSUhIiLS0tMhbb70l3t4jv0xpbYJIW6S8XWH+OuNtk7DuZGEs1ml9fGgmxLnj8X6n7hd1za3vQLxp462mZTp68QB4YN4XEO8pxlqkudOwZ9UT2/HbIlclYC1AiL+5f84jB2wQr116EOKDZakQ16h7y/7q6/RbHsf6KV0jJCKSGITr0fshrvftK96F+IP3roJ4Ugze/9ZigrCuosXo/oZnOs+VvEoIbZVJweavwouIFKs+O7ZQbGfg74t1Qblr3oT4yDuLIb4xswji3j7zSXS7qg+IU3Ve+mvRfzyANVbXNWBdRXkH9j/Q7UBOPwe/3n1iD9Z3rFA1Pm/kz4X49kysP+jpwrzLnYJ95UREahvw69yhkbhtf71rFsQ/SMA8CVFtBy6Pxcdj1de/T3S1yHNnT8VRuZJX7Z3B0uIRZsoREZFk9RXt//cpbu9lE7B2ZsvGmyBemoU1iv7q9eIHsX+RiMjcGz6CeNurWKe6rxnzKjkYj4c7Lsc61go7thPIjDIv88c/w/qiDX9cA/H8uZhX21W90/IMPF5aVJ5mBprPFXsrbRDHh2A7j64ePOYOq+PN3onL6B7Ezw0aSrGvVmVvg4jkm9bDFa7k1bzxtTI5uEccnaGmx3oGsY53VxXuo4mqZ2GcqrmaOg5r4PZX4+9XV5jr7IpVnValOvbbVO1jXSfWbF2q9vHJo9gjrnfA3FZmXQl+svev07BtyceqTnVKONYCZqkeVrrubsv+OaZlpqg+ezmZeD3/ywE8X92QUgrx8mRcZq9qDVWuah6Hxdz2xKVPsDo7O2XlypXy9ttvi91ul48++khWr14tTU1No/8y0TdgXpE7MK/IHZhX5CyXBlhFRUUSFBR0Zp6m2bNnS2JiohQUFIzym0TfjHlF7sC8IndgXpGzXBpgpaamSn19vRw/flxERE6ePCmlpaUyefLkUX6T6Jsxr8gdmFfkDswrcpZLNViRkZHy/PPPy6pVq8QwDBkaGpI//vGPkphonvdPRGRqykmZHhUo40ImmB6bfjX2nPjV03dCfGMy9ua45nK877tzz6UQb331eoivnbPXtMzQiVgz9fLrWM9009XbIQ5KwefPPYx9NDJSsPdGS5O5HkrXXPX34/3pWjW31/KZOC9g3mHs3VXdjfUIixNwfiQRkcmpeC9Zz7FYth97JHmoqVr+cBDndZoVife777oN65a8awdEDptWw2mu5lW+Y5xUt8bI39/wnumxo6q+SfdualL1Ta/+GfsT6elDLp2Ec6t9WGbuvRXkjcsIULVGyXFY67JK1WR9pnrE6N5d02xlpmXGqh4vr53EuhRd4zNX9ddpVfUDuqfVxyXmub2y4zDXKux4XP/zTOwNpbdlgJ+a+kX1IDvajO+pshdrcVzlal5Vt4eL70CUaeoiEZF+NWWV/st0dw2+l6sn2iH+tAiPOT2XatsIdSszHVgrkxiJffmWjcfzzdRo3D/FJVh71K6mvcmYYJ5mq3Az1mt2qfUsPYavuaMOewNdNh1rzZrVHJhdveY+WKlqDsXMmVgrs+czPNdXqJqrIFWn6u+Febc0/TjER1s7ZC0eDi5xNa8C/PokOKBHQkaoP3ssH/PiH2acgPjtk1ijmxCIx1BIMNYt6j6Kp5rMU17pWsfLp2K95bOqri5TnTs6O/DcERaCr5eRYe5JdXtzLsSvnMKaqziVFnqZEWrezd2H8Lo4LtA8hVm9OscdPorXhgVxOAdmd7/f2WNVL3eVDa+zx9rbRVReudwHKzc3VxYsWCBdXaff0JYtW1x9CSIT5hW5A/OK3IF5Rc5w+VuEDz/8sHh5eUlJyem/Vuvrzd9EIXIV84rcgXlF7sC8Ime4NMDq6uqS5557Tqqrv/pqaGys+SNIIlcwr8gdmFfkDswrcpZLA6zS0lKJjIyURx55RLZt2yYBAQHy61//WpYsWTLi85/cPVuivGPl8ljzveeSl1dAnBCIvWeK1L3jfR/iPVtHL94PvTIeG+a0NEaalrlF9QLKnXkA4oEurFE48vZiiHW/lQm12L8oOR3vyYqInCrGe+jeqiboR9e9D3FNiQ3iQFVfMC8OeywFqnofEZF31Pucm4i1Fm3d2JNkgZrHLsgH+4Htrcd9sXfb5RCXdLaIyMem9XCWq3nV0u8pPoaXfPTJQtNj/l64vcID8N78wnuwbusvj6+GeL66rz5e1RNcP8J8U7Wqdmj8eMzFJz/Bef/mRGPPt/mql01sJM792Ndr7r3V1IW5+MBszOW6SqwJ+rQa66VWXoL9jBz12OPqqilYByMiEhSKtRaeKpdfVPPQZUTg+6iuw3VOVzVFEWquvMDOFlNNgytczau44HaZEOwpTx+1mR67cQLus1lRWLPWpeozoqOwZqRTzcH32insT/Rvi/eYlunpiTVoXxzH4/Ifn8FzR+NGrDkpUjVYb5XjPv6hqgUUEVmQuwNih5p/bVD1nrtyPO7jU2U4D52eR3DaJeZizXe3L4Y4sQLP9UnR+OmQnk/0tRNYF7kgFrf9F6fwHGzvaRQRrI11hat51d4dJM2eISPW9q2ahO+tqhWvWz+7cifEOw5if8jOLjyXz4zHA6axw9x7a9ZsPN8fPoi1SbeqHnlxSXh+CojFfd5ZhdeHPTvNcy7+YDb2HbuiDc8Faz/HnlQTpmDt64vvXgPxZRPxvFzsMM/lmVeDtccPzcP6wJom7Jm4pRxr6GZFYp7p+ZP1fLAt3eaaUZdqsAYHB6W8vFymTp0q+fn58oc//EFuu+02fjxK54V5Re7AvCJ3YF6Rs1waYCUlJYmnp6fccccdIiKSnZ0tycnJUlho/muXyFnMK3IH5hW5A/OKnOXSACs6OlqWLl0q779/+qPpsrIyKSsrk8xM81e6iZzFvCJ3YF6ROzCvyFkuf4tw3bp1cvfdd8tDDz0knp6e8uyzz8r48eNHfO7UsH6Z4N8nV6t5uEREKqrxnungMN4P9VH1B36q3mOCmqNp8e04v949v73HtMzFcfg7Hxbg/ewoNZfgBN13JrUY4iOqriU2Bp8vIrL+KN7/D1Jb/BeqF0d0AtbvvLAD+6SsScbfT403F6nMUXVb/WoOJXsb9s/J8sf6twAfjNNCcc648CCsxQkZMs/B6CpX8mrV9KMyLaJc2trM9QUBqp+Tjw/WmbTuwQ14qhPr7hyqziXyFNax3HL5LtMy3zqG+2irmv/roes+gPj4UWxIuE/Nw3Wpyn3dT0pEJEbVofSq/kJtqjZjQhDmfm8Pvu+gANyHX5wwN03MVH2welVPt6tSsIdPxm3Y6+7+f70P4uQwrOfReeer8vhcuJJXk9JPyZQYf7lR1R2JiBS2Yq49vOZViJ/66y34+EezIV6dgr2efqRq+4aHzfs4PucoxFHlWN/08s+xZ9VUtX9mzsY6o6Oq5mTIMP99/eE7yyDW85KGhmHe9aj+Xbrv3JQZ2L+w8ri5j1yFmgvvhmSs+XnuHay/ifDDPMkIxdqYVlXvVtCCx0L9wPnPnepKXpW1RchQX/SI547KMpw7UM9rGqrq6Kap870+tx+uw3PPkmkjNCj0wPNLShLOuXdS5VloC+7zI4enQeyj6l4bVI2viMi+o3iOzE7Dnnm/uhrnzfxkB9bX3rIIH/8/W66GOMYf805EZMVEvB5/Ycfcu+HKHRAXt2At7VXzca5ibzX/4c9fxN6bTYPm48nlPljJycmyZs0aKSwslP/6r/+SFStWjP5LRKNgXpE7MK/IHZhX5AyXB1h2u13+9Kc/yfz580d/MpGTmFfkDswrcgfmFTnDpQHW8PCw3HvvvfLkk0+Kr695ageic8G8IndgXpE7MK/IWS4NsNauXSsLFy6UWbNmjf5kIicxr8gdmFfkDswrcpbTRe6FhYXy5ptvyieffFVsZhjmxmlf1zHoLW0D3vKxmmRRRCQzGosnI1WBedo4LNjsUkW5PqMUwF6T0G76WXIEFr3tVwWBS1Xh3U613roIfsMpLM480YENPkVEanux+O6xhVj02a6KZ7flz4H4d/Ow8eWBGvPE2aOZPBOLZe3bsZjPJxjf15ZyLLxcoSa1LqnHSWjLu7HQ0hXnkleOpmgJ6wuXyhGKkSeEYkPIpPE4YXdLPb73eTFYfLy5AguBW/3wb5DXdmGTVRGRRQmVEA+r4uH8AzgxaVYqFoMPDqtibzUpckUzrpOIyJKrsAFho2pcufVkOsSXjsPt4KUKU49W4j7PVUWlIiIvfYCFpR0DuN43ZmJu/+V/sInr47dhk9cXPrgK4gRViN/QbS5cdda55FVN2QQJawqV5Ejzl1Vmq312z9O3Q7wmBXsgrZxph7hcTQYdG415d3SEScRLnrFBnJ6Er1l6FJtS+qovdNSWYrFy1yDurxrVOFnEfI6bNBeLpP3mYDF+2e+xOWO1+gLNgW3YfHOJmnhZROQKVbh9/AAWUXuq+v+l6ktT7xXgQCcrug7iii7cDr3GuU8ifi55dc2i3ZId5yt1xTbTY8XqXDpXHacF9djMWp8r6lVB+fWqkD7/AH6RS0QkRTUu/qgYv9jTo5rJJsRgbh9T56NY9QWZ0BGaX8+Zhi0sDhbhMpfeil9SO7oHm5VepgrM75qBE1T7+uIXH0REhtUE7Ycr8AtOxw9h4X1qGDZQ3fIprsPBZmzk+9ur8Us8R5q75V38PpPzA6zdu3eL3W6XtLTT32qoq6uT++67T+rq6uT+++939mWIAPOK3IF5Re7AvCJXOH2L8IEHHpCampozPT/mzZsn69evZ1LReWFekTswr8gdmFfkCpe/RUhEREREZ+dSo9G+vj657bbb5NixYxIQECBPPfWUTJ06VVJSzPUDIiITg7pkUqC/LBih2dkrX+DXW6epuofnCqZDXK16WT627DOIC9/FiWanJ2DzNBGRPtUYMScT7wv/VU2SvGRiGcTHG/B++S+z8X751OlY6yQisrICay8KKmwQ62Zm16p7zXtPYC3ND2/6G8RNJ7F2RkTEyxtrV/QE0lN1s7p2rCX7p5yPIHZUYQO9hl6sh2vtN09G7ApX86qwKVpaOmMk2s98r79WTW6aasOJrv+Sjw0gfzIPt3+oqkGpURN6LlWTloqIvK3qBfKbcPv89jrcnsOqxkE3fk1Qj5d3mGtltm/DJpOVqp4mPhDfx0nVRK9N7cPXyrGeJyPenFe2EKxr1I1BdcNVeye+j0VVWE+izZuCx09Qc7dIyTc82Qmu5tUXNYlS1RQjDb3m0+KqTGwy/MNkPF89W4x1KXep+o9Lp2PNyN8+nwfx5SnmNxqbhHWoP/1rLsR/NwWPY12HUtOIkzv3q3UaHqF0aJcD82TCHqzhKXgDa0BvULV6wwO47TbtwDzNO27udr7mGixc+d/N15pX7Gv8Q7FWb0oU1ggFqmbDAd6qafXQ2WumRuNqXnXWRUlbf6B8oZoWi4gEq2MoIhibOs8UXNeDqmaroAXPvZeoSd7frTAfcys8z17beOtcPCfqhtxJah2n2PA6ebLSXCf8189wwvtu1ZRz+BVs2rl6Pl7fuxrxHLnpCNZHZ4Zh82sRkUZVa6bz/0AT1vBOC8f3ld+INVe/zNkBcUU5vs+GjjbTOrj8CdYDDzwgxcXFUlBQIDfeeKPcc4+5YzqRq5hX5A7MK3IH5hU5w6UBlp+fn+TmfvVX1KWXXip2u93qdaLvGeYVuQPzityBeUXOOq8arCeeeEKWL19u1boQiQjzityDeUXuwLyib+LyZM9fevTRR+XUqVOyfv36b3zOkOEhg8Me0twYZXrsx7l5EG9R9+rnxWJPiiY1me1BVZuUrfrUOOqx/kBE5GNV/zQ7FntxhftiH5lOVaeSGIL3WJ89hnUq63OwN5GISPWBGRAvnokTsNbasY+Mlq4mW92/A+t9tpSb73ffMeUYxKnzCyBuKlb9cVqwzqjYboM4LQnrmK6wYW+uovZ2EXPJ2zlxJq9sIR2SEugjC2YfMD32xX6sFyhT2yfcF/s//WUv1t3dryYADSzDbeWoNk/omhLeDLG/F27P9mZzv66va+jDWoGVy7GXTcnrN5p+R9f0NKv3oesPfDyxlqO6C+sLbrVhX6b6Vqx5EBFpUZPoLrp6B8QVf/sBxNMisA6sUB1/y2fux3VS27Z+hJqGc+VMXmVGNEtakCEFjeZzh+5X1DWIvd9eX78R4l/+4kcQj7djHk4Mxff235/heUJE5B+7sTbyN5dhLevEuZgD9i+wbnVnNfZGmxmFeRoRgLVMIiK35OK54rHXb4B4aQLWhf1Z9UbzVDVD//DwBogPbFpqWuYHO7C33GRVT5OqaqxaVZ1YagrWAHmr87ifmuTX1+Pc+2BpzuSVX3CXBIQNiaPH3/RYg7quTUnEnnqHVN1vtrpm5WTgPq1vxuM2M8xcp1rejuenrBjsG6Z7M9pUf6jYcIzj1MTlxRV4zhQRmamvY6q/V1QQ1j/tPoK5HB2IufqP13wI8c692D/yNHVenYnXC92bTk9aPVfVRW5RNdqzE/G6qPvQiZzjAOvxxx+XzZs3y7Zt28Tf35w0ROeCeUXuwLwid2Be0WhcHmCtXbtWXn75Zdm2bZuEhoaO/gtETmBekTswr8gdmFfkDJcGWFVVVfKLX/xCUlJS5MorrxQREX9/f9mzZ49bVo6+H5hX5A7MK3IH5hU5y6UBVmJiogwPO3//urQjSLr7QiX3ylOmx44ewD4WCzOwB86pKqxZuPGnr0Hcut8GcaWad+sDO847JCIyMIyTWnl54nuZOa4aYsPA53t4YH1BTjzeN/6f51aZlhmserD4luJ93jQ1z59PAPZw0XNJXbYY5z/6RNVZiIjkV+K26FE1PjvU41mReB8/OxNruP7zfayPWzIO60fKRqgtcIWreRUT3C7xIR7ynJrnTETEFoz1G429WK+xejHWyf3l48UQ11Ti9jxaj3VB7QPmeRdXLcLXjCjD2ryWNqx5CAvBdUxW63xgJ/ZI6lZ9sURE9h7G4yc7Hms3jqp5NoNUv520OOzh9qmqU8lQvdJERDxV/v/78yshvnkSrsMlV3wO8b88h89feIl634cw1yt6z6+/mqt5FezfI2GBvuLvZa4ZHVBzwIWo7XniBVz3X31sh7j9v3F7Nh3DflA/n3HStMw+lWuFZam4TurxKjVHXLaquapSdXcxweb5WnfuxH5FNd14DvTxwh5Kn9Tj44/Ox7qVxx65G+Kbpph7Beq+bxPiMTePlOL7fngvXhveacJ63P9Os0M8NRzzrH3YPG+dK1zNq72Hs6QxMErqesznjqUJWJtU1YD1f2mq3il1EtabvavqgmbEYY2cl4e559ctudsgbq2Ohbi+AfOofwiHCdVN+Pj+zddBfNtdr5iWWbcX5x7UNVgx6hp0WJ13Y4NwH/7frVj79w9XbTcts19dl+oc+D67VP/GSXG4Ds/vvwTiCUF4bS5rxNcXv7/GAAAgAElEQVSr7jYPp9jJnYiIiMhiHGARERERWeyc2zScTU/P6a9nNw6c/sjtUL35q6Klna0Qt7Tg1zCruvCj0eAK/Ei2oxE/rnO048fdNX0NpmUOqk9LS9Q6+KuP/Ue7RVjegx9t1/RhWwcRkcBBXO8Qtcyepm6Ivf1wHU524ceWQQ41HcYI77NfcHt7q6+7V6vfCejCxz3VOjUO4Neky3rw49rq3tO//+V+d5cvX9/edXr5+n2IiAx74rr3qVs7hxpxHavUaxxTeWTvwSlRugbNh4x+TZ2LQ2qKhuAhXMdT3dgioVXUsdBnvrXg0423pzu9cZllPfjxd8AA3poeaMPfr+jF93lUPS4i0tKJx0P9AH4Er48nrzr82nKDyiO93fQ61PWdPgdc6Lyq7DXnVdAgbj8fNd2Il9peTUfxuO9Sx5Q+rhuG8XERkQF166yiB7d/gMqz+i7Ms0ED4/pePGcGjtAGo6UH32eTOn8Vq33cNoTTjxWNch4uGiGv2rpwGa3qWnCyG7dVxzCe3w4exHYWdf2YZ0E9uG1r+k6/hwuVV1+eHx395luTOg+81S3YIXX+MlQelatjxk/t05Fusxc4cPt1qO3d0oHnmzaVEx6qFUdTj9ofVeapeBr19V3lRWErXlP0uUBU3tX14zoebjTvy4E+zKsmtW2auvHxXpWbtSqPDC/cfx0GHk9VI10HDTfYtGmTISL89z37t2nTJnekE/Pqe/6PecV/zCv++678+3peeRiGYYjFGhsbJS8vT2w2mwQEmD/VoYtLT0+P2O12ycnJkejo6NF/4Rwxr75fmFfkDswrcoeR8sotAywiIiKi7zMWuRMRERFZjAMsIiIiIotd1AOsBx98UJKTk8XT01MOH/5qotT6+nrJzc2V9PR0ycrKkl27dp3lVdyrr69Pli9fLpMnT5bs7GxZtmyZlJaWjrn1FBFZtmyZzJgxQ2bOnCmXXXaZ7N27d0yup7sxr6zFvDqNeWUt5tVpzCtruZRXbv0axbds165dRlVVlWGz2YxDhw6d+fldd91l/OY3vzEMwzDy8/ONxMREY2Bg4FtZx97eXmPr1q1n4qeeespYvHjxmFtPwzCMtra2M///1ltvGZmZmYZhjL31dDfmlbWYV6cxr6zFvDqNeWUtV/Lqoh5gfUknVnBwsOFwOM7Ec+fONbZt2/ZtrJpJfn6+YbPZDMMY2+u5YcOGMwfAWF5Pd2JeWY95xbxyB+YV88odRssrtzQaHcuamppkYGBAYmO/mkfIZrNJRUXFt7hWX3niiSdk+fLlY3Y977zzTtmxY4cMDQ3J9u3bx+x6XmhjfTswr76bxvp2YF59N4317XCx5NX3boD1TTw8PEZ/kps9+uijcurUKVm/fr10dXWN+Jxvez03btx45r8rVqyQ3bt3j/i8b3s9x4qxsB2YVxefsbAdmFcXn7GwHS6mvLqoi9xHEhUVJd7e3uJwfDWLud1ul6SkpG9xrUQef/xx2bx5s2zdulX8/f3H7Hp+6c477xS73S6GYYzp9bxQxur+Yl59t43V/cW8+m4bq/vrYsur780Ay/haP9WVK1fKunXrREQkPz9fqqurZdGiRd/WqsnatWvl5Zdflg8++EBCQ0PP/HwsrWdbW5vU1NSciTdv3iwJCQkSFRU1ptbzQmNenR/m1ciYV+eHeTUy5tX5cTWvLuoi9/vuu89ITEw0fHx8jLi4OCMtLc0wDMNwOBzGsmXLjLS0NGPatGnGjh07vrV1rKysNDw8PIzU1FQjOzvbyM7ONubNmzfm1rO8vNyYO3eukZWVZWRnZxu5ublGUVHRmFvPC4F5ZR3m1VeYV9ZhXn2FeWUdV/OKU+UQERERWex7c4uQiIiI6ELhAIuIiIjIYhxgEREREVmMAywiIiIii3GARURERGQxDrCIiIiILMYBFhEREZHFOMAiIiIishgHWEREREQW4wCLiIiIyGIcYBERERFZjAMsIiIiIotxgEVERERkMQ6wiIiIiCzGARYRERGRxTjAIiIiIrIYB1hEREREFuMAi4iIiMhiHGARERERWYwDLCIiIiKLcYBFREREZDEOsIiIiIgsxgEWERERkcU4wCIiIiKyGAdYRERERBbjAIuIiIjIYhxgEREREVmMAywiIiIii3GARURERGQxDrCIiIiILMYBFhEREZHFOMAiIiIishgHWEREREQW4wCLiIiIyGIcYBERERFZjAMsIiIiIotxgEVERERkMQ6wiIiIiCzGARYRERGRxTjAIiIiIrIYB1hEREREFuMAi4iIiMhiHGARERERWYwDLCIiIiKLcYBFREREZDEOsIiIiIgsxgEWERERkcU4wCIiIiKyGAdYRERERBbjAIuIiIjIYhxgEREREVmMAywiIiIii3GARURERGQxDrCIiIiILMYBFhEREZHFOMAiIiIishgHWEREREQW4wCLiIiIyGIcYBERERFZjAMsIiIiIotxgEVERERkMQ6wiIiIiCzGARYRERGRxTjAIiIiIrIYB1hEREREFuMAi4iIiMhiHGARERERWYwDLCIiIiKLcYBFREREZDEOsIiIiIgsxgEWERERkcU4wCIiIiKyGAdYRERERBbjAIuIiIjIYhxgEREREVnMNMB68MEHJTk5WTw9PeXw4cNnfl5fXy+5ubmSnp4uWVlZsmvXrgu6ovTdxrwid2BekTswr8gKpgHWrbfeKrt375aJEyfCzx9++GFZsGCBlJSUyIYNG2TVqlUyODh4wVaUvtuYV+QOzCtyB+YVWcFb/2DhwoUjPvG1116T0tJSERGZPXu2xMfHy86dO2Xp0qWm5zY2NkpeXp7YbDYJCAiweJVprOnp6RG73S45OTkSHR094nOYV+Qq5hW5A/OK3GGkvDINsEbS1NQkAwMDEhsbe+ZnNptNKioqRnx+Xl6erF692oJVpu+STZs2yR133OH085lX5AzmFbkD84rc4et55dQA65t4eHiM+HObzSYiIv9f4kJJ8A8Tf+8h03PqugMhnjOhHOIvKvCj2dTwFoiHBZcd6t8DcVBQl2mZ++2TIPYQA2P1dlKjGnAZIR24DkNeEB+qSjItc/HcfRDvOzgD4lPtIRDfPP9ziKvLJ+Ayh/GubqB/r2mZQcGdEDc2RUHc3e8HccaU4xAbahmfHsyG2NtjGNext02eqtp9Zr+fr9Hy6j9SZ0tSQIjsrI0zPee2rKMQv3V0CsS3X3IQ4taWcIgLahMhDvEZgDg7+aRpmc/m4z79+TKsy9h/aDrEU5PLIDaG8f1uK5oK8Q0LPzMt85F3L4f4luR6iP288bZFcXMMxDEB3RDrfdrYY/6LO04dU8PG2Y/BPbXxEHcP4vNvySqCOCKpFte5aVDueaf1guXVkwuSJC3MX3Ydm2p6jpfg9rl68acQF+7Hfeztic9v6AqGOEDtnykp5rzy8sHnGEN4XB45kQ5x3yCej/R5NzWhEuKT1XhuERGZEI151NPrD3FlayQ+P7wZ4tp2PJ56B/ESU6deT0QkU53by9pDIfbzwvP0rAQc0HSr1zxYPw7i2eOr8fW7OuVXRUcuWF7lhC+TSO9IWRDbZHrOvkbcnuMD8HyTFYvHRHsvHpeJsQ6IQ+NwGS9tv8K0zOuzCiG21yRAHOSL15TeAV+It1XjuaQfU12mR/SZlhns3Q9x2wBegzKjMO/qO/G66OeFuTxo4LGQHFtnWmahyu+5Gccg7lLXXi1qAm77jR8tgnh2LI4PKno65Hcn8yGvnBpgRUVFibe3tzgcDomLO31Rs9vtkpRkHlCIyJmPQxP8w2RSYJTpZCIi4jOMb25KGB6oNf64E9Px/GQ6uUcE+UAcGmJO+sYA/DhYD7A81a9khGBSREbg84fUCa2tyfxx84xYTKSWQDygevvwhDQjBk8WIc1huEw1+AkJxPctIhIahutZ24+v0aEOUr2Ohho41qjt5uNpHjCLiMsfg59rXiUFhEh6cIQc84k1PWdaBA7U9/jic7IicWDfNIQn8+YWfK/hvpgDWZF40ImIRHvjMvT2bFX7PCsST4p6gHVc5b5+PRGRSLXM9GA8Mfv74Hr3dOP7ig/EQbiPGhAESZBpmROC8EQ7pE5ykeo1y9WgrsMTn6/3Vcw4cy6LXLi8Sgvzl6zIQCn3Nx/HegCarda1PygCYh91QQgexmMwSA3cp0dhXoqIePvic4bVAKu7Wp1L1GBGn3enReA51mjB3xcRSQvDQXKnD66Xdx/+sZYagu8zYFD9MTeA28nLMO/L1CDM/8F+3Jb+Xrjtp4ThgEyvY0Mb5l1mCOblmXW9QHkV6R0psT6xkhpkmJ5T1Y7HcZI/Dk4yQ/GPmhYvvBBOisD3FhmH8Q4/8zkyKwKPbZ823N4hfpgD+g/yQ+q826suB0nqDy0RkXBffF9NfXidywjBx0OGVQ6oXB5Q18HMcPM+7mrG41gfY+2eZx9gjYvD4+VDdS1JDxq59u7reXXWNg2G8VVCrFy5UtatWyciIvn5+VJdXS2LFi36pl8l+kbMK3IH5hW5A/OKzpXpE6z7779f3nvvPXE4HJKTkyOhoaFSUlIijz32mKxZs0bS09PFz89PXnzxRfHy8hrpNc9IG1crU8M6paktzPRYprolqD+OayqcBvElC/dC/O77V0E8Jf0ExHsO40f2IiIh6q/642346cV9iz6B+OXPFkAc34R/Gem/EC+fjB9Biog0VYzH1whthXhiZCPE7396GcQ5C/ZA/Ph7V0M8LwZH2SIiSzJLIf7NR/g+Iv3wL6nSNizQDFXbKVN9TN3dh3/RdHiM/Bfi11mZV10DftLe5y/Zkebl7irOhPjGSXg7bkj9lT/9gx0Q16zBj30/OjgL4yN4O1BEZPE4vHVcW4q3t5PVbZeWJvzrbOK0EohTStogPlU42bTMRxbvh/hohQ3iQPUX45J0vA08PuMUxIf34PvsHjR/muTpofMGj+sudSvhJvWR/CtFeLs2fBzmfsGuuRAXd7aKyE7TenydlXnV3BQp9QOhcmW6+TgOjcR9sv715RCnhOLjHeqv/gXq3KA//X7hU3NR9YRA/PSiqA3/4r58HH4S+vxJ/ERq5cSzlwpUdJr/gs/Qn7wF4q3kDrWPvdQnnxnj8Hacvn3XOsJtyU61reaMq8HXUI//774siP9l/gGIb4rGMgBD3e0IMS7s+SoxoF8m+PeJv/eA6bG/W4AlIU1NuA9LG7EMorILP306qu6aeB6GUG6ZgiUTIiIh6lZlcq86n3fip2Rpk/H29dvleOt/QhDmTNQIZStRAZjLU9Rt2w5VMnSqA3MzLgBfc2s1Pv4r9XoiImnqtuMbn8+H+JppuLGamvG8HNmFn3BemYB52aOOhb6Rzpn6B88884xUVlZKf3+/1NXVSUnJ6ZN/bGys5OXlye9//3vx8vKSn//855KVlSUbN240vSiRxrwid2BekTswr8gKLhW5Dw8Py49+9CPZs2ePTJs2TcrLyyUjI0NuvvlmCQoy12wQOYN5Re7AvCJ3YF6Rs1yaKsfT01PGjRsnLS2niwzb2tokOjpa/PzMRbhEzmJekTswr8gdmFfkLJfbNGzcuFGuu+46CQkJkZaWFnnrrbfE23vklwkO6ZTQ8GEZHDQ/rn+mv7l2dRJ+Fff3L6+AOEN9u+LTw1gbs60G76eKiDwwA+sgdjrwG3wt6iuzty/Ar8f/+RP8anyID9579qsy1xdoxS24XvrrpjfPwrYOX+yfCbH+bmTzCF97rjuJNUBXqhqh8cHtEEeFYOxQ3yqZPK/AtAxYp7oBkUNnfcqoXMmrYcNDhg0PmRDSZnqsugPrgqLCseatvAq/kvx6NtZsvZOP27OhF++z35BebFrmy8fwNRJDcPslxGAtQKGql4qfNHIfnS+tL0w3/SxQbZpf3vQuxLoOzNGMuf3oc9h646FLsR4heaJ5nfYdwxqqONXqQX/TZ1dZKsQ3pWOt2a49WHOVlYx1YS0t5lYrrnIlr4aGPWVwyEv+fGCm6bHr1PaYH48tD1LTse7xF29hrWR1N9a4/ez2NyHOHaEtxhbVhuHqCVUQ6xqQ9FA8Ozh6MJfT1Ov/5IdvmJbZcCwZ4kd3YN3K8olY93W4Do+nGeNxHXXbhnmqVYSISLU633xYgd/KmxeHdZFe6iT4eSlup8pu3Jb3LN4BceCA+VturnIlr8YHdcvEwA4J8jPXJvWq/d6nvnW5ux63370zsMVCSR3WQ/Wp6+gLR7CWWUTk14vxGtNbgu2LYmKwNvJkSQrEv7p2G8TFxzGzSprN38LNycXfqS+xQRwQgPtk7jC+j161XWZHYW7HJmF9lIjIsB1b7iQEYe1dxHjVhikSrxUR12F9c1QZXif/fATP+/UD5m+JuvQJVmdnp6xcuVLefvttsdvt8tFHH8nq1aulqcnc34PIWcwrcgfmFbkD84qc5dIAq6ioSIKCgs5MIzB79mxJTEyUgoKzf8JBdDbMK3IH5hW5A/OKnOXSACs1NVXq6+vl+PHTX/k+efKklJaWyuTJ5q+REzmLeUXuwLwid2BekbNcqsGKjIyU559/XlatWiWGYcjQ0JD88Y9/lMTExBGf/+mxKVIVEC1hqhu2iEix6uny4zCsE4pQ09KM88fXmBSB94mHVS3TQ1eYa2WOqalybpyI7fUdqrPxhycyIF6u+vro3h1H6rHnlYjIoOrBcreqvXh787UQbz54CcTdg/i+7pqJxU6tI7T733USaxLi1b3n/iHc7ekLsG9MaCHWzlQfwdfT9Tyn+xXtMK2Hs1zNq+jAThkX4iVJqiZFRCSqHnuVldZijUiwmgbi0gycruW5PVhzckU83tv38zPn8uLxmEd6loFdJ/DEe1UW1jvt3Yf1Octueg/itr/eZFpmo+pFtv69XIhXzsTeQNGqh9Wvr8T31aJqA99U/dhERMYFYG+tmareJjwca+I+y58N8WvFuB1WTsZjdKAfa4oGB8xTbrjC1bzaXxcvjpYY+Zdr80yPfb4Pj8tFS7FnXtVRPGZW2rC+I78Be1A9/Qru044B89+63qrWKCEO65+Cw1TtpJqOp1PVuTZ2Yt+/P710s2mZ103H88t/X4+1M5VlWB+lezs1j9Bb6+t8fcy9oPQsAv908zsQv/ReDsQTVQftJNXZPU6d79Z+uATiuv56EcF6P1e4mldTJpXK9KhaeXqHedqaHFVrrHspzYvGY+qI6iMWoq6tmarGzRZh3h/Ht82D+Jiq4/JTUw2d7MC8OdGEHc1PdOB1cEUa9qQUEXl/K9YkzlRTju0/hcfPdNUnU/cya1Gzkby3y9xHboaqkzys+ly1qf2xMA17BR5+FGtO46NwzHHvdLx2FLW3yyvqLrFLn2CJiOTm5sqCBQukq+t0AeqWLVtcfQkiE+YVuQPzityBeUXOcPlbhA8//LB4eXmdabxWX18/ym8QjY55Re7AvCJ3YF6RM1waYHV1dclzzz0n1dVftaWPjTVPJknkCuYVuQPzityBeUXOcukWYWlpqURGRsojjzwic+bMkSuuuEK2b9/urnWj7wnmFbkD84rcgXlFznLpE6zBwUEpLy+XqVOnyu9+9zspKCiQq6++Wo4ePTriCH7OpFKZFlEn//zhbNNjD2TgR6rV1Vgg/ngBFqQ/fduHEPd1YmHdQD++lV3HzA3WgtUkxifasXivtgdfI8IXiy8r1WTP0aphZ3W3uZPvvmYsLg544waIJ6sJKbvV5J7L1CTWRaqZ6Yl280TaP7v9dYj//Co2ab3ChgWeb75xPcTz1cTAVQ34vu1t2PyussfcYM0VrubVlB8WyKxJ3nLP/WtMj903BSd3LlXrerID99HCLsyBcF8soG3qwakvOqrNjV0DVV6F+GPTvETVNG94GAs2/7MQc/kax2qIM9QXQERErs3ESVxP1GAxf3EFNhptV0Xx/WqdlszALzoElWPDSRERm5qofNI0LFL/ZDd+QWBODFZ8pqsJWSsbcN8eK8djvrK3QURwvVzhal5dlmSXKWFN4qhIMD1mV4W+kwqxuWKv2r6ZE+0Q64mVJ0fgtpkQiwXsIiIH1ZdyHA3YwPFdNfF4pnrNXlUwXdCIhfaTQsyTHr9zGBvQ6i8o3fZD/JLO+2/gl3SS1DroScf3VJjz6rKJeD56YUuu6Tlft2Y+TpC8/RCu82I1ia8u/g/q6RE5jzt6rubVB4dnSJF/jPz6f/5ieqziNSykbldfWtKTaZerxq27q/DcfJmaGDuvBvNWRGRSML5m5yCej/5t+VaIj7yL+yNMNUy9V29v9UUjEZGJ6ktpRarZskM1XE3MwqbEb7xzDcT5jbhPI/3wPYmIHGvDRqDV3fg+p4Tjuf7Fg/hlo5QQbHRcqK7/CUH4eEU3fklHxMVPsJKSksTT01PuuOMOERHJzs6W5ORkKSwsHOU3ib4Z84rcgXlF7sC8Ime5NMCKjo6WpUuXyvvvvy8iImVlZVJWViaZmZmj/CbRN2NekTswr8gdmFfkLJe/Rbhu3Tq5++675aGHHhJPT0959tlnZfx4c/8nIlcwr8gdmFfkDswrcobLA6zk5GRZs2aN3H333bJ582a54YYbvvG5/X2+0tvjLynB5g/KvlD3aefE4P3Rv/z8rxDv2HIVxLOmYQ3Km/lzIJ4UivVRIiIvlGINw4/T8EZ8kKrXifTD+oGMiVjfs6MoC+IYf3MTvSdzsHFfkR1rEEpbcJ0yVE3W52rC3IFh3JbXpmPzUxGRf3/udoj/dQk2Rfzr51grExeA99T3ncT6krwa3C62YJzkur7v/GeRdyWv3n16iRwJiDbVW4mIxKmJSq9VzRmf+fxSiBeopp8lpVj30q4a2nl6mOvNqlQDR103V3t0KsSnVB3dM5dhbVJtKzZybe0z1321dWANwvy5OIHrH7Zgc8YF4zCvGrqxtuzVL7D54ELV6E/EXA9yaB/WvsxSE2H/8/sLIH5EveYntdjQ8MFlH0F8uLFHHjfPDewSV/IqLKpVoqL6ZN8IE+RWqvqKYtXAVjfL7FVNUwO88Jj5qBqbO4bVY+2liEhOCubRkVpsZFnVjTVWP1mBk9Pv2YHbX09O76lnjheRu1duhviD9/C8++xf8NzSp85H+viYGIUNV6/Nxga4IiIfHsZaMv0aoao56Qt7MFe91OXli+NY1xSi6sACB83naVe5klcHWzylzMtLvH/1Q9Nj993zEsSfvXALxPpso6+kOQl4vpuVgfWzUQF4/RARCfXHSdr19vZRtUflXbjU5GA8HwWG47U2oM1c96Xrl0tV/fO8eGxaXLQH66FyLsHzW2Y5nkPzym2mZf7HfS9A/MwG3P5VXVj7eodqzrxbNRqfEYPXkiGV+yFD5sm8XW40arfb5U9/+pPMnz9/9CcTOYl5Re7AvCJ3YF6RM1waYA0PD8u9994rTz75pPj6mivmic4F84rcgXlF7sC8Ime5NMBau3atLFy4UGbNmjX6k4mcxLwid2BekTswr8hZTtdgFRYWyptvvimffPJVPY9hnL3/0Y6ySXLCL0ZuSK4wPVat+jeFqfvCn72/GOKFiz6F+MAe7K1V0IJ1QPMScJJMEZFl4/Ge66WX5uMy//YDiI+04mt2DmCtwPVzv4C4rgZrSkREKmqx8PE91bdkcij2mZkZjL1pTpRjP6MpYfj4H/ZjHZiISJQf7pe9RVgDpGuuOgawlmPRJDvEU9X98QE1ieyx9nZZV2taDaecS155eIxcPyIiUuPAPjRDahLwFSnYcydf1UelxOLEzRVtOEFofLC5ti/IG7dfUQnWsKXG4cYJj8TJaZtUfyM9WfSVM811Ky+qyZhTp2LfGEcvvu8kVT/Qq2qIZiVhPVt8ut20zJe2LsNlqkl2m5qwduzmJDwGQyJw26WE4DFffBy3m72zVUTMdXbOOJe82nkkS8r8oyVZ9fsSEbluIp7DSluxp1R6JNYaVaq8mT3BDnGHmtz2minmr/h7emFdV1s5floyJQy3X+lBrD26LGcHxD1bcMLdD6ox70RE/N7HiZF71cTw/qqWzNGLuX9K1dbouOE4Pl9E5IdTcNLc43WYmzXdeN6ePx6PpwDVhy4mGntxlddgvVvIoLlWxlnnkler0+pkcnCv7K0z91fL/xtu7+uu+hjigW6sd3ph+5UQT45WE4DHNkM8fMJ8opyUgseUp6rNa6/EekB9PanowrrUgoLpEI+PVDMei3lS8InqOnfJzTip+ME3l0I82I950636fXmNcD04/vFciG+YgefRsDjcVv9PTSoeoI6/ueF4vgtWfeR6m7tEjuA6OD3A2r17t9jtdklLO30SrKurk/vuu0/q6urk/vvvd/ZliADzityBeUXuwLwiVzh9i/CBBx6QmpqaMz0/5s2bJ+vXr2dS0XlhXpE7MK/IHZhX5AqXv0VIRERERGfnch+sL3388cejPmfFvC9kRoy/vLPrctNj18zdC/Gbe/DrrjfN3wNx/qd4PzUiCO9/poXgvEIVqkZCRGR/M/b+ubIW63XGB+C9/OkReK/+klSsczlZij2t+gbN9QV/PIZ1WU8v3wGxrqV5pQjrKDJVzdUVU/Emb1qUuX/OkXqs+5qVhuvd1Ynboa0TeyptKcGOxE19OG/djAicG6+s5/z7YH3Jmbz6wT99LrPSfGXnf15qeuzdCqy3yAzDeQFvUHVzRftw/ySp+rLrl+L6bP14kWmZ16n+TYHzcZ/97bc4X1ubmnMvOx6bPUUG4u/rPBMRuXPxTojLjmFNz+2p+JrrD2L94F1Z2EdOz6X36vtYryMiUtyO9SBTovCYGxrCPDnSgnWWw/uxKHjGeKzt81b1PcFDuO/OhzN5dbDZTyq8A6R70Mv0WI6an7OkGeuXxsViDVaA6qHnqfpkZY8w96C290Q6xEtSsc/YK4XYr8tP1fjsex3rN38wG2tOQ/1STMv08cJ9OsEfz4F7q/A19fnJS/VUKlPnmn9Z8a5pmYOqzqitS52n5zdyNjMAACAASURBVOHcg3/+EHtzPXDjFlxmIW63tGQ7xL3N3aZamXPlTF75eA2Jr/eg3Di9wPRYaCTW+9mPYh1ijMqrK22lEL9fisf9p9VJEC9KMtcwFqsa0RdP4O/89/VYD7VoHPbaOt6KfRHfsuM59ydB5jkudV7NycD+jW1H8ByXnIrrvVldJyeEYD3nrGhcRxGRoECsUXzyM+yftmQ8btsfqL5z649gH6ztJydDfIXaFx0d5s+rXPoEq6+vT5YvXy6TJ0+W7OxsWbZsmZSWlo7+i0Rnwbwid2BekTswr8hZLt8ifOCBB6S4uFgKCgrkxhtvlHvuuccd60XfM8wrcgfmFbkD84qc4dIAy8/PT3Jzc8/El156qdjtdqvXib5nmFfkDswrcgfmFTnrnGuwRESeeOIJWb58+Tc+3lgbJ7VdodI7ZK5p0PN9xah7/QGqZ07WVLxnu2kn1sLYgnH+pIRQ7FkhIrI6BO93O1T/oYZe7DOj+/xo4aqXx2eqtkZE5Mo47P9x+Dje170p+yCuQyPWjo0fh7Uaz3+BdUc/vWq7aZm6j9LT6t5zVjiud2Ys9pWJUnN3xfpjXYWHnD0+X6PlVfWr8RIeHiJRIeaeVP9xLdYWNTuw79hP37oCl3UN1mTV1GFN27PvXgPxfddtNS2z6hjWsngcx+2RV4P9oeZEYW3A5MuwP8sbb1wP8dxk8+2HF3fi+5gSiT1ddtXi+3j075+H+M2XboL4vWrsV7Q4DtdRRGRiEObywgfeh/hva2+GODkYXyNzXA3EDtUrakI0zpeoa7LO12h5tWR8m6QEeknWRHPdyqkarG/qUrV6+lwyoPpHFVZivecNam61oyfNc8ZNVj3Zimpw/rWlE7CGLVzVvui6r7z92Dtw+jicA1NEZHelDeKbLsG6rSxVq/fWKXx+Riju87sW7oa4rhTrfUREQsOxX1qy6jnW1oDnxKts2Mvug+14LUhT57N1u7B+p7a/XkSwpu58jJZXX2ptDTP97K8HsC7xrsuw32O7+h0PVeO2JAnn99S1x1OvwlpmEZF3X8V5ExfH4faf9wpex96Yh32tjjTjcfura7AO7dVPcQ5MEZHbr9gFcWsDnhM9RznWf/xTnFfw3Q04Z2NkIF7/RUQGVH/HDjUF5aFmXIeNaq7inPH4mk2q91ZzZwjE7d3m93DOA6xHH31UTp06JevXrz/XlyAyYV6ROzCvyB2YV3Q25zTAevzxx2Xz5s2ybds28ff3H/0XiJzAvCJ3YF6ROzCvaDQuD7DWrl0rL7/8smzbtk1CQ0NH/wUiJzCvyB2YV+QOzCtyhksDrKqqKvnFL34hKSkpcuWVp+dE8vf3lz17zPd5RUQO1yZKW0u0XKL63YiI1LVjLw2bmstr3dvYO6iqG1d1AMsLpG8Ie6dcmo49Y0RE/pKPNQgZYdjP6Ub1O7tVTdXEOKyHihmPNSOXj3Af2UvNZ7T7JPYgmeKDN4ajIrDu6w+78H72jEhc5/c/x/oqEZE41UdpSTyud6ia97FAzUvXNoC1aH//0AZ8fB/WURxq6BU5aVoNp7maVx4ehnh4DIuv2nYiIgN9uO7Judhv7R5VS/NS/hyIo/zwNdNCsc6rtQZrukTM/Z861Nxpl8fiPgv3w3rD9nLsW3aT6hXkNxVr4kREon+LdV9L7vobxEtxujBp34e9ahapnjwrf441KX9du8q0zMwIrPPSNVdfNGJtxgPzsL7teDn2uvmoGuvEYhqxBqK6r0FE9pvWw1mu5lVRa6g0d0dK3AjzTUYF4z7saMCaKk9VG7PPgfv0qknYY6evF+s5dP2ZiMj7qh/dngY8Bz69Euu4AuOwVqaiAH8/R9V9/VeeuadbmC++j/zj+BrrT+Jg4t9nYL3UjAW4v37/8gqIF8Sa+xXNUr2gfvY29k18cCrW7vWo89PlM7GO9VgxnmNvU3MdFrW3y59Hb0P2jVzNK0dHqAQPRZrqp0REltmw3u/XH2Bt5ewo7AUXG4Dn7qtysAa3+B2sGX3xBaxVEhEp7cTz0x3TcB7M12Nx+75WjP2fUlRt5T++jfMjJgeb32fEAqyba3gdj/0t+/E8fFkyXlD+8D/3QvzLVW9CXPApXttFRF46gvP0/ufVWA8YloS1enu2L4T4WAvWs81Vc8rOvRrrynxqB0UO4zq4NMBKTEyU4eHh0Z9I5ALmFbkD84rcgXlFzuJUOUREREQWO682Dd+kp+f0x5q1fac/+vXvaDM9p6kb/wJo88SP5U/fHvhK/QDehhlUf0B49+HtucIW89c2T3899yt+Peqr6O24DpW9uA5HW/E2QbDgx7ftbfi4iPmr0uU9+BH5kWZch/5+vEXlUOts7zG/L63dwPUyBNs2BA/gLaryHty2nWrKnwPl+B46G/D3S1pOTzH05X53ly9fv7Tj9DYbHDSnb4gHbs+IClz3k914m6u6D6dw6DQwbhvG9+ozQl51d+NH4t29OOVSldosIUP4uG8TPiHQG3PAN9B869mu8uiAep8eavairnq8zdjXobaT2sf69UVE2lRe9artX6dyVx+D9i7c9o5+zMt+D3yf9f2nb5dfqLxqHDi9fsWdrabn+HhjXujz03F1jqtS544idW4JGMD3NNCPOTHSa7SoW9GHGvE1/Idx+9ep81Gwgfu8YcB8W7JHtVwp7cb1bhvCPNLbynDg+6hT56+T3eZt692E69U6hL9T0ollE3pKMm91/JSp59cLlkyc6jydlxcqr6p6T+eGh4f5OR3quteo9klFL27vDgPPR9F1uM/1cTs4bF5oXT8W5BepPOlX7Q30PvTuwXVoHsTjPKDffItQX0Mq1DLLe3G9I9Tjeh0K6jDPRjpma9X71NfaYF/cdie6MG8qe3GdA9QyfGrxnFDceDqGvDLcYNOmTYaI8N/37N+mTZvckU7Mq+/5P+YV/zGv+O+78u/reeVhGIYhFmtsbJS8vDyx2WwSEBAw+i/Qd1pPT4/Y7XbJycmR6Ojo0X/hHDGvvl+YV+QOzCtyh5Hyyi0DLCIiIqLvMxa5ExEREVmMAywiIiIii13UA6wHH3xQkpOTxdPTUw4f/qoDWH19veTm5kp6erpkZWXJrl27zvIq7tXX1yfLly+XyZMnS3Z2tixbtkxKS0vH3HqKiCxbtkxmzJghM2fOlMsuu0z27t07JtfT3ZhX1mJenca8shbz6jTmlbVcyiu3fo3iW7Zr1y6jqqrKsNlsxqFDh878/K677jJ+85vfGIZhGPn5+UZiYqIxMDDwraxjb2+vsXXr1jPxU089ZSxevHjMradhGEZbW9uZ/3/rrbeMzMxMwzDG3nq6G/PKWsyr05hX1mJenca8spYreXVRD7C+pBMrODjYcDgcZ+K5c+ca27Zt+zZWzSQ/P9+w2WyGYYzt9dywYcOZA2Asr6c7Ma+sx7xiXrkD84p55Q6j5ZVbGo2OZU1NTTIwMCCxsV/NJWaz2aSiouIsv3XhPPHEE7J8+fIxu5533nmn7NixQ4aGhmT79u1jdj0vtLG+HZhX301jfTswr76bxvp2uFjy6ns3wPomHiO12b3AHn30UTl16pSsX79eurpG7tj+ba/nxo0bz/x3xYoVsnv37hGf922v51gxFrYD8+riMxa2A/Pq4jMWtsPFlFcXdZH7SKKiosTb21scjq+mU7fb7ZKUlPQtrpXI448/Lps3b5atW7eKv7//mF3PL915551it9vFMIwxvZ4XyljdX8yr77axur+YV99tY3V/XWx59b0ZYBlf66e6cuVKWbdunYiI5OfnS3V1tSxatOjbWjVZu3atvPzyy/LBBx9IaGjomZ+PpfVsa2uTmpqaM/HmzZslISFBoqKixtR6XmjMq/PDvBoZ8+r8MK9Gxrw6P67m1UVd5H7fffcZiYmJho+PjxEXF2ekpaUZhmEYDofDWLZsmZGWlmZMmzbN2LFjx7e2jpWVlYaHh4eRmppqZGdnG9nZ2ca8efPG3HqWl5cbc+fONbKysozs7GwjNzfXKCoqGnPreSEwr6zDvPoK88o6zKuvMK+s42pecaocIiIiIot9b24REhEREV0oHGARERERWYwDLCIiIiKLcYBFREREZDEOsIiIiIgsxgEWERERkcU4wCIiIiKyGAdYRERERBbjAIuIiIjIYhxgEREREVmMAywiIiIii3GARURERGQxDrCIiIiILMYBFhEREZHFOMAiIiIishgHWEREREQW4wCLiIiIyGIcYBERERFZjAMsIiIiIotxgEVERERkMQ6wiIiIiCzGARYRERGRxTjAIiIiIrIYB1hEREREFuMAi4iIiMhiHGARERERWYwDLCIiIiKLcYBFREREZDEOsIiIiIgsxgEWERERkcU4wCIiIiKyGAdYRERERBbjAIuIiIjIYhxgEREREVmMAywiIiIii3GARURERGQxDrCIiIiILMYBFhEREZHFOMAiIiIishgHWEREREQW4wCLiIiIyGIcYBERERFZjAMsIiIiIotxgEVERERkMQ6wiIiIiCzGARYRERGRxTjAIiIiIrIYB1hEREREFuMAi4iIiMhiHGARERERWYwDLCIiIiKLcYBFREREZDEOsIiIiIgsxgEWERERkcU4wCIiIiKyGAdYRERERBbjAIuIiIjIYhxgEREREVmMAywiIiIii3GARURERGQxDrCIiIiILMYBFhEREZHFOMAiIiIishgHWEREREQW4wCLiIiIyGIcYBERERFZjAMsIiIiIotxgEVERERkMQ6wiIiIiCzGARYRERGRxTjAIiIiIrIYB1hEREREFuMAi4iIiMhiHGARERERWYwDLCIiIiKLmQZYDz74oCQnJ4unp6ccPnz4zM/r6+slNzdX0tPTJSsrS3bt2nVBV5S+25hXRET0fWIaYN16662ye/dumThxIvz84YcflgULFkhJSYls2LBBVq1aJYODgxdsRem7jXlFRETfJ976BwsXLhzxia+99pqUlpaKiMjs2bMlPj5edu7cKUuXLjU9t7GxUfLy8sRms0lAQIDFq0xjTU9Pj9jtdsnJyZHo6OgRn8O8Ilc5k1dERGOVaYA1kqamJhkYGJDY2NgzP7PZbFJRUTHi8/Py8mT16tXWrCF9Z2zatEnuuOMOp5/PvCJnuJpXRERjgVMDrG/i4eEx4s9tNpuIiPwua6okBwVJSf0403MWZB2BuLAkHeKPaiIgzk1shNjHawjiouYoiKP8+kzLrOzCTz3CfPBWVFJIB8SBvvgakaHtEEfE10NccCjLtExt2MBtNjSMsd6kPYO4i+KCOkddRlwUbitDLfNwhU29Jr7vsnbc9nEB3RD7+/RDXNHTIb87mX9mv5+v0fLqjtglEucbISlhbabnBPv1Qjww5AVxWFAXxI42fK8+npgTTT1BEB9tDTYt85rkcojLW/DTlqZeX4gnhWEeTZtRCPFQrw/ELfXmT29qVb57ew5D7OjG9dZK2gMhXppYA3FCfK3pd3o68TU7ujD+vCYB4qmRzRB39vtBHK3y7mB9HMT1/S3yauM2y/KKiOhCcmqAFRUVJd7e3uJwOCQu7vRJ0G63S1JS0ojP//L2TXJQkEwJDZX+DvMFYno0DnZ6qyIhLvCOgTgtCAdUvt54IWzvwufHBeCFVkRkcAAvCFF+AxCnBuGFLcSvB+LYcLyIxcTiBb4zEN/DSIZMAywsg/PwMCDuGsCLc2Lw6LtsQgS+d0MN4tobcH9MUK851I+PJwbioC7I1zx4FRGXb9uda17F+UbIBP8YSQsyfwk2TA0G+9UANTIUfyd0EAdYvl6YV3USAnFjd5hpmZkhrRB79uLgJ1D8IU4LwkFfdiwOPAZ7cJ839OE6iIgE9WGu+Xji8RFghJp+5+tae3CgODkYt9ukKPPgtdMbf6fVE5dR4aePWczlNm/Mj/HBuB3q2/D3v8TbwUT0XXTWNg2G8dUJcuXKlbJu3ToREcnPz5fq6mpZtGiRe9eOLkrMKyIiutiZPg65//775b333hOHwyE5OTkSGhoqJSUl8thjj8maNWskPT1d/Pz85MUXXxQvL6+RXvOMgUFv6RvwkYyYOtNj/2frVRBnhOFf0A9mF0M8Le9WiAuuegPiZSknIH71WKZpmamheHtoUjjewmhSt1Xa+8IhnjKjCOKyo3hbc3KiuXboVC3eNtG34/x88FO09m68dTN3Ir5mecUEiPfVxZuW+a4dn/Pbf9gA8fCJDIj7hzANlqYfh3jLsakQXz/1MMQdraPftrQyr4K9ByXUZ0DGhbeYHuvswU87AtWt4jz13u+9ZTPEG964AeLU/7+9ew2OsszyAP6nA6RDriQhJhJiQgghIBKQi0gGYRiQmnUgrMWuKxfL9QJaNerUOqW1M1VbbpXoByq1jFiD4oqLOEvNOhKZQQQjICBB4iXcQyShcyWdC0mThNxIej+wZPb/vIHQwxsInf/vi550d/rpfk+bx7fPe47xNeSK8fzeAED1Rc6TjPH8lV9HB58Zra7lM1xf7J1NcXw456XDOKsJAAnR/PV0eR2f/Vkw5TuK1xnPERnIZ7wOnY+nOCLEekzzy/kK0EbjdT01m1ts7PpuKsXm193hgXzmbmYcfy1Z2NQA8DeXIiJ3DMsZrHfeeQdlZWVob29HVVUVCgsLAQAxMTHYtWsX3nzzTQQEBOCll17CxIkTsXnz5lu+aLnzKK9ERGQg8anIvaurC0888QRyc3Nx7733oqSkBOPGjcOjjz6K4ODrF9WKXIvySkRE/I1Po3IcDgdiY2NRX3/lqxmPx4Po6GgEGqf6RXyhvBIREX/jc5uGzZs345FHHkFoaCjq6+uxbds2DB58U90eRJRXIiLiV3z6C9bU1ISlS5fi008/RUZGBr799lssWrQIx48fR1RUlOX+hbUxaGuOxqPzv7TcNsvoP+Rq5EvRg5zcaqDpxTcoHjQoheLf5qZS/OIEa3VsWspZio+f4cfcl1RMcWsLX17/1aEZFIca7Qq+rbC2F/jntX+hePtvuUP5mBi+AGCU0X+ozmipUNvM79PwQO5JBQB3BXF7iT//YQnF4ddos3DVlqP3UTw6hH9fRU0MxdVN3FbAV77mVdPlIfB0DEVcYrnltsY6LjgfbLTzCK7kCwBaL3DbhfQYN8VF9fz86WmnLc/5nXHcU4xi7rZWPhOXnMJ59vU+XlNKDOdAaKi14PzIj3yBxYKMQxT/5+75FD815QeKDxfx4+9POEfxh8fvtTznE5P44oa2dj7uDXX8mV48by/Ff9zNF7YkxvLrPFLMn2l3i0Ymicidy6evCE+dOoXg4ODusSdTp05FfHw88vPz+2RxMjAor0RExN/4tMEaM2YMqqurUVBw5VL1s2fPoqioCKmpqb08UuTalFciIuJvfPqKMDIyEh988AEef/xxeL1edHZ24u2330Z8fHzvDxa5BuWViIj4G5+riBcuXIgvvvgCu3fvhtPpxI4dO/DYY4/1eN+x0dUYF9pmqb0AgEXTv6E4tZZHf1QZs9bKjLqfieO4EemvWrnB5PFa69iNfZVxFCeHcnPTVlcSxd/U8BpWP5hL8denuAFncRPXbAHAgddnUlxjrDPMwzVDJ43GpB1d3HRz9HCeMzgihOfaAUCrMV6n0KgjmpVYRHFBFT/nr/+Rm2+WnxxD8SZj5qK7/eZqsADf8iohtBFjhg3Brz5eYLltxRiuaTvs5rx5OuMgxd/nc71Zxvx9FI88nUyx02hWCwA/n5pH8cb9P6F4dCg/Zmg512z9xGhQ+9EpboaaFGKtmUsO5/E8AcbYpwdiuQaxsILrvI43cPuL6CCeA/jcg4ctz3ngFNdlHa3n0Tl3B/Ea5htzIOek8Gf2ZBk3LjUbqjp6HkkpInJH8HmD9eqrryIgIKC7UWR1dXUvjxDpnfJKRET8iU8brObmZrz//vuoqKjo/llMTMx1HiHSO+WViIj4G5+K3IuKihAZGYnXX38d06ZNw+zZs7Fnz56+WpsMEMorERHxNz6dwbp8+TJKSkowYcIEvPHGG8jPz8f8+fNx8uTJHs841DWHwu2NwJJZX1tu++zwAxSnRXP/oS4vF2DsKOP6qZk/5Vqagm/4981J4jojAGg1+/YYw51rWzieMaKO4hqjJ9VFo9ZpQkTvQ4/jhnE9Tk4Fv67oQO79k2IMGx4eysOiIyKtA4//dIT7dSUaj+kw+jRNT+XeTp4yrsdpMHqUPTv1e4pPNjRh81eWZdwwX/Mq3HkJkcOG4oP/yLbc5snlwvhhx8ZT3HQxjOKp93N/qMoT3IvJ7Pn1cf5ky3Mmh/H7O/turn96t4DXNOcu7iuWNv0oxb8ewz2pzhTwmgDgkFmrd4Br/Vou8yBm06JErvs6UcvHfJSH3ycAWPzI5xTXfLyY4oeNIeE/GoPI08fwQPYJo0ooTpjJfbZ+qOgE1luWISJyR/DpDFZCQgIcDgeWLVsGAEhPT0dSUhJOnDjRJ4uTgUF5JSIi/sanDVZ0dDTmzZuHzz+/8n+y586dw7lz55CWltYni5OBQXklIiL+xuerCDds2ICnnnoKr7zyChwOB959913ExcX1/kCR61BeiYiIP/F5g5WUlHTDBch1LUEIQTBqz1vraEaFcm2Rp2UYxdWXuMfOmqf/m+IfD6dTvGQm96hqb+H5bwAQEc91Xrty5lIcZszoM3tM5ZZz357EUL7dOZj7AAHWflzzxhRSnGf0/0qPrqH4vDF7MDqW2xfszptuec5gY/7exXZ+L5yB/Dpd5VwjFGesYfq/cE+k07/n3lFt7dZ5iL7yJa/iYt24J7IR//XG45bbRhhzGPMv8Hy85bGcA83GLMLGJs67Y0YNVvDgTstz7qrg53juPj5Gz4/nWqN3TnMeVf0xk+JnH9pPsRfWhlAThnPtndmz7e/Hcp6VXuD6wZHG+1Di4Tw8V8M1WQAQXcl5Ee3kPKo1erpFBnG9YfBw/swX/MCf4aSYbyl2tHRZ1iAicqfw6SvCqzZt2gSHw4Ht27fbvR4ZwJRXIiLiL3zeYLlcLrz33nuYOXNm73cWuUHKKxER8Sc+bbC6urrwzDPP4K233sLQoTc/HkUEUF6JiIj/8akGKysrCxkZGZgyZcoN3X9SfCkmhNfDadTFAIC7LJHikiauwWrv4r1f0TeTKP7OmOcWXhNLcehQ6/y2XQcepHh8OM8iHBHM/YxKG7iuZcpd3N9o/P3HKe5o4jmDAPDgSK5bee8Pj1J8T3ArxeFGnyyzBmtIML+Xd/cwizDAwbUr5xu5p9E3Lp6vNzriAsUNRq+osi08o7HYqM+puHT9nku98TWvyivjEHwxAkE91EPVtPAxWD1vL8UffTWb4rONvKF7fgofU3Me3uxEa3+1IQ5+fw4ZuT03meuhzHmJ7mau++rq5NwP6iGXj1TxBQCdRt+4fz3M8yN/N497bR06w1dojjRqIr8+b73AYISLP3NmZVigUYNYZ+TuXqP3XYvRjy37d/9AcfGlOgA7LOsQEbkT3PAG68SJE/jkk0+wf/9fC3C9Xu91HiHSO+WViIj4oxveYB08eBAulwspKVe6SldVVeHZZ59FVVUVVq1a1WcLFP+mvBIREX90wzVYq1evRmVlZXcTyAceeAAbN27UH0G5KcorERHxRz73wfKFuz4SYe3DEW/0VQKA8ktcczXvHhfFB42eUyOM/k/xDdy3Z1Q03/7nAp5BBwB/l1BB8cU2J8WeVq7fcRv1PBmT8ikuOjaO4g9Pj7U85/PTeG5fYADXRzkDuI7ootEPLNWY0fiXvXMorm619vsy+xOZNVZRYVxvc6pyFMVTU3imXKNRk3XU6C1V2cZ9t/panvsuVDTE4Je/+MxyW20pz78rKOBjsnwOD0284OY+ZXsK+ZimRdZS/H0F1yEBQJtRM/WEMbMv79A0iuOM4zHCqH/af4zrDacl8ww/AHh++f9Q/MmffkHx8ok8zzCnYALFLZ0BFD/2Jq+5+d/mWJ6z6AK/V5mLdlKcv597smXM5XmhR/ZzDVa9h/MoOohrIoN66CsnInKn8Okqwra2NmRmZiI1NRX19fVYv349ioqsRb8ivlBeiYiIv/G5D9bq1atx5swZ5OfnY/HixXj66af7Yl0ywCivRETEn/i0wQoMDMTChQu74xkzZsDlctm9JhlglFciIuJvbqoGa926dcjMzLzm7cfqIlHbFIOxRl0RAEy/6zzFhyu4DqikmXsr5Z24l2Kz31FOBfdmSgnl/lIAMMSod6ox1jXJ6HN10M19sPbn8+y0BmPG3+LEcstzHi0ZTbE5J/CUh3sgVRqv6/PzvOZnkvl1jYtosDxnrVFLtiqfD3PWeJ6vN9zJtS+nXbzmoQG85tl38/tU2NQA8OG8Kb3lVfDgLoQO6cSXBzIstwUaax0dwz2nzBmV7e2cZ+FDea5iXGQdxYfd3G8NAH5yN9f2Hf56BsU//Xeek7n15Z9RPNTBx7jAw/2jGk5z7gNA6wmeB/nztFMUm6/rZ+NOUhw3gb+Cff9lruGaHGfN5SijbuvND5dSvCChjOKjh+6nuKyR5z6WXeJjMX2Ui2JPgLXHm4jIneJv3mCtWbMGxcXF2Lhxo53rkQFOeSUiIv7gb9pgrV27FtnZ2cjJyYHT6ez9ASI3QHklIiL+wucNVlZWFrZu3YqcnByEhYX1/gCRG6C8EhERf+LTBqu8vBwvv/wykpOTMXfuXACA0+lEbm5uL48UuTbllYiI+BufNljx8fHo6urq/Y7/Z8UjuzE5bggKcydbbmvv4CLcjAQXxelGofaXZfEUu1v5AsgXp/Ew28uXrS+t2hNBsVnUvuUMD0FemlzKazZ+5+TEYop3nLIWI39/gYcJ/9NobojaXMcFzVOjuLD3xXB+v8eN5OLjri5z5C5QdjaV4lcS+YxQykhuJFpUye/tWQ8XI8cN4wHTta389V1pq3UNvvA1r2aMKsH4sHp0dlkvgt3+IzcWbe/iwuxO47WaFyqMDG6itm3XYQAABcdJREFU2NPEFyFMiebGowCQksx5UFnOzU5/uXIJxbNieKj4J6X8fk+M4Pcio4cB0yGh/DuqqvnChfMXOdfLm4MpDjzDjXjLjYLzJmNgNQBMj+Vi/t88s4XivdsfpjgiiAeXDzaGkP/muc0UH8xeQHFD843nhIhIf+NzHywRERERub4+GZXT0nLljMeZ2iuXzJdetF5u3WGcDRpstFC41M7jXs6385mgug7eG5708P/RdxqXlAPAhWYvxcPa+ZL86g4+u3SmiVsgXDZ+Z2MDn+0oa7WOBKq7zGfqzjbzmJRqYxpI0SUemxLg4DV3NvDr7PJazx6VtvJZFrN1QYSx7vLmeorLWvn+LeBjYZ71qWq78virx72vXP39xU1Xzox09XAGq7KNj4HzEr/WTuOMX9NlzquWQdyyoraL48Y2fi8AwFHH96lp5GNYY+SVq4XP7Fy4zI+vbONjfqqHz88w4zF15nNe4s9TdSvff2gAP4fbaOvQ3MMZxXDj8+Co5Dwxczu0k/Oh3EiPHyp4jT8aeVjacuV193VeiYj0hUFer9fb+91889FHH2H58uV2/1rp57Zs2YJly5b12e9XXg1MfZ1XIiJ9oU82WLW1tdi1axcSExMRFBTU+wPkjtbS0gKXy4WHH34Y0dHRffY8yquB5VbllYhIX+iTDZaIiIjIQKYidxERERGbaYMlIiIiYjNtsERERERs5tcbrBdeeAFJSUlwOBw4duxY98+rq6uxcOFCjB07FhMnTsSBAwdu2xrb2tqQmZmJ1NRUpKenY8GCBSgqKup36wSABQsWYNKkSZg8eTJmzZqFI0eO9Mt19jXllb2UVyLil7x+7MCBA97y8nJvYmKi9+jRo90/f/LJJ72vvfaa1+v1evPy8rzx8fHejo6O27LG1tZW786dO7vj9evXe+fMmdPv1un1er0ej6f737dt2+ZNS0vzer39b519TXllL+WViPgjv95gXWX+IQwJCfG63e7uePr06d6cnJzbsTSLvLw8b2Jiotfr7d/r3LRpU/cf7P68zr6kvLKf8kpE/EWfdHLvz+rq6tDR0YGYmL/ObktMTERpael1HnXrrFu3DpmZmf12nStXrsS+ffvQ2dmJPXv29Nt13mr9/X1QXomI3FoDboN1LYMG3dzAYjusWbMGxcXF2LhxI5qbm3u8z+1e5+bNm7v/uWTJEhw8eLDH+93udfYX/eF9UF6JiNx6fl3k3pOoqCgMHjwYbre7+2culwsJCQm3cVXA2rVrkZ2djZ07d8LpdPbbdV61cuVKuFwueL3efr3OW6W/Hi/llYjI7TFgNlje/9ewfunSpdiwYQMAIC8vDxUVFXjooYdu19KQlZWFrVu3Yvfu3QgLC+v+eX9ap8fjQWVlZXecnZ2NkSNHIioqql+t81ZTXt0c5ZWI+Cu/HpWzatUqfPbZZ3C73YiMjERYWBgKCwtRXV2NFStW4Ny5cwgMDMT69etv23+4y8vLkZCQgOTkZISEhAAAnE4ncnNz+9U6S0tLsXTpUrS0tCAgIACxsbHIyspCWlpav1rnraC8so/ySkT8lV9vsERERERuhwHzFaGIiIjIraINloiIiIjNtMESERERsZk2WCIiIiI20wZLRERExGbaYImIiIjYTBssEREREZtpgyUiIiJiM22wRERERGymDZaIiIiIzbTBEhEREbGZNlgiIiIiNtMGS0RERMRm2mCJiIiI2EwbLBERERGbaYMlIiIiYjNtsERERERspg2WiIiIiM20wRIRERGxmTZYIiIiIjbTBktERETEZtpgiYiIiNhMGywRERERm2mDJSIiImIzbbBEREREbKYNloiIiIjNtMESERERsZk2WCIiIiI20wZLRERExGbaYImIiIjYTBssEREREZtpgyUiIiJiM22wRERERGymDZaIiIiIzbTBEhEREbGZNlgiIiIiNtMGS0RERMRm2mCJiIiI2EwbLBERERGb/S+QHem4i7f4HQAAAABJRU5ErkJggg==\" />"
      ]
     },
     "execution_count": 47,
     "metadata": {},
     "output_type": "execute_result"
    }
   ],
   "source": [
    "plot([heatmap(reshape(w211[:,i], 10,30), aspect_ratio=:equal, clims=(-0.6,0.6)) for i=1:10]...)"
   ]
  },
  {
   "cell_type": "code",
   "execution_count": 48,
   "metadata": {
    "collapsed": false,
    "jupyter": {
     "outputs_hidden": false
    }
   },
   "outputs": [
    {
     "name": "stderr",
     "output_type": "stream",
     "text": [
      "\u001b[1m\u001b[34mINFO: TempSpace: Total 1 MB allocated on CPU0\n",
      "\u001b[0m"
     ]
    }
   ],
   "source": [
    "# test on eval set\n",
    "preds = mx.predict(model, eval_provider)\n",
    "correct = 0\n",
    "for i = 1:size(preds)[2]\n",
    "    if indmax(preds[:,i]) == eval_y[i]+1\n",
    "        correct += 1\n",
    "    end\n",
    "end\n",
    "correct/size(preds)[2]"
   ]
  },
  {
   "cell_type": "markdown",
   "metadata": {},
   "source": [
    "The accuracy already seems to be stabilizing around 95%, but we will run a few more epochs to see what happens"
   ]
  },
  {
   "cell_type": "markdown",
   "metadata": {},
   "source": [
    "## Train model 20 epochs "
   ]
  },
  {
   "cell_type": "code",
   "execution_count": 49,
   "metadata": {
    "collapsed": false,
    "jupyter": {
     "outputs_hidden": false
    },
    "scrolled": true
   },
   "outputs": [
    {
     "name": "stderr",
     "output_type": "stream",
     "text": [
      "\u001b[1m\u001b[34mINFO: Start training on MXNet.mx.Context[CPU0]\n",
      "\u001b[0m\u001b[1m\u001b[34mINFO: Initializing parameters...\n",
      "\u001b[0m\u001b[1m\u001b[34mINFO: Creating KVStore...\n",
      "\u001b[0m\u001b[1m\u001b[34mINFO: TempSpace: Total 4 MB allocated on CPU0\n",
      "\u001b[0m\u001b[1m\u001b[34mINFO: Start training...\n",
      "\u001b[0m\u001b[1m\u001b[34mINFO: == Epoch 001/010 ==========\n",
      "\u001b[0m\u001b[1m\u001b[34mINFO: ## Training summary\n",
      "\u001b[0m\u001b[1m\u001b[34mINFO:           accuracy = 0.9494\n",
      "\u001b[0m\u001b[1m\u001b[34mINFO:               time = 8.3934 seconds\n",
      "\u001b[0m\u001b[1m\u001b[34mINFO: ## Validation summary\n",
      "\u001b[0m\u001b[1m\u001b[34mINFO:           accuracy = 0.9477\n",
      "\u001b[0m\u001b[1m\u001b[34mINFO: == Epoch 002/010 ==========\n",
      "\u001b[0m\u001b[1m\u001b[34mINFO: ## Training summary\n",
      "\u001b[0m\u001b[1m\u001b[34mINFO:           accuracy = 0.9522\n",
      "\u001b[0m\u001b[1m\u001b[34mINFO:               time = 8.7644 seconds\n",
      "\u001b[0m\u001b[1m\u001b[34mINFO: ## Validation summary\n",
      "\u001b[0m\u001b[1m\u001b[34mINFO:           accuracy = 0.9524\n",
      "\u001b[0m\u001b[1m\u001b[34mINFO: == Epoch 003/010 ==========\n",
      "\u001b[0m\u001b[1m\u001b[34mINFO: ## Training summary\n",
      "\u001b[0m\u001b[1m\u001b[34mINFO:           accuracy = 0.9553\n",
      "\u001b[0m\u001b[1m\u001b[34mINFO:               time = 8.9129 seconds\n",
      "\u001b[0m\u001b[1m\u001b[34mINFO: ## Validation summary\n",
      "\u001b[0m\u001b[1m\u001b[34mINFO:           accuracy = 0.9527\n",
      "\u001b[0m\u001b[1m\u001b[34mINFO: == Epoch 004/010 ==========\n",
      "\u001b[0m\u001b[1m\u001b[34mINFO: ## Training summary\n",
      "\u001b[0m\u001b[1m\u001b[34mINFO:           accuracy = 0.9586\n",
      "\u001b[0m\u001b[1m\u001b[34mINFO:               time = 8.4194 seconds\n",
      "\u001b[0m\u001b[1m\u001b[34mINFO: ## Validation summary\n",
      "\u001b[0m\u001b[1m\u001b[34mINFO:           accuracy = 0.9558\n",
      "\u001b[0m\u001b[1m\u001b[34mINFO: == Epoch 005/010 ==========\n",
      "\u001b[0m\u001b[1m\u001b[34mINFO: ## Training summary\n",
      "\u001b[0m\u001b[1m\u001b[34mINFO:           accuracy = 0.9613\n",
      "\u001b[0m\u001b[1m\u001b[34mINFO:               time = 8.2062 seconds\n",
      "\u001b[0m\u001b[1m\u001b[34mINFO: ## Validation summary\n",
      "\u001b[0m\u001b[1m\u001b[34mINFO:           accuracy = 0.9571\n",
      "\u001b[0m\u001b[1m\u001b[34mINFO: == Epoch 006/010 ==========\n",
      "\u001b[0m\u001b[1m\u001b[34mINFO: ## Training summary\n",
      "\u001b[0m\u001b[1m\u001b[34mINFO:           accuracy = 0.9637\n",
      "\u001b[0m\u001b[1m\u001b[34mINFO:               time = 7.6110 seconds\n",
      "\u001b[0m\u001b[1m\u001b[34mINFO: ## Validation summary\n",
      "\u001b[0m\u001b[1m\u001b[34mINFO:           accuracy = 0.9586\n",
      "\u001b[0m\u001b[1m\u001b[34mINFO: == Epoch 007/010 ==========\n",
      "\u001b[0m\u001b[1m\u001b[34mINFO: ## Training summary\n",
      "\u001b[0m\u001b[1m\u001b[34mINFO:           accuracy = 0.9666\n",
      "\u001b[0m\u001b[1m\u001b[34mINFO:               time = 8.5968 seconds\n",
      "\u001b[0m\u001b[1m\u001b[34mINFO: ## Validation summary\n",
      "\u001b[0m\u001b[1m\u001b[34mINFO:           accuracy = 0.9579\n",
      "\u001b[0m\u001b[1m\u001b[34mINFO: == Epoch 008/010 ==========\n",
      "\u001b[0m\u001b[1m\u001b[34mINFO: ## Training summary\n",
      "\u001b[0m\u001b[1m\u001b[34mINFO:           accuracy = 0.9676\n",
      "\u001b[0m\u001b[1m\u001b[34mINFO:               time = 8.1803 seconds\n",
      "\u001b[0m\u001b[1m\u001b[34mINFO: ## Validation summary\n",
      "\u001b[0m\u001b[1m\u001b[34mINFO:           accuracy = 0.9600\n",
      "\u001b[0m\u001b[1m\u001b[34mINFO: == Epoch 009/010 ==========\n",
      "\u001b[0m\u001b[1m\u001b[34mINFO: ## Training summary\n",
      "\u001b[0m\u001b[1m\u001b[34mINFO:           accuracy = 0.9694\n",
      "\u001b[0m\u001b[1m\u001b[34mINFO:               time = 8.5670 seconds\n",
      "\u001b[0m\u001b[1m\u001b[34mINFO: ## Validation summary\n",
      "\u001b[0m\u001b[1m\u001b[34mINFO:           accuracy = 0.9596\n",
      "\u001b[0m\u001b[1m\u001b[34mINFO: == Epoch 010/010 ==========\n",
      "\u001b[0m\u001b[1m\u001b[34mINFO: ## Training summary\n",
      "\u001b[0m\u001b[1m\u001b[34mINFO:           accuracy = 0.9716\n",
      "\u001b[0m\u001b[1m\u001b[34mINFO:               time = 8.7106 seconds\n",
      "\u001b[0m\u001b[1m\u001b[34mINFO: ## Validation summary\n",
      "\u001b[0m"
     ]
    },
    {
     "name": "stdout",
     "output_type": "stream",
     "text": [
      " 93.436206 seconds (3.92 M allocations: 2.322 GB, 6.35% gc time)\n"
     ]
    },
    {
     "name": "stderr",
     "output_type": "stream",
     "text": [
      "\u001b[1m\u001b[34mINFO:           accuracy = 0.9629\n",
      "\u001b[0m\u001b[1m\u001b[34mINFO: Finish training on MXNet.mx.Context[CPU0]\n",
      "\u001b[0m"
     ]
    }
   ],
   "source": [
    "@time mx.fit(model, optimizer, train_provider, eval_data=eval_provider, n_epoch=10)"
   ]
  },
  {
   "cell_type": "markdown",
   "metadata": {},
   "source": [
    "It looks like it might have improved to 97%, but that is on the eval set.  Let's go ahead and make predictions with the model we have trained using the Kaggle test set and create a file that can be submitted on the website.  Note that running a prediction is a lot faster than training."
   ]
  },
  {
   "cell_type": "markdown",
   "metadata": {},
   "source": [
    "## run on test set"
   ]
  },
  {
   "cell_type": "code",
   "execution_count": 50,
   "metadata": {
    "collapsed": false,
    "jupyter": {
     "outputs_hidden": false
    }
   },
   "outputs": [
    {
     "name": "stdout",
     "output_type": "stream",
     "text": [
      " 26"
     ]
    }
   ],
   "source": [
    "@time test = readtable(\"data/test.csv\");"
   ]
  },
  {
   "cell_type": "code",
   "execution_count": 51,
   "metadata": {
    "collapsed": false,
    "jupyter": {
     "outputs_hidden": false
    }
   },
   "outputs": [
    {
     "data": {
      "text/plain": [
       "(28000,784)"
      ]
     },
     "execution_count": 51,
     "metadata": {},
     "output_type": "execute_result"
    }
   ],
   "source": [
    "size(test)"
   ]
  },
  {
   "cell_type": "code",
   "execution_count": 52,
   "metadata": {
    "collapsed": false,
    "jupyter": {
     "outputs_hidden": false
    }
   },
   "outputs": [
    {
     "data": {
      "text/plain": [
       "784×28000 Array{Int64,2}:\n",
       " 0  0  0  0  0  0  0  0  0  0  0  0  …  0  0  0  0  0  0  0  0   0  0  0  0\n",
       " 0  0  0  0  0  0  0  0  0  0  0  0     0  0  0  0  0  0  0  0   0  0  0  0\n",
       " 0  0  0  0  0  0  0  0  0  0  0  0     0  0  0  0  0  0  0  0   0  0  0  0\n",
       " 0  0  0  0  0  0  0  0  0  0  0  0     0  0  0  0  0  0  0  0   0  0  0  0\n",
       " 0  0  0  0  0  0  0  0  0  0  0  0     0  0  0  0  0  0  0  0   0  0  0  0\n",
       " 0  0  0  0  0  0  0  0  0  0  0  0  …  0  0  0  0  0  0  0  0   0  0  0  0\n",
       " 0  0  0  0  0  0  0  0  0  0  0  0     0  0  0  0  0  0  0  0   0  0  0  0\n",
       " 0  0  0  0  0  0  0  0  0  0  0  0     0  0  0  0  0  0  0  0   0  0  0  0\n",
       " 0  0  0  0  0  0  0  0  0  0  0  0     0  0  0  0  0  0  0  0   0  0  0  0\n",
       " 0  0  0  0  0  0  0  0  0  0  0  0     0  0  0  0  0  0  0  0   0  0  0  0\n",
       " 0  0  0  0  0  0  0  0  0  0  0  0  …  0  0  0  0  0  0  0  0   0  0  0  0\n",
       " 0  0  0  0  0  0  0  0  0  0  0  0     0  0  0  0  0  0  0  0   0  0  0  0\n",
       " 0  0  0  0  0  0  0  0  0  0  0  0     0  0  0  0  0  0  0  0   0  0  0  0\n",
       " ⋮              ⋮              ⋮     ⋱        ⋮              ⋮             \n",
       " 0  0  0  0  0  0  0  0  0  0  0  0     0  0  0  0  0  0  0  0  20  0  0  0\n",
       " 0  0  0  0  0  0  0  0  0  0  0  0     0  0  0  0  0  0  0  0   0  0  0  0\n",
       " 0  0  0  0  0  0  0  0  0  0  0  0     0  0  0  0  0  0  0  0   0  0  0  0\n",
       " 0  0  0  0  0  0  0  0  0  0  0  0  …  0  0  0  0  0  0  0  0   0  0  0  0\n",
       " 0  0  0  0  0  0  0  0  0  0  0  0     0  0  0  0  0  0  0  0   0  0  0  0\n",
       " 0  0  0  0  0  0  0  0  0  0  0  0     0  0  0  0  0  0  0  0   0  0  0  0\n",
       " 0  0  0  0  0  0  0  0  0  0  0  0     0  0  0  0  0  0  0  0   0  0  0  0\n",
       " 0  0  0  0  0  0  0  0  0  0  0  0     0  0  0  0  0  0  0  0   0  0  0  0\n",
       " 0  0  0  0  0  0  0  0  0  0  0  0  …  0  0  0  0  0  0  0  0   0  0  0  0\n",
       " 0  0  0  0  0  0  0  0  0  0  0  0     0  0  0  0  0  0  0  0   0  0  0  0\n",
       " 0  0  0  0  0  0  0  0  0  0  0  0     0  0  0  0  0  0  0  0   0  0  0  0\n",
       " 0  0  0  0  0  0  0  0  0  0  0  0     0  0  0  0  0  0  0  0   0  0  0  0"
      ]
     },
     "execution_count": 52,
     "metadata": {},
     "output_type": "execute_result"
    }
   ],
   "source": [
    "test_X = transpose(Array(test))"
   ]
  },
  {
   "cell_type": "code",
   "execution_count": 53,
   "metadata": {
    "collapsed": false,
    "jupyter": {
     "outputs_hidden": false
    }
   },
   "outputs": [
    {
     "data": {
      "text/html": [
       "<img src=\"data:image/png;base64,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\" />"
      ]
     },
     "execution_count": 53,
     "metadata": {},
     "output_type": "execute_result"
    }
   ],
   "source": [
    "plot([heatmap(rotl90(reshape(Array(test_X[1:end,i]), 28, 28)), aspect_ratio=:equal) for i=1:16]...)"
   ]
  },
  {
   "cell_type": "code",
   "execution_count": 54,
   "metadata": {
    "collapsed": false,
    "jupyter": {
     "outputs_hidden": false
    }
   },
   "outputs": [
    {
     "data": {
      "text/plain": [
       "(0,255)"
      ]
     },
     "execution_count": 54,
     "metadata": {},
     "output_type": "execute_result"
    }
   ],
   "source": [
    "extrema(test_X)"
   ]
  },
  {
   "cell_type": "code",
   "execution_count": 55,
   "metadata": {
    "collapsed": false,
    "jupyter": {
     "outputs_hidden": false
    }
   },
   "outputs": [
    {
     "data": {
      "text/plain": [
       "33.3515450983965"
      ]
     },
     "execution_count": 55,
     "metadata": {},
     "output_type": "execute_result"
    }
   ],
   "source": [
    "mean(test_X)"
   ]
  },
  {
   "cell_type": "code",
   "execution_count": 56,
   "metadata": {
    "collapsed": false,
    "jupyter": {
     "outputs_hidden": false
    }
   },
   "outputs": [],
   "source": [
    "# scale test_X to range 0-1\n",
    "test_X = test_X./255;"
   ]
  },
  {
   "cell_type": "code",
   "execution_count": 57,
   "metadata": {
    "collapsed": false,
    "jupyter": {
     "outputs_hidden": false
    }
   },
   "outputs": [
    {
     "data": {
      "text/plain": [
       "MXNet.mx.ArrayDataProvider(Array{Float32,N}[\n",
       "Float32[0.0 0.0 … 0.0 0.0; 0.0 0.0 … 0.0 0.0; … ; 0.0 0.0 … 0.0 0.0; 0.0 0.0 … 0.0 0.0]],Symbol[:data],Array{Float32,N}[],Symbol[],1000,28000,false,0.0f0,0.0f0,MXNet.mx.NDArray[mx.NDArray{Float32}(784,1000)],MXNet.mx.NDArray[])"
      ]
     },
     "execution_count": 57,
     "metadata": {},
     "output_type": "execute_result"
    }
   ],
   "source": [
    "test_provider = mx.ArrayDataProvider(test_X, batch_size=batch_size, shuffle=false)"
   ]
  },
  {
   "cell_type": "code",
   "execution_count": 58,
   "metadata": {
    "collapsed": false,
    "jupyter": {
     "outputs_hidden": false
    }
   },
   "outputs": [
    {
     "name": "stderr",
     "output_type": "stream",
     "text": [
      "\u001b[1m\u001b[34mINFO: TempSpace: Total 1 MB allocated on CPU0\n",
      "\u001b[0m"
     ]
    },
    {
     "name": "stdout",
     "output_type": "stream",
     "text": [
      "  4.253657 seconds (20.44 k allocations: 86.709 MB, 10.64% gc time)\n"
     ]
    },
    {
     "data": {
      "text/plain": [
       "10×28000 Array{Float32,2}:\n",
       " 3.32992f-5   0.998368     1.43607f-5   …  1.062f-6     2.4091f-5  \n",
       " 1.16891f-10  3.90927f-8   0.000117007     1.37874f-8   2.84631f-9 \n",
       " 0.999818     0.000398155  7.91866f-5      5.73282f-7   0.999624   \n",
       " 0.00013095   1.55586f-5   0.000858953     0.00192545   0.000157291\n",
       " 7.27301f-7   1.95835f-9   0.0574737       0.0149685    6.15969f-5 \n",
       " 2.27206f-7   0.00120688   0.00746393   …  0.000177767  1.21758f-5 \n",
       " 2.64876f-7   7.05455f-6   1.17546f-5      1.13237f-7   5.25664f-6 \n",
       " 8.56755f-7   3.20001f-6   0.00172127      0.000133627  7.38207f-8 \n",
       " 1.45219f-5   1.30237f-6   0.0118794       7.05102f-5   0.000103447\n",
       " 1.1988f-6    2.87172f-7   0.92038         0.982722     1.20239f-5 "
      ]
     },
     "execution_count": 58,
     "metadata": {},
     "output_type": "execute_result"
    }
   ],
   "source": [
    "# this uses the previously trained model and the DataProvider specified above\n",
    "@time tpreds = mx.predict(model, test_provider)"
   ]
  },
  {
   "cell_type": "code",
   "execution_count": 59,
   "metadata": {
    "collapsed": false,
    "jupyter": {
     "outputs_hidden": false
    }
   },
   "outputs": [],
   "source": [
    "# create submission\n",
    "open(\"MLP1submission.csv\", \"w\") do f\n",
    "    write(f, \"ImageId,Label\\n\")\n",
    "    for i = 1:size(tpreds)[2]\n",
    "        write(f, string(i),\",\",string(indmax(tpreds[:,i])-1),\"\\n\")\n",
    "    end\n",
    "end"
   ]
  },
  {
   "cell_type": "markdown",
   "metadata": {},
   "source": [
    "When I submit the resulting file to https://kaggle.com/c/digit-recognizer/submit, I get a score of 0.95200.  which is pretty close to the error rate of 4.7% reported above for this network.  The validation accuracy was just beginning to plateau so it isn't clear if we could get a little more out of training, but I'm more interested here in demonstrating creating the two layer network.  We will duplicate the 300-100 net that got an error rate of 4.5%."
   ]
  },
  {
   "cell_type": "markdown",
   "metadata": {},
   "source": [
    "# MLP - two layer"
   ]
  },
  {
   "cell_type": "markdown",
   "metadata": {},
   "source": [
    "Here we define a new, two layer network with two FullyConnected Layers and tanh activations.  We could use code similar to last time:\n",
    "```\n",
    "data = mx.Variable(:data)\n",
    "fc1 = mx.FullyConnected(data, name=:fc1, num_hidden=300)\n",
    "act1 = mx.Activation(fc1, name=:relu1, act_type=:relu)\n",
    "fc2 = mx.FullyConnected(act1, name=:fc2, num_hidden=100)\n",
    "act2 = mx.Activation(fc2, name=:relu2, act_type=:relu)\n",
    "fc3 = mx.FullyConnected(act2, name=:fc3, num_hidden=10)\n",
    "mlp2 = mx.SoftmaxOutput(fc3, name=:softmax)\n",
    "```\n",
    "but, to demonstrate a shortcut, we will use the MXNet chain macro to create this net using `=>` connections."
   ]
  },
  {
   "cell_type": "code",
   "execution_count": 60,
   "metadata": {
    "collapsed": false,
    "jupyter": {
     "outputs_hidden": false
    }
   },
   "outputs": [
    {
     "data": {
      "text/plain": [
       "MXNet.mx.SymbolicNode(MXNet.mx.MX_SymbolHandle(Ptr{Void} @0x000000001cfa0a10))"
      ]
     },
     "execution_count": 60,
     "metadata": {},
     "output_type": "execute_result"
    }
   ],
   "source": [
    "# define new network\n",
    "mlp2 = @mx.chain mx.Variable(:data) => \n",
    " mx.FullyConnected(name=:fc1, num_hidden=300) =>\n",
    "mx.Activation(name=:tanh1, act_type=:tanh) =>\n",
    " mx.FullyConnected(name=:fc2, num_hidden=100) =>\n",
    "mx.Activation(name=:tanh2, act_type=:tanh) =>\n",
    " mx.FullyConnected(name=:fc3, num_hidden=10) =>\n",
    " mx.SoftmaxOutput(name=:softmax)"
   ]
  },
  {
   "cell_type": "markdown",
   "metadata": {},
   "source": [
    "## Display model"
   ]
  },
  {
   "cell_type": "code",
   "execution_count": 61,
   "metadata": {
    "collapsed": false,
    "jupyter": {
     "outputs_hidden": false
    }
   },
   "outputs": [],
   "source": [
    "# save file - note that the `do` block automatically closes the filestream\n",
    "open(\"mlp2graph.dot\", \"w\") do fs\n",
    "    print(fs, mx.to_graphviz(mlp2))\n",
    "end"
   ]
  },
  {
   "cell_type": "code",
   "execution_count": 62,
   "metadata": {
    "collapsed": true,
    "jupyter": {
     "outputs_hidden": true
    }
   },
   "outputs": [],
   "source": [
    "# we can run the `dot` program to convert to png if it is installed on your computer\n",
    "run(pipeline(`dot -Tpng mlp2graph.dot`, stdout=\"mlp2graph.png\"))"
   ]
  },
  {
   "cell_type": "markdown",
   "metadata": {},
   "source": [
    "We can display this file:\n",
    "![mlp2graph.png](mlp2graph.png)"
   ]
  },
  {
   "cell_type": "code",
   "execution_count": 63,
   "metadata": {
    "collapsed": false,
    "jupyter": {
     "outputs_hidden": false
    }
   },
   "outputs": [
    {
     "data": {
      "text/plain": [
       "MXNet.mx.FeedForward(MXNet.mx.SymbolicNode(MXNet.mx.MX_SymbolHandle(Ptr{Void} @0x000000001cfa0a10)),MXNet.mx.Context[CPU0],#undef,#undef,#undef)"
      ]
     },
     "execution_count": 63,
     "metadata": {},
     "output_type": "execute_result"
    }
   ],
   "source": [
    "# change context to gpu(number) if you have a gpu\n",
    "model = mx.FeedForward(mlp2, context=mx.cpu())"
   ]
  },
  {
   "cell_type": "markdown",
   "metadata": {},
   "source": [
    "## Train model"
   ]
  },
  {
   "cell_type": "code",
   "execution_count": 64,
   "metadata": {
    "collapsed": false,
    "jupyter": {
     "outputs_hidden": false
    }
   },
   "outputs": [
    {
     "name": "stderr",
     "output_type": "stream",
     "text": [
      "\u001b[1m\u001b[34mINFO: Start training on MXNet.mx.Context[CPU0]\n",
      "\u001b[0m\u001b[1m\u001b[34mINFO: Initializing parameters...\n",
      "\u001b[0m\u001b[1m\u001b[34mINFO: Creating KVStore...\n",
      "\u001b[0m\u001b[1m\u001b[34mINFO: TempSpace: Total 4 MB allocated on CPU0\n",
      "\u001b[0m\u001b[1m\u001b[34mINFO: Start training...\n",
      "\u001b[0m\u001b[1m\u001b[34mINFO: == Epoch 001/020 ==========\n",
      "\u001b[0m\u001b[1m\u001b[34mINFO: ## Training summary\n",
      "\u001b[0m\u001b[1m\u001b[34mINFO:           accuracy = 0.1096\n",
      "\u001b[0m\u001b[1m\u001b[34mINFO:               time = 11.8936 seconds\n",
      "\u001b[0m\u001b[1m\u001b[34mINFO: ## Validation summary\n",
      "\u001b[0m\u001b[1m\u001b[34mINFO:           accuracy = 0.1056\n",
      "\u001b[0m\u001b[1m\u001b[34mINFO: == Epoch 002/020 ==========\n",
      "\u001b[0m\u001b[1m\u001b[34mINFO: ## Training summary\n",
      "\u001b[0m\u001b[1m\u001b[34mINFO:           accuracy = 0.3144\n",
      "\u001b[0m\u001b[1m\u001b[34mINFO:               time = 12.0328 seconds\n",
      "\u001b[0m\u001b[1m\u001b[34mINFO: ## Validation summary\n",
      "\u001b[0m\u001b[1m\u001b[34mINFO:           accuracy = 0.5613\n",
      "\u001b[0m\u001b[1m\u001b[34mINFO: == Epoch 003/020 ==========\n",
      "\u001b[0m\u001b[1m\u001b[34mINFO: ## Training summary\n",
      "\u001b[0m\u001b[1m\u001b[34mINFO:           accuracy = 0.7609\n",
      "\u001b[0m\u001b[1m\u001b[34mINFO:               time = 12.0750 seconds\n",
      "\u001b[0m\u001b[1m\u001b[34mINFO: ## Validation summary\n",
      "\u001b[0m\u001b[1m\u001b[34mINFO:           accuracy = 0.8576\n",
      "\u001b[0m\u001b[1m\u001b[34mINFO: == Epoch 004/020 ==========\n",
      "\u001b[0m\u001b[1m\u001b[34mINFO: ## Training summary\n",
      "\u001b[0m\u001b[1m\u001b[34mINFO:           accuracy = 0.8721\n",
      "\u001b[0m\u001b[1m\u001b[34mINFO:               time = 11.7286 seconds\n",
      "\u001b[0m\u001b[1m\u001b[34mINFO: ## Validation summary\n",
      "\u001b[0m\u001b[1m\u001b[34mINFO:           accuracy = 0.8989\n",
      "\u001b[0m\u001b[1m\u001b[34mINFO: == Epoch 005/020 ==========\n",
      "\u001b[0m\u001b[1m\u001b[34mINFO: ## Training summary\n",
      "\u001b[0m\u001b[1m\u001b[34mINFO:           accuracy = 0.8987\n",
      "\u001b[0m\u001b[1m\u001b[34mINFO:               time = 12.1276 seconds\n",
      "\u001b[0m\u001b[1m\u001b[34mINFO: ## Validation summary\n",
      "\u001b[0m\u001b[1m\u001b[34mINFO:           accuracy = 0.9143\n",
      "\u001b[0m\u001b[1m\u001b[34mINFO: == Epoch 006/020 ==========\n",
      "\u001b[0m\u001b[1m\u001b[34mINFO: ## Training summary\n",
      "\u001b[0m\u001b[1m\u001b[34mINFO:           accuracy = 0.9137\n",
      "\u001b[0m\u001b[1m\u001b[34mINFO:               time = 12.9629 seconds\n",
      "\u001b[0m\u001b[1m\u001b[34mINFO: ## Validation summary\n",
      "\u001b[0m\u001b[1m\u001b[34mINFO:           accuracy = 0.9227\n",
      "\u001b[0m\u001b[1m\u001b[34mINFO: == Epoch 007/020 ==========\n",
      "\u001b[0m\u001b[1m\u001b[34mINFO: ## Training summary\n",
      "\u001b[0m\u001b[1m\u001b[34mINFO:           accuracy = 0.9231\n",
      "\u001b[0m\u001b[1m\u001b[34mINFO:               time = 12.6956 seconds\n",
      "\u001b[0m\u001b[1m\u001b[34mINFO: ## Validation summary\n",
      "\u001b[0m\u001b[1m\u001b[34mINFO:           accuracy = 0.9293\n",
      "\u001b[0m\u001b[1m\u001b[34mINFO: == Epoch 008/020 ==========\n",
      "\u001b[0m\u001b[1m\u001b[34mINFO: ## Training summary\n",
      "\u001b[0m\u001b[1m\u001b[34mINFO:           accuracy = 0.9311\n",
      "\u001b[0m\u001b[1m\u001b[34mINFO:               time = 13.9586 seconds\n",
      "\u001b[0m\u001b[1m\u001b[34mINFO: ## Validation summary\n",
      "\u001b[0m\u001b[1m\u001b[34mINFO:           accuracy = 0.9364\n",
      "\u001b[0m\u001b[1m\u001b[34mINFO: == Epoch 009/020 ==========\n",
      "\u001b[0m\u001b[1m\u001b[34mINFO: ## Training summary\n",
      "\u001b[0m\u001b[1m\u001b[34mINFO:           accuracy = 0.9381\n",
      "\u001b[0m\u001b[1m\u001b[34mINFO:               time = 14.6798 seconds\n",
      "\u001b[0m\u001b[1m\u001b[34mINFO: ## Validation summary\n",
      "\u001b[0m\u001b[1m\u001b[34mINFO:           accuracy = 0.9411\n",
      "\u001b[0m\u001b[1m\u001b[34mINFO: == Epoch 010/020 ==========\n",
      "\u001b[0m\u001b[1m\u001b[34mINFO: ## Training summary\n",
      "\u001b[0m\u001b[1m\u001b[34mINFO:           accuracy = 0.9443\n",
      "\u001b[0m\u001b[1m\u001b[34mINFO:               time = 12.7957 seconds\n",
      "\u001b[0m\u001b[1m\u001b[34mINFO: ## Validation summary\n",
      "\u001b[0m\u001b[1m\u001b[34mINFO:           accuracy = 0.9454\n",
      "\u001b[0m\u001b[1m\u001b[34mINFO: == Epoch 011/020 ==========\n",
      "\u001b[0m\u001b[1m\u001b[34mINFO: ## Training summary\n",
      "\u001b[0m\u001b[1m\u001b[34mINFO:           accuracy = 0.9491\n",
      "\u001b[0m\u001b[1m\u001b[34mINFO:               time = 12.6748 seconds\n",
      "\u001b[0m\u001b[1m\u001b[34mINFO: ## Validation summary\n",
      "\u001b[0m\u001b[1m\u001b[34mINFO:           accuracy = 0.9521\n",
      "\u001b[0m\u001b[1m\u001b[34mINFO: == Epoch 012/020 ==========\n",
      "\u001b[0m\u001b[1m\u001b[34mINFO: ## Training summary\n",
      "\u001b[0m\u001b[1m\u001b[34mINFO:           accuracy = 0.9544\n",
      "\u001b[0m\u001b[1m\u001b[34mINFO:               time = 13.5925 seconds\n",
      "\u001b[0m\u001b[1m\u001b[34mINFO: ## Validation summary\n",
      "\u001b[0m\u001b[1m\u001b[34mINFO:           accuracy = 0.9556\n",
      "\u001b[0m\u001b[1m\u001b[34mINFO: == Epoch 013/020 ==========\n",
      "\u001b[0m\u001b[1m\u001b[34mINFO: ## Training summary\n",
      "\u001b[0m\u001b[1m\u001b[34mINFO:           accuracy = 0.9591\n",
      "\u001b[0m\u001b[1m\u001b[34mINFO:               time = 13.5508 seconds\n",
      "\u001b[0m\u001b[1m\u001b[34mINFO: ## Validation summary\n",
      "\u001b[0m\u001b[1m\u001b[34mINFO:           accuracy = 0.9570\n",
      "\u001b[0m\u001b[1m\u001b[34mINFO: == Epoch 014/020 ==========\n",
      "\u001b[0m\u001b[1m\u001b[34mINFO: ## Training summary\n",
      "\u001b[0m\u001b[1m\u001b[34mINFO:           accuracy = 0.9620\n",
      "\u001b[0m\u001b[1m\u001b[34mINFO:               time = 12.6269 seconds\n",
      "\u001b[0m\u001b[1m\u001b[34mINFO: ## Validation summary\n",
      "\u001b[0m\u001b[1m\u001b[34mINFO:           accuracy = 0.9554\n",
      "\u001b[0m\u001b[1m\u001b[34mINFO: == Epoch 015/020 ==========\n",
      "\u001b[0m\u001b[1m\u001b[34mINFO: ## Training summary\n",
      "\u001b[0m\u001b[1m\u001b[34mINFO:           accuracy = 0.9640\n",
      "\u001b[0m\u001b[1m\u001b[34mINFO:               time = 12.5352 seconds\n",
      "\u001b[0m\u001b[1m\u001b[34mINFO: ## Validation summary\n",
      "\u001b[0m\u001b[1m\u001b[34mINFO:           accuracy = 0.9579\n",
      "\u001b[0m\u001b[1m\u001b[34mINFO: == Epoch 016/020 ==========\n",
      "\u001b[0m\u001b[1m\u001b[34mINFO: ## Training summary\n",
      "\u001b[0m\u001b[1m\u001b[34mINFO:           accuracy = 0.9683\n",
      "\u001b[0m\u001b[1m\u001b[34mINFO:               time = 11.9030 seconds\n",
      "\u001b[0m\u001b[1m\u001b[34mINFO: ## Validation summary\n",
      "\u001b[0m\u001b[1m\u001b[34mINFO:           accuracy = 0.9607\n",
      "\u001b[0m\u001b[1m\u001b[34mINFO: == Epoch 017/020 ==========\n",
      "\u001b[0m\u001b[1m\u001b[34mINFO: ## Training summary\n",
      "\u001b[0m\u001b[1m\u001b[34mINFO:           accuracy = 0.9711\n",
      "\u001b[0m\u001b[1m\u001b[34mINFO:               time = 13.4604 seconds\n",
      "\u001b[0m\u001b[1m\u001b[34mINFO: ## Validation summary\n",
      "\u001b[0m\u001b[1m\u001b[34mINFO:           accuracy = 0.9604\n",
      "\u001b[0m\u001b[1m\u001b[34mINFO: == Epoch 018/020 ==========\n",
      "\u001b[0m\u001b[1m\u001b[34mINFO: ## Training summary\n",
      "\u001b[0m\u001b[1m\u001b[34mINFO:           accuracy = 0.9729\n",
      "\u001b[0m\u001b[1m\u001b[34mINFO:               time = 11.2488 seconds\n",
      "\u001b[0m\u001b[1m\u001b[34mINFO: ## Validation summary\n",
      "\u001b[0m\u001b[1m\u001b[34mINFO:           accuracy = 0.9611\n",
      "\u001b[0m\u001b[1m\u001b[34mINFO: == Epoch 019/020 ==========\n",
      "\u001b[0m\u001b[1m\u001b[34mINFO: ## Training summary\n",
      "\u001b[0m\u001b[1m\u001b[34mINFO:           accuracy = 0.9736\n",
      "\u001b[0m\u001b[1m\u001b[34mINFO:               time = 13.9827 seconds\n",
      "\u001b[0m\u001b[1m\u001b[34mINFO: ## Validation summary\n",
      "\u001b[0m\u001b[1m\u001b[34mINFO:           accuracy = 0.9648\n",
      "\u001b[0m\u001b[1m\u001b[34mINFO: == Epoch 020/020 ==========\n",
      "\u001b[0m\u001b[1m\u001b[34mINFO: ## Training summary\n",
      "\u001b[0m\u001b[1m\u001b[34mINFO:           accuracy = 0.9768\n",
      "\u001b[0m\u001b[1m\u001b[34mINFO:               time = 13.0553 seconds\n",
      "\u001b[0m\u001b[1m\u001b[34mINFO: ## Validation summary\n",
      "\u001b[0m\u001b[1m\u001b[34mINFO:           accuracy = 0.9644\n",
      "\u001b[0m\u001b[1m\u001b[34mINFO: Finish training on MXNet.mx.Context[CPU0]\n",
      "\u001b[0m"
     ]
    },
    {
     "name": "stdout",
     "output_type": "stream",
     "text": [
      "282.506040 seconds (8.59 M allocations: 4.680 GB, 4.63% gc time)\n"
     ]
    }
   ],
   "source": [
    "@time mx.fit(model, optimizer, train_provider, eval_data=eval_provider, n_epoch=20)"
   ]
  },
  {
   "cell_type": "markdown",
   "metadata": {},
   "source": [
    "After 20 epochs of training, we seem to be hitting a ceiling on validation accuracy.  Let's use this newly trained model to predict on the test set and submit to Kaggle."
   ]
  },
  {
   "cell_type": "code",
   "execution_count": 65,
   "metadata": {
    "collapsed": false,
    "jupyter": {
     "outputs_hidden": false
    }
   },
   "outputs": [
    {
     "name": "stderr",
     "output_type": "stream",
     "text": [
      "\u001b[1m\u001b[34mINFO: TempSpace: Total 1 MB allocated on CPU0\n",
      "\u001b[0m"
     ]
    },
    {
     "name": "stdout",
     "output_type": "stream",
     "text": [
      "  3.578575 seconds (5.62 k allocations: 86.121 MB, 0.41% gc time)\n"
     ]
    },
    {
     "data": {
      "text/plain": [
       "10×28000 Array{Float32,2}:\n",
       " 3.17956f-5   0.999099     1.12871f-6   …  1.32057f-6   6.29556f-6 \n",
       " 5.82953f-8   1.96553f-8   0.000100165     3.53726f-8   1.18404f-7 \n",
       " 0.99966      0.000367172  1.80263f-6      1.26685f-6   0.999141   \n",
       " 0.000230099  1.24621f-6   8.82856f-5      0.0032008    0.000576255\n",
       " 5.89889f-6   1.49464f-7   0.0208702       0.0349224    5.21555f-5 \n",
       " 1.43514f-7   0.000451465  0.000577244  …  0.000289193  7.39706f-7 \n",
       " 9.90732f-7   7.13181f-5   6.17309f-7      2.8054f-7    1.98969f-6 \n",
       " 1.8722f-5    4.91723f-6   0.000499786     0.00010417   4.51312f-6 \n",
       " 5.00769f-5   1.48886f-6   0.00483644      0.000480367  0.00021646 \n",
       " 1.78278f-6   3.23831f-6   0.973024        0.961        1.00423f-6 "
      ]
     },
     "execution_count": 65,
     "metadata": {},
     "output_type": "execute_result"
    }
   ],
   "source": [
    "# this uses the recently trained model and the same DataProvider on the test set \n",
    "@time tpreds = mx.predict(model, test_provider)"
   ]
  },
  {
   "cell_type": "code",
   "execution_count": 66,
   "metadata": {
    "collapsed": false,
    "jupyter": {
     "outputs_hidden": false
    }
   },
   "outputs": [],
   "source": [
    "# create submission\n",
    "open(\"MLP2submission.csv\", \"w\") do f\n",
    "    write(f, \"ImageId,Label\\n\")\n",
    "    for i = 1:size(tpreds)[2]\n",
    "        write(f, string(i),\",\",string(indmax(tpreds[:,i])-1),\"\\n\")\n",
    "    end\n",
    "end"
   ]
  },
  {
   "cell_type": "markdown",
   "metadata": {},
   "source": [
    "When I submit this new file to Kaggle, I get a score of 0.95657, which is similar to the error of 4.5% from the LeCun paper. Creating MLPs is very easy with MXNet and there is even an `MLP()` constructor.  The equivalent code for this is:\n",
    "```\n",
    "mlp2 = @mx.chain mx.Variable(:data) =>\n",
    "  mx.MLP([300, 100, 10]) =>\n",
    "  mx.SoftmaxOutput(name=:softmax)\n",
    "```\n",
    "Running this model for 20 epochs and submitting to Kaggle got me a better score of 0.96543.  I'm not sure why yet, although the defaults for this constructor are different.  For example, `MLP()` defaults to using `:relu` activations which have become more standard as they are faster than the original `:tanh` activations I used.  ReLU do have problems at zero due to the discontinuity there, so other variants like LeakyReLU have been developed as mentioned above.\n",
    "\n",
    "I hope this notebook has been helpful.  Please leave a comment if you have suggestions for improvement."
   ]
  },
  {
   "cell_type": "markdown",
   "metadata": {},
   "source": [
    "[<img style=\"float: left;\" src=\"https://i.creativecommons.org/l/by-sa/4.0/88x31.png\">](http://creativecommons.org/licenses/by-sa/4.0/)  \n",
    "\n",
    "Licensed under a [Creative Commons Attribution-ShareAlike 4.0 International License](http://creativecommons.org/licenses/by-sa/4.0/)."
   ]
  }
 ],
 "metadata": {
  "kernelspec": {
   "display_name": "Julia 1.1.1",
   "language": "julia",
   "name": "julia-1.1"
  },
  "language_info": {
   "file_extension": ".jl",
   "mimetype": "application/julia",
   "name": "julia",
   "version": "1.1.1"
  },
  "toc": {
   "nav_menu": {
    "height": "150px",
    "width": "252px"
   },
   "navigate_menu": true,
   "number_sections": true,
   "sideBar": true,
   "threshold": 4,
   "toc_cell": false,
   "toc_section_display": "block",
   "toc_window_display": false
  }
 },
 "nbformat": 4,
 "nbformat_minor": 4
}
